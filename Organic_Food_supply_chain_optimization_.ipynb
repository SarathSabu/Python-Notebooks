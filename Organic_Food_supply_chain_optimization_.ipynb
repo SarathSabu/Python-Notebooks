{
  "cells": [
    {
      "cell_type": "markdown",
      "metadata": {
        "id": "view-in-github",
        "colab_type": "text"
      },
      "source": [
        "<a href=\"https://colab.research.google.com/github/SarathSabu/Python-Notebooks/blob/main/Organic_Food_supply_chain_optimization_.ipynb\" target=\"_parent\"><img src=\"https://colab.research.google.com/assets/colab-badge.svg\" alt=\"Open In Colab\"/></a>"
      ]
    },
    {
      "cell_type": "markdown",
      "metadata": {
        "id": "StdjZOILroyz"
      },
      "source": [
        "\n",
        "## Organic Food Supply Chain Optimisation\n",
        "\n"
      ]
    },
    {
      "cell_type": "markdown",
      "metadata": {
        "id": "7o0PxXyYKwc5"
      },
      "source": [
        "Install amplpy, pandas and other packages."
      ]
    },
    {
      "cell_type": "code",
      "execution_count": null,
      "metadata": {
        "id": "G004pZj1XA_0"
      },
      "outputs": [],
      "source": [
        "!pip install -q amplpy ampltools"
      ]
    },
    {
      "cell_type": "markdown",
      "metadata": {
        "id": "G42yc42srDoN"
      },
      "source": [
        "Setup AMPL and select solvers."
      ]
    },
    {
      "cell_type": "code",
      "execution_count": null,
      "metadata": {
        "colab": {
          "base_uri": "https://localhost:8080/"
        },
        "id": "bY6nMq3DXIQ9",
        "outputId": "aa3d2ec0-bbbe-4bf1-b75e-f3df5105a857"
      },
      "outputs": [
        {
          "output_type": "stream",
          "name": "stdout",
          "text": [
            "Licensed to Bundle #6741.7193 expiring 20241231: INFO 645 Prescriptive Analytics, Prof. Paul Brooks, Virginia Commonwealth University.\n"
          ]
        }
      ],
      "source": [
        "# Google Colab & AMPL integration\n",
        "MODULES, LICENSE_UUID = [\"coin\", 'gurobi', \"cplex\", \"highs\", \"gokestrel\"], \"42fc7eb6-69aa-445d-b655-3ad24d836541\"\n",
        "from amplpy import tools\n",
        "from ampltools import cloud_platform_name, ampl_notebook, register_magics\n",
        "\n",
        "# instantiate AMPL object and register magics\n",
        "if cloud_platform_name() is None:\n",
        "    ampl = AMPL() # Use local installation of AMPL\n",
        "else:\n",
        "    ampl = tools.ampl_notebook(modules=MODULES, license_uuid=LICENSE_UUID, g=globals())\n",
        "\n",
        "register_magics(ampl_object=ampl)"
      ]
    },
    {
      "cell_type": "markdown",
      "metadata": {
        "id": "Cz7x5HAtdnxN"
      },
      "source": [
        "Mount Google Drive"
      ]
    },
    {
      "cell_type": "code",
      "execution_count": null,
      "metadata": {
        "colab": {
          "base_uri": "https://localhost:8080/"
        },
        "id": "gOWGyl1YxX9F",
        "outputId": "ee931b8b-52fd-4c28-da33-d37141c2c45e"
      },
      "outputs": [
        {
          "output_type": "stream",
          "name": "stdout",
          "text": [
            "Drive already mounted at /content/drive; to attempt to forcibly remount, call drive.mount(\"/content/drive\", force_remount=True).\n"
          ]
        }
      ],
      "source": [
        "from google.colab import drive\n",
        "drive.mount('/content/drive')"
      ]
    },
    {
      "cell_type": "markdown",
      "metadata": {
        "id": "_CNPjPv4wPfI"
      },
      "source": [
        "Read data"
      ]
    },
    {
      "cell_type": "code",
      "execution_count": null,
      "metadata": {
        "colab": {
          "base_uri": "https://localhost:8080/"
        },
        "id": "WrlhbsuRwRAb",
        "outputId": "109b4c58-fd02-4c04-be5b-42c7268d950e"
      },
      "outputs": [
        {
          "output_type": "stream",
          "name": "stdout",
          "text": [
            "Transport Orchard to Preparation Centers: {1: 0.45, 2: 1.0, 3: 1.62}\n",
            "Preparation Costs: {1: 0.15, 2: 0.2, 3: 0.18}\n",
            "Capacity: {1: 300, 2: 500, 3: 800}\n",
            "Demand: {1: 300, 2: 500, 3: 400, 4: 200}\n",
            "Transport Costs Prep Centers to Stores: {'Organic Orchard': {1: 0.8, 2: 1.2, 3: 0.2}, 'Fresh & Local': {1: 1.1, 2: 1.1, 3: 1.4}, 'Healthy Pantry': {1: 0.7, 2: 0.5, 3: 1.3}, \"Season's Harvest\": {1: 1.4, 2: 1.4, 3: 1.7}}\n"
          ]
        }
      ],
      "source": [
        "import pandas as pd\n",
        "\n",
        "# Load data from the Excel file\n",
        "file_path = '/content/drive/MyDrive/Colab Notebooks/Apple organic food.xlsx'\n",
        "\n",
        "# Load Transport Costs from Orchard to Preparation Centers\n",
        "transport_orchard_to_prep = pd.read_excel(file_path, sheet_name='TransportOrchardToPrep', index_col=0)\n",
        "transport_orchard_to_prep_dict = transport_orchard_to_prep.to_dict()['Transport Cost (Orchard to Prep)']\n",
        "\n",
        "# Load Preparation Costs\n",
        "prep_cost = pd.read_excel(file_path, sheet_name='PreparationCosts', index_col=0)\n",
        "prep_cost_dict = prep_cost.to_dict()['Preparation Cost']\n",
        "\n",
        "# Load Monthly Capacity\n",
        "capacity = pd.read_excel(file_path, sheet_name='MonthlyCapacity', index_col=0)\n",
        "capacity_dict = capacity.to_dict()['Capacity (Pounds)']\n",
        "\n",
        "# Load Demand at Stores\n",
        "demand = pd.read_excel(file_path, sheet_name='StoreDemand', index_col=0)\n",
        "demand_dict = demand.to_dict()['Demand (Pounds)']\n",
        "\n",
        "# Load Transport Costs from Preparation Centers to Stores\n",
        "transport_cost = pd.read_excel(file_path, sheet_name='TransportPrepToStores', index_col=0)\n",
        "transport_cost_dict = transport_cost.to_dict()\n",
        "\n",
        "# Display the data to verify correctness\n",
        "print(\"Transport Orchard to Preparation Centers:\", transport_orchard_to_prep_dict)\n",
        "print(\"Preparation Costs:\", prep_cost_dict)\n",
        "print(\"Capacity:\", capacity_dict)\n",
        "print(\"Demand:\", demand_dict)\n",
        "print(\"Transport Costs Prep Centers to Stores:\", transport_cost_dict)"
      ]
    },
    {
      "cell_type": "markdown",
      "metadata": {
        "id": "X3bxNt92KSGe"
      },
      "source": [
        "\n",
        "Define model."
      ]
    },
    {
      "cell_type": "code",
      "execution_count": null,
      "metadata": {
        "id": "J7BsV3J5YUid"
      },
      "outputs": [],
      "source": [
        "ampl.eval ('''\n",
        "\n",
        "reset;\n",
        "set P;  # Set of preparation centers\n",
        "set S;  # Set of specialty stores\n",
        "\n",
        "param transport_cost_orchard_to_prep {i in P};  # Transportation cost from orchard to preparation center i\n",
        "param prep_cost {i in P};                       # Preparation cost at preparation center i\n",
        "param capacity {i in P};                        # Monthly capacity of preparation center i\n",
        "param transport_cost {i in P, j in S};          # Transportation cost from preparation center i to store j\n",
        "param demand {j in S};                          # Monthly demand at store j\n",
        "\n",
        "var x {i in P, j in S} >= 0;  # Pounds of apples transported from preparation center i to store j\n",
        "var y {i in P} >= 0;          # Pounds of apples transported from orchard to preparation center i\n",
        "\n",
        "\n",
        "# Objective: Minimize total cost (transportation + preparation + shipping)\n",
        "minimize Total_Cost:sum {i in P} (transport_cost_orchard_to_prep[i] * y[i] + prep_cost[i] * y[i] + sum {j in S} transport_cost[i,j] * x[i,j]);\n",
        "\n",
        "subject to\n",
        "Demand_Constraint {j in S}:sum {i in P} x[i,j] >= demand[j];\n",
        "Capacity_Constraint {i in P}: sum {j in S} x[i,j] <= capacity[i];\n",
        "Orchard_Flow_Constraint {i in P}:sum {j in S} x[i,j] = y[i];\n",
        "\n",
        "''')"
      ]
    },
    {
      "cell_type": "markdown",
      "metadata": {
        "id": "RqFoAqQ7joRa"
      },
      "source": [
        "Provide data to the model."
      ]
    },
    {
      "cell_type": "code",
      "execution_count": null,
      "metadata": {
        "colab": {
          "base_uri": "https://localhost:8080/"
        },
        "id": "3anrsdmUKq9R",
        "outputId": "033ea357-4a86-4fba-eb37-7b01e204e45b"
      },
      "outputs": [
        {
          "output_type": "stream",
          "name": "stdout",
          "text": [
            "{1: {1: 0.8, 2: 1.1, 3: 0.7, 4: 1.4}, 2: {1: 1.2, 2: 1.1, 3: 0.5, 4: 1.4}, 3: {1: 0.2, 2: 1.4, 3: 1.3, 4: 1.7}}\n"
          ]
        }
      ],
      "source": [
        "store_mapping = {\n",
        "    'Organic Orchard': 1,\n",
        "    'Fresh & Local': 2,\n",
        "    'Healthy Pantry': 3,\n",
        "    \"Season's Harvest\": 4\n",
        "}\n",
        "\n",
        "# Create a new dictionary with integer keys for the stores\n",
        "transport_cost_mapped = {}\n",
        "\n",
        "for store_name, i_data in transport_cost_dict.items():\n",
        "    store_index = store_mapping[store_name]  # Get the store index from the mapping\n",
        "    for prep_center, cost in i_data.items():\n",
        "        if prep_center not in transport_cost_mapped:\n",
        "            transport_cost_mapped[prep_center] = {}\n",
        "        transport_cost_mapped[prep_center][store_index] = cost\n",
        "\n",
        "# Display the remapped transport cost dictionary to verify\n",
        "print(transport_cost_mapped)\n"
      ]
    },
    {
      "cell_type": "code",
      "execution_count": null,
      "metadata": {
        "id": "JIQOq8TzCeZD"
      },
      "outputs": [],
      "source": [
        "ampl.set['P'] = [1, 2, 3]\n",
        "ampl.set['S'] = [1, 2, 3, 4]\n",
        "\n",
        "# Assign data from Python to AMPL parameters\n",
        "ampl.param['transport_cost_orchard_to_prep'] = transport_orchard_to_prep_dict\n",
        "ampl.param['prep_cost'] = prep_cost_dict\n",
        "ampl.param['capacity'] = capacity_dict\n",
        "ampl.param['demand'] = demand_dict\n",
        "\n",
        "# Assign the remapped transport cost data to AMPL parameters\n",
        "for i in range(1, 4):  # Loop over preparation centers\n",
        "    for j in range(1, 5):  # Loop over stores (with integer indices)\n",
        "        ampl.param['transport_cost'][i, j] = transport_cost_mapped[i][j]\n",
        "\n",
        "\n",
        "\n"
      ]
    },
    {
      "cell_type": "markdown",
      "metadata": {
        "id": "V_j5u7b8BkNk"
      },
      "source": [
        "Display problem formulation."
      ]
    },
    {
      "cell_type": "code",
      "execution_count": null,
      "metadata": {
        "colab": {
          "base_uri": "https://localhost:8080/"
        },
        "id": "2PJurB0O7K5l",
        "outputId": "13c492aa-c410-4df0-8765-5dbd0b7370b0"
      },
      "outputs": [
        {
          "output_type": "stream",
          "name": "stdout",
          "text": [
            "minimize Total_Cost:\n",
            "\t0.8*x[1,1] + 1.1*x[1,2] + 0.7*x[1,3] + 1.4*x[1,4] + 1.2*x[2,1] + \n",
            "\t1.1*x[2,2] + 0.5*x[2,3] + 1.4*x[2,4] + 0.2*x[3,1] + 1.4*x[3,2] + \n",
            "\t1.3*x[3,3] + 1.7*x[3,4] + 0.6*y[1] + 1.2*y[2] + 1.8*y[3];\n",
            "\n",
            "subject to Demand_Constraint[1]:\n",
            "\tx[1,1] + x[2,1] + x[3,1] >= 300;\n",
            "\n",
            "subject to Demand_Constraint[2]:\n",
            "\tx[1,2] + x[2,2] + x[3,2] >= 500;\n",
            "\n",
            "subject to Demand_Constraint[3]:\n",
            "\tx[1,3] + x[2,3] + x[3,3] >= 400;\n",
            "\n",
            "subject to Demand_Constraint[4]:\n",
            "\tx[1,4] + x[2,4] + x[3,4] >= 200;\n",
            "\n",
            "subject to Capacity_Constraint[1]:\n",
            "\tx[1,1] + x[1,2] + x[1,3] + x[1,4] <= 300;\n",
            "\n",
            "subject to Capacity_Constraint[2]:\n",
            "\tx[2,1] + x[2,2] + x[2,3] + x[2,4] <= 500;\n",
            "\n",
            "subject to Capacity_Constraint[3]:\n",
            "\tx[3,1] + x[3,2] + x[3,3] + x[3,4] <= 800;\n",
            "\n",
            "subject to Orchard_Flow_Constraint[1]:\n",
            "\tx[1,1] + x[1,2] + x[1,3] + x[1,4] - y[1] = 0;\n",
            "\n",
            "subject to Orchard_Flow_Constraint[2]:\n",
            "\tx[2,1] + x[2,2] + x[2,3] + x[2,4] - y[2] = 0;\n",
            "\n",
            "subject to Orchard_Flow_Constraint[3]:\n",
            "\tx[3,1] + x[3,2] + x[3,3] + x[3,4] - y[3] = 0;\n",
            "\n"
          ]
        }
      ],
      "source": [
        "ampl.eval('''expand;''')\n",
        "# ampl.eval('''expand x;''')\n",
        "# ampl.eval('''expand y;''')\n"
      ]
    },
    {
      "cell_type": "markdown",
      "metadata": {
        "id": "Fx_sqpPYBevu"
      },
      "source": [
        "Set solver and solve."
      ]
    },
    {
      "cell_type": "code",
      "execution_count": null,
      "metadata": {
        "colab": {
          "base_uri": "https://localhost:8080/"
        },
        "id": "xlqpM_cq6HT5",
        "outputId": "6ac653b5-d818-428e-f09a-e6fde91672fb"
      },
      "outputs": [
        {
          "output_type": "stream",
          "name": "stdout",
          "text": [
            "CPLEX 22.1.1:  - Version identifier: 22.1.1.0 | 2022-11-28 | 9160aff4d\n",
            " - CPXPARAM_Simplex_Display                         0\n",
            " - CPXPARAM_MIP_Display                             0\n",
            " - CPXPARAM_Barrier_Display                         0\n",
            "\b\b\b\b\b\b\b\b\b\b\b\b\b\bCPLEX 22.1.1: optimal solution; objective 3040\n",
            "8 simplex iterations\n"
          ]
        }
      ],
      "source": [
        "ampl.setOption('solver', 'cplex')\n",
        "ampl.solve()"
      ]
    },
    {
      "cell_type": "markdown",
      "metadata": {
        "id": "OMMsJvISBs2g"
      },
      "source": [
        "Print solution and results."
      ]
    },
    {
      "cell_type": "code",
      "execution_count": null,
      "metadata": {
        "colab": {
          "base_uri": "https://localhost:8080/"
        },
        "id": "4wnRfyDmKSGi",
        "outputId": "23f79ac8-fcd3-4d00-e696-f5cb67db9133"
      },
      "outputs": [
        {
          "output_type": "stream",
          "name": "stdout",
          "text": [
            "Total Cost: 3040.0\n",
            "x (apples shipped):    index0       index1    |    x.val    \n",
            "     1              1       |      0      \n",
            "     1              2       |     100     \n",
            "     1              3       |      0      \n",
            "     1              4       |     200     \n",
            "     2              1       |      0      \n",
            "     2              2       |     100     \n",
            "     2              3       |     400     \n",
            "     2              4       |      0      \n",
            "     3              1       |     300     \n",
            "     3              2       |     300     \n",
            "     3              3       |      0      \n",
            "     3              4       |      0      \n",
            "\n",
            "y (apples transported from orchard):    index0    |    y.val    \n",
            "     1       |     300     \n",
            "     2       |     500     \n",
            "     3       |     600     \n",
            "\n"
          ]
        }
      ],
      "source": [
        "# Get and display results\n",
        "x = ampl.var['x'].get_values()\n",
        "y = ampl.var['y'].get_values()\n",
        "total_cost = ampl.obj['Total_Cost'].value()\n",
        "print(\"Total Cost:\", total_cost)\n",
        "print(\"x (apples shipped):\", x)\n",
        "print(\"y (apples transported from orchard):\", y)"
      ]
    },
    {
      "cell_type": "markdown",
      "metadata": {
        "id": "ajPh-mPVKSGj"
      },
      "source": [
        "The optimal solution is to produce and ship 300 apples to preparation centre 1, 500 apples to preparation centre 2 and 600 apples to preparation centre 3 from the orchard. From preparation centre 1, 100 apples should be sent to Fresh & Local and 200 apples to Season's harvest speciality stores. From preparation centre 2, 100 apples should be sent to Fresh & Local and 400 apples to Healthy pantry speciality stores. From preparation centre 3, 300 apples should be sent to Organic Orchard and 300 apples to the Fresh & Local speciality stores. The total cost will be $3040."
      ]
    },
    {
      "cell_type": "code",
      "execution_count": null,
      "metadata": {
        "id": "R8WL1IxVCyVx"
      },
      "outputs": [],
      "source": []
    }
  ],
  "metadata": {
    "colab": {
      "provenance": [],
      "include_colab_link": true
    },
    "kernelspec": {
      "display_name": "Python 3 (ipykernel)",
      "language": "python",
      "name": "python3"
    },
    "language_info": {
      "codemirror_mode": {
        "name": "ipython",
        "version": 3
      },
      "file_extension": ".py",
      "mimetype": "text/x-python",
      "name": "python",
      "nbconvert_exporter": "python",
      "pygments_lexer": "ipython3",
      "version": "3.11.7"
    }
  },
  "nbformat": 4,
  "nbformat_minor": 0
}