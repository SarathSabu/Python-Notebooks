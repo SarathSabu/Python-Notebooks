{
  "nbformat": 4,
  "nbformat_minor": 0,
  "metadata": {
    "colab": {
      "provenance": [],
      "include_colab_link": true
    },
    "kernelspec": {
      "name": "python3",
      "display_name": "Python 3"
    },
    "language_info": {
      "name": "python"
    }
  },
  "cells": [
    {
      "cell_type": "markdown",
      "metadata": {
        "id": "view-in-github",
        "colab_type": "text"
      },
      "source": [
        "<a href=\"https://colab.research.google.com/github/SarathSabu/Python-Notebooks/blob/main/Latent_Dirichlet_Allocation.ipynb\" target=\"_parent\"><img src=\"https://colab.research.google.com/assets/colab-badge.svg\" alt=\"Open In Colab\"/></a>"
      ]
    },
    {
      "cell_type": "markdown",
      "source": [
        "#### Mount the notebook to your Google Drive folder."
      ],
      "metadata": {
        "id": "1fugfG7G1NyW"
      }
    },
    {
      "cell_type": "code",
      "execution_count": null,
      "metadata": {
        "colab": {
          "base_uri": "https://localhost:8080/"
        },
        "id": "0zN1luA70EJJ",
        "outputId": "aeddc845-6f93-4df0-8056-c96ea9034871"
      },
      "outputs": [
        {
          "output_type": "stream",
          "name": "stdout",
          "text": [
            "Mounted at /drive\n"
          ]
        }
      ],
      "source": [
        "from google.colab import drive\n",
        "drive.mount('/drive')"
      ]
    },
    {
      "cell_type": "markdown",
      "source": [
        "#### Opening INFO 617 Mental Health QA_LIWC.csv and load the data."
      ],
      "metadata": {
        "id": "SyKrXCE01QX6"
      }
    },
    {
      "cell_type": "code",
      "source": [
        "import pandas as pd\n",
        "QA = pd.read_csv('/drive/My Drive/Teaching/2025 Spring/INFO 617/Lecture 4 Feb 10/INFO 617 Mental Health QA_LIWC.csv', encoding='latin-1')\n",
        "print(QA.head(5))"
      ],
      "metadata": {
        "colab": {
          "base_uri": "https://localhost:8080/"
        },
        "id": "gfoP0QP-1Rgq",
        "outputId": "98850dd1-8981-449d-efea-fc66bacd1311"
      },
      "execution_count": null,
      "outputs": [
        {
          "output_type": "stream",
          "name": "stdout",
          "text": [
            "         QID                                   Question_English  \\\n",
            "0  100788023  Watching the elderly matchmaking program was v...   \n",
            "1  100788009  Falling in love with someone else and breaking...   \n",
            "2  100788013  I have been suffering from insomnia for half a...   \n",
            "3  100788013  I have been suffering from insomnia for half a...   \n",
            "4  100788013  I have been suffering from insomnia for half a...   \n",
            "\n",
            "                                      Answer_English  Usefulness_vote  \\\n",
            "0  Hello. Let's start by talking about young peop...                2   \n",
            "1  Hello! Sending you a virtual hug first. Thumbs...                2   \n",
            "2  Hello! â I saw the issue you raised about in...                8   \n",
            "3  Hello! â I saw the issue you raised about in...                8   \n",
            "4  Hi, I just want to hug you. I can feel the kin...                6   \n",
            "\n",
            "   Comment_count  Received_Bonus_Yes_No  Segment   WC  Analytic  Clout  ...  \\\n",
            "0              0                      0        1  359     52.91  83.28  ...   \n",
            "1              0                      0        1  199     72.83  96.90  ...   \n",
            "2              2                      1        1  611     37.89  75.35  ...   \n",
            "3              2                      0        1  611     37.89  75.35  ...   \n",
            "4              0                      0        1  587     82.45  46.10  ...   \n",
            "\n",
            "   nonflu  filler  AllPunc  Period  Comma  QMark  Exclam  Apostro  OtherP  \\\n",
            "0     0.0     0.0    18.94    6.96   8.36   0.84    0.28     2.23    0.28   \n",
            "1     0.0     0.0    12.06    5.03   5.03   0.00    0.50     0.50    1.01   \n",
            "2     0.0     0.0    15.71    4.75   7.36   0.65    0.16     1.80    0.98   \n",
            "3     0.0     0.0    15.71    4.75   7.36   0.65    0.16     1.80    0.98   \n",
            "4     0.0     0.0    16.18    6.30   4.94   1.19    0.17     0.68    2.90   \n",
            "\n",
            "   Emoji  \n",
            "0    0.0  \n",
            "1    0.0  \n",
            "2    0.0  \n",
            "3    0.0  \n",
            "4    0.0  \n",
            "\n",
            "[5 rows x 125 columns]\n"
          ]
        }
      ]
    },
    {
      "cell_type": "markdown",
      "source": [
        "#### Now, let's tokenize questions in this dataset at different levels."
      ],
      "metadata": {
        "id": "_CzWSNxQ1Wpy"
      }
    },
    {
      "cell_type": "code",
      "source": [
        "# Use the first question as an example\n",
        "text = QA.loc[0, 'Question_English']\n",
        "print(text)"
      ],
      "metadata": {
        "colab": {
          "base_uri": "https://localhost:8080/"
        },
        "id": "W1sPSOT31Vn7",
        "outputId": "266fc1cf-7427-4770-893b-727fb80c3d77"
      },
      "execution_count": null,
      "outputs": [
        {
          "output_type": "stream",
          "name": "stdout",
          "text": [
            "Watching the elderly matchmaking program was very shocking. I found that many people participating in these matchmaking events are mainly looking for someone who can financially support them, preferably someone who is economically independent. The goal seems to be not just to find happiness in marriage, but also to find financial support. It feels like they are treating themselves as objects. The success rate seems to be very low, and I have seen many strange things, such as a mother trying to earn more money for her son, an old man who complains about his controlling ex-wife but is unwilling to take any responsibility, people who are vain and people with OCD. It's hard to describe the feeling. If everyone is maximizing their own interests during matchmaking, it probably won't work out. But being too selfless could also lead to a bad outcome. This feels especially realistic. No one seems to ask about feelings.\n"
          ]
        }
      ]
    },
    {
      "cell_type": "code",
      "source": [
        "# Let's start with word tokenization\n",
        "# Here, we use the package nltk and its built-in function \"word_tokenize\"\n",
        "# Make sure \"punkt_tab\" is downloaded\n",
        "import nltk\n",
        "from nltk.tokenize import word_tokenize\n",
        "nltk.download('punkt_tab')\n",
        "tokens = word_tokenize(text)\n",
        "print(tokens)\n",
        "print(len(tokens))\n",
        "# There are 173 tokens (words) in the first question."
      ],
      "metadata": {
        "colab": {
          "base_uri": "https://localhost:8080/"
        },
        "id": "QmNT9kvF1nG0",
        "outputId": "e3e63636-e695-4531-8467-17ab83901d53"
      },
      "execution_count": null,
      "outputs": [
        {
          "output_type": "stream",
          "name": "stderr",
          "text": [
            "[nltk_data] Downloading package punkt_tab to /root/nltk_data...\n",
            "[nltk_data]   Unzipping tokenizers/punkt_tab.zip.\n"
          ]
        },
        {
          "output_type": "stream",
          "name": "stdout",
          "text": [
            "['Watching', 'the', 'elderly', 'matchmaking', 'program', 'was', 'very', 'shocking', '.', 'I', 'found', 'that', 'many', 'people', 'participating', 'in', 'these', 'matchmaking', 'events', 'are', 'mainly', 'looking', 'for', 'someone', 'who', 'can', 'financially', 'support', 'them', ',', 'preferably', 'someone', 'who', 'is', 'economically', 'independent', '.', 'The', 'goal', 'seems', 'to', 'be', 'not', 'just', 'to', 'find', 'happiness', 'in', 'marriage', ',', 'but', 'also', 'to', 'find', 'financial', 'support', '.', 'It', 'feels', 'like', 'they', 'are', 'treating', 'themselves', 'as', 'objects', '.', 'The', 'success', 'rate', 'seems', 'to', 'be', 'very', 'low', ',', 'and', 'I', 'have', 'seen', 'many', 'strange', 'things', ',', 'such', 'as', 'a', 'mother', 'trying', 'to', 'earn', 'more', 'money', 'for', 'her', 'son', ',', 'an', 'old', 'man', 'who', 'complains', 'about', 'his', 'controlling', 'ex-wife', 'but', 'is', 'unwilling', 'to', 'take', 'any', 'responsibility', ',', 'people', 'who', 'are', 'vain', 'and', 'people', 'with', 'OCD', '.', 'It', \"'s\", 'hard', 'to', 'describe', 'the', 'feeling', '.', 'If', 'everyone', 'is', 'maximizing', 'their', 'own', 'interests', 'during', 'matchmaking', ',', 'it', 'probably', 'wo', \"n't\", 'work', 'out', '.', 'But', 'being', 'too', 'selfless', 'could', 'also', 'lead', 'to', 'a', 'bad', 'outcome', '.', 'This', 'feels', 'especially', 'realistic', '.', 'No', 'one', 'seems', 'to', 'ask', 'about', 'feelings', '.']\n",
            "173\n"
          ]
        }
      ]
    },
    {
      "cell_type": "code",
      "source": [
        "# Let's try sentence tokenization next\n",
        "# Here, we use another built-in function called sent_tokenize\n",
        "from nltk.tokenize import sent_tokenize\n",
        "sents = sent_tokenize(text)\n",
        "print(sents)\n",
        "print(len(sents))\n",
        "# There are 10 sentences in the first question."
      ],
      "metadata": {
        "colab": {
          "base_uri": "https://localhost:8080/"
        },
        "id": "K0yTxEyB20Ti",
        "outputId": "c687e0e1-e51f-4750-a53f-7c9e767264d2"
      },
      "execution_count": null,
      "outputs": [
        {
          "output_type": "stream",
          "name": "stdout",
          "text": [
            "['Watching the elderly matchmaking program was very shocking.', 'I found that many people participating in these matchmaking events are mainly looking for someone who can financially support them, preferably someone who is economically independent.', 'The goal seems to be not just to find happiness in marriage, but also to find financial support.', 'It feels like they are treating themselves as objects.', 'The success rate seems to be very low, and I have seen many strange things, such as a mother trying to earn more money for her son, an old man who complains about his controlling ex-wife but is unwilling to take any responsibility, people who are vain and people with OCD.', \"It's hard to describe the feeling.\", \"If everyone is maximizing their own interests during matchmaking, it probably won't work out.\", 'But being too selfless could also lead to a bad outcome.', 'This feels especially realistic.', 'No one seems to ask about feelings.']\n",
            "10\n"
          ]
        }
      ]
    },
    {
      "cell_type": "markdown",
      "source": [
        "#### Next, let's try to encode the words that appear in this question using one-hot encoding."
      ],
      "metadata": {
        "id": "jZE3dG1z3Ksp"
      }
    },
    {
      "cell_type": "code",
      "source": [
        "# Encode words in the first question using one-hot encoding\n",
        "print(tokens[:30])\n",
        "pd.get_dummies(tokens)\n",
        "# How many unique tokens are returned by the tokenization process?"
      ],
      "metadata": {
        "colab": {
          "base_uri": "https://localhost:8080/",
          "height": 461
        },
        "id": "Mcqob9TI3Jzp",
        "outputId": "4f51bf8c-274f-477b-885b-ba62d7b853c2"
      },
      "execution_count": null,
      "outputs": [
        {
          "output_type": "stream",
          "name": "stdout",
          "text": [
            "['Watching', 'the', 'elderly', 'matchmaking', 'program', 'was', 'very', 'shocking', '.', 'I', 'found', 'that', 'many', 'people', 'participating', 'in', 'these', 'matchmaking', 'events', 'are', 'mainly', 'looking', 'for', 'someone', 'who', 'can', 'financially', 'support', 'them', ',']\n"
          ]
        },
        {
          "output_type": "execute_result",
          "data": {
            "text/plain": [
              "        's      ,      .    But      I     If     It     No    OCD    The  \\\n",
              "0    False  False  False  False  False  False  False  False  False  False   \n",
              "1    False  False  False  False  False  False  False  False  False  False   \n",
              "2    False  False  False  False  False  False  False  False  False  False   \n",
              "3    False  False  False  False  False  False  False  False  False  False   \n",
              "4    False  False  False  False  False  False  False  False  False  False   \n",
              "..     ...    ...    ...    ...    ...    ...    ...    ...    ...    ...   \n",
              "168  False  False  False  False  False  False  False  False  False  False   \n",
              "169  False  False  False  False  False  False  False  False  False  False   \n",
              "170  False  False  False  False  False  False  False  False  False  False   \n",
              "171  False  False  False  False  False  False  False  False  False  False   \n",
              "172  False  False   True  False  False  False  False  False  False  False   \n",
              "\n",
              "     ...  treating  trying  unwilling   vain   very    was    who   with  \\\n",
              "0    ...     False   False      False  False  False  False  False  False   \n",
              "1    ...     False   False      False  False  False  False  False  False   \n",
              "2    ...     False   False      False  False  False  False  False  False   \n",
              "3    ...     False   False      False  False  False  False  False  False   \n",
              "4    ...     False   False      False  False  False  False  False  False   \n",
              "..   ...       ...     ...        ...    ...    ...    ...    ...    ...   \n",
              "168  ...     False   False      False  False  False  False  False  False   \n",
              "169  ...     False   False      False  False  False  False  False  False   \n",
              "170  ...     False   False      False  False  False  False  False  False   \n",
              "171  ...     False   False      False  False  False  False  False  False   \n",
              "172  ...     False   False      False  False  False  False  False  False   \n",
              "\n",
              "        wo   work  \n",
              "0    False  False  \n",
              "1    False  False  \n",
              "2    False  False  \n",
              "3    False  False  \n",
              "4    False  False  \n",
              "..     ...    ...  \n",
              "168  False  False  \n",
              "169  False  False  \n",
              "170  False  False  \n",
              "171  False  False  \n",
              "172  False  False  \n",
              "\n",
              "[173 rows x 118 columns]"
            ],
            "text/html": [
              "\n",
              "  <div id=\"df-2e652ecc-42de-4490-acae-57b01f6ca4c2\" class=\"colab-df-container\">\n",
              "    <div>\n",
              "<style scoped>\n",
              "    .dataframe tbody tr th:only-of-type {\n",
              "        vertical-align: middle;\n",
              "    }\n",
              "\n",
              "    .dataframe tbody tr th {\n",
              "        vertical-align: top;\n",
              "    }\n",
              "\n",
              "    .dataframe thead th {\n",
              "        text-align: right;\n",
              "    }\n",
              "</style>\n",
              "<table border=\"1\" class=\"dataframe\">\n",
              "  <thead>\n",
              "    <tr style=\"text-align: right;\">\n",
              "      <th></th>\n",
              "      <th>'s</th>\n",
              "      <th>,</th>\n",
              "      <th>.</th>\n",
              "      <th>But</th>\n",
              "      <th>I</th>\n",
              "      <th>If</th>\n",
              "      <th>It</th>\n",
              "      <th>No</th>\n",
              "      <th>OCD</th>\n",
              "      <th>The</th>\n",
              "      <th>...</th>\n",
              "      <th>treating</th>\n",
              "      <th>trying</th>\n",
              "      <th>unwilling</th>\n",
              "      <th>vain</th>\n",
              "      <th>very</th>\n",
              "      <th>was</th>\n",
              "      <th>who</th>\n",
              "      <th>with</th>\n",
              "      <th>wo</th>\n",
              "      <th>work</th>\n",
              "    </tr>\n",
              "  </thead>\n",
              "  <tbody>\n",
              "    <tr>\n",
              "      <th>0</th>\n",
              "      <td>False</td>\n",
              "      <td>False</td>\n",
              "      <td>False</td>\n",
              "      <td>False</td>\n",
              "      <td>False</td>\n",
              "      <td>False</td>\n",
              "      <td>False</td>\n",
              "      <td>False</td>\n",
              "      <td>False</td>\n",
              "      <td>False</td>\n",
              "      <td>...</td>\n",
              "      <td>False</td>\n",
              "      <td>False</td>\n",
              "      <td>False</td>\n",
              "      <td>False</td>\n",
              "      <td>False</td>\n",
              "      <td>False</td>\n",
              "      <td>False</td>\n",
              "      <td>False</td>\n",
              "      <td>False</td>\n",
              "      <td>False</td>\n",
              "    </tr>\n",
              "    <tr>\n",
              "      <th>1</th>\n",
              "      <td>False</td>\n",
              "      <td>False</td>\n",
              "      <td>False</td>\n",
              "      <td>False</td>\n",
              "      <td>False</td>\n",
              "      <td>False</td>\n",
              "      <td>False</td>\n",
              "      <td>False</td>\n",
              "      <td>False</td>\n",
              "      <td>False</td>\n",
              "      <td>...</td>\n",
              "      <td>False</td>\n",
              "      <td>False</td>\n",
              "      <td>False</td>\n",
              "      <td>False</td>\n",
              "      <td>False</td>\n",
              "      <td>False</td>\n",
              "      <td>False</td>\n",
              "      <td>False</td>\n",
              "      <td>False</td>\n",
              "      <td>False</td>\n",
              "    </tr>\n",
              "    <tr>\n",
              "      <th>2</th>\n",
              "      <td>False</td>\n",
              "      <td>False</td>\n",
              "      <td>False</td>\n",
              "      <td>False</td>\n",
              "      <td>False</td>\n",
              "      <td>False</td>\n",
              "      <td>False</td>\n",
              "      <td>False</td>\n",
              "      <td>False</td>\n",
              "      <td>False</td>\n",
              "      <td>...</td>\n",
              "      <td>False</td>\n",
              "      <td>False</td>\n",
              "      <td>False</td>\n",
              "      <td>False</td>\n",
              "      <td>False</td>\n",
              "      <td>False</td>\n",
              "      <td>False</td>\n",
              "      <td>False</td>\n",
              "      <td>False</td>\n",
              "      <td>False</td>\n",
              "    </tr>\n",
              "    <tr>\n",
              "      <th>3</th>\n",
              "      <td>False</td>\n",
              "      <td>False</td>\n",
              "      <td>False</td>\n",
              "      <td>False</td>\n",
              "      <td>False</td>\n",
              "      <td>False</td>\n",
              "      <td>False</td>\n",
              "      <td>False</td>\n",
              "      <td>False</td>\n",
              "      <td>False</td>\n",
              "      <td>...</td>\n",
              "      <td>False</td>\n",
              "      <td>False</td>\n",
              "      <td>False</td>\n",
              "      <td>False</td>\n",
              "      <td>False</td>\n",
              "      <td>False</td>\n",
              "      <td>False</td>\n",
              "      <td>False</td>\n",
              "      <td>False</td>\n",
              "      <td>False</td>\n",
              "    </tr>\n",
              "    <tr>\n",
              "      <th>4</th>\n",
              "      <td>False</td>\n",
              "      <td>False</td>\n",
              "      <td>False</td>\n",
              "      <td>False</td>\n",
              "      <td>False</td>\n",
              "      <td>False</td>\n",
              "      <td>False</td>\n",
              "      <td>False</td>\n",
              "      <td>False</td>\n",
              "      <td>False</td>\n",
              "      <td>...</td>\n",
              "      <td>False</td>\n",
              "      <td>False</td>\n",
              "      <td>False</td>\n",
              "      <td>False</td>\n",
              "      <td>False</td>\n",
              "      <td>False</td>\n",
              "      <td>False</td>\n",
              "      <td>False</td>\n",
              "      <td>False</td>\n",
              "      <td>False</td>\n",
              "    </tr>\n",
              "    <tr>\n",
              "      <th>...</th>\n",
              "      <td>...</td>\n",
              "      <td>...</td>\n",
              "      <td>...</td>\n",
              "      <td>...</td>\n",
              "      <td>...</td>\n",
              "      <td>...</td>\n",
              "      <td>...</td>\n",
              "      <td>...</td>\n",
              "      <td>...</td>\n",
              "      <td>...</td>\n",
              "      <td>...</td>\n",
              "      <td>...</td>\n",
              "      <td>...</td>\n",
              "      <td>...</td>\n",
              "      <td>...</td>\n",
              "      <td>...</td>\n",
              "      <td>...</td>\n",
              "      <td>...</td>\n",
              "      <td>...</td>\n",
              "      <td>...</td>\n",
              "      <td>...</td>\n",
              "    </tr>\n",
              "    <tr>\n",
              "      <th>168</th>\n",
              "      <td>False</td>\n",
              "      <td>False</td>\n",
              "      <td>False</td>\n",
              "      <td>False</td>\n",
              "      <td>False</td>\n",
              "      <td>False</td>\n",
              "      <td>False</td>\n",
              "      <td>False</td>\n",
              "      <td>False</td>\n",
              "      <td>False</td>\n",
              "      <td>...</td>\n",
              "      <td>False</td>\n",
              "      <td>False</td>\n",
              "      <td>False</td>\n",
              "      <td>False</td>\n",
              "      <td>False</td>\n",
              "      <td>False</td>\n",
              "      <td>False</td>\n",
              "      <td>False</td>\n",
              "      <td>False</td>\n",
              "      <td>False</td>\n",
              "    </tr>\n",
              "    <tr>\n",
              "      <th>169</th>\n",
              "      <td>False</td>\n",
              "      <td>False</td>\n",
              "      <td>False</td>\n",
              "      <td>False</td>\n",
              "      <td>False</td>\n",
              "      <td>False</td>\n",
              "      <td>False</td>\n",
              "      <td>False</td>\n",
              "      <td>False</td>\n",
              "      <td>False</td>\n",
              "      <td>...</td>\n",
              "      <td>False</td>\n",
              "      <td>False</td>\n",
              "      <td>False</td>\n",
              "      <td>False</td>\n",
              "      <td>False</td>\n",
              "      <td>False</td>\n",
              "      <td>False</td>\n",
              "      <td>False</td>\n",
              "      <td>False</td>\n",
              "      <td>False</td>\n",
              "    </tr>\n",
              "    <tr>\n",
              "      <th>170</th>\n",
              "      <td>False</td>\n",
              "      <td>False</td>\n",
              "      <td>False</td>\n",
              "      <td>False</td>\n",
              "      <td>False</td>\n",
              "      <td>False</td>\n",
              "      <td>False</td>\n",
              "      <td>False</td>\n",
              "      <td>False</td>\n",
              "      <td>False</td>\n",
              "      <td>...</td>\n",
              "      <td>False</td>\n",
              "      <td>False</td>\n",
              "      <td>False</td>\n",
              "      <td>False</td>\n",
              "      <td>False</td>\n",
              "      <td>False</td>\n",
              "      <td>False</td>\n",
              "      <td>False</td>\n",
              "      <td>False</td>\n",
              "      <td>False</td>\n",
              "    </tr>\n",
              "    <tr>\n",
              "      <th>171</th>\n",
              "      <td>False</td>\n",
              "      <td>False</td>\n",
              "      <td>False</td>\n",
              "      <td>False</td>\n",
              "      <td>False</td>\n",
              "      <td>False</td>\n",
              "      <td>False</td>\n",
              "      <td>False</td>\n",
              "      <td>False</td>\n",
              "      <td>False</td>\n",
              "      <td>...</td>\n",
              "      <td>False</td>\n",
              "      <td>False</td>\n",
              "      <td>False</td>\n",
              "      <td>False</td>\n",
              "      <td>False</td>\n",
              "      <td>False</td>\n",
              "      <td>False</td>\n",
              "      <td>False</td>\n",
              "      <td>False</td>\n",
              "      <td>False</td>\n",
              "    </tr>\n",
              "    <tr>\n",
              "      <th>172</th>\n",
              "      <td>False</td>\n",
              "      <td>False</td>\n",
              "      <td>True</td>\n",
              "      <td>False</td>\n",
              "      <td>False</td>\n",
              "      <td>False</td>\n",
              "      <td>False</td>\n",
              "      <td>False</td>\n",
              "      <td>False</td>\n",
              "      <td>False</td>\n",
              "      <td>...</td>\n",
              "      <td>False</td>\n",
              "      <td>False</td>\n",
              "      <td>False</td>\n",
              "      <td>False</td>\n",
              "      <td>False</td>\n",
              "      <td>False</td>\n",
              "      <td>False</td>\n",
              "      <td>False</td>\n",
              "      <td>False</td>\n",
              "      <td>False</td>\n",
              "    </tr>\n",
              "  </tbody>\n",
              "</table>\n",
              "<p>173 rows × 118 columns</p>\n",
              "</div>\n",
              "    <div class=\"colab-df-buttons\">\n",
              "\n",
              "  <div class=\"colab-df-container\">\n",
              "    <button class=\"colab-df-convert\" onclick=\"convertToInteractive('df-2e652ecc-42de-4490-acae-57b01f6ca4c2')\"\n",
              "            title=\"Convert this dataframe to an interactive table.\"\n",
              "            style=\"display:none;\">\n",
              "\n",
              "  <svg xmlns=\"http://www.w3.org/2000/svg\" height=\"24px\" viewBox=\"0 -960 960 960\">\n",
              "    <path d=\"M120-120v-720h720v720H120Zm60-500h600v-160H180v160Zm220 220h160v-160H400v160Zm0 220h160v-160H400v160ZM180-400h160v-160H180v160Zm440 0h160v-160H620v160ZM180-180h160v-160H180v160Zm440 0h160v-160H620v160Z\"/>\n",
              "  </svg>\n",
              "    </button>\n",
              "\n",
              "  <style>\n",
              "    .colab-df-container {\n",
              "      display:flex;\n",
              "      gap: 12px;\n",
              "    }\n",
              "\n",
              "    .colab-df-convert {\n",
              "      background-color: #E8F0FE;\n",
              "      border: none;\n",
              "      border-radius: 50%;\n",
              "      cursor: pointer;\n",
              "      display: none;\n",
              "      fill: #1967D2;\n",
              "      height: 32px;\n",
              "      padding: 0 0 0 0;\n",
              "      width: 32px;\n",
              "    }\n",
              "\n",
              "    .colab-df-convert:hover {\n",
              "      background-color: #E2EBFA;\n",
              "      box-shadow: 0px 1px 2px rgba(60, 64, 67, 0.3), 0px 1px 3px 1px rgba(60, 64, 67, 0.15);\n",
              "      fill: #174EA6;\n",
              "    }\n",
              "\n",
              "    .colab-df-buttons div {\n",
              "      margin-bottom: 4px;\n",
              "    }\n",
              "\n",
              "    [theme=dark] .colab-df-convert {\n",
              "      background-color: #3B4455;\n",
              "      fill: #D2E3FC;\n",
              "    }\n",
              "\n",
              "    [theme=dark] .colab-df-convert:hover {\n",
              "      background-color: #434B5C;\n",
              "      box-shadow: 0px 1px 3px 1px rgba(0, 0, 0, 0.15);\n",
              "      filter: drop-shadow(0px 1px 2px rgba(0, 0, 0, 0.3));\n",
              "      fill: #FFFFFF;\n",
              "    }\n",
              "  </style>\n",
              "\n",
              "    <script>\n",
              "      const buttonEl =\n",
              "        document.querySelector('#df-2e652ecc-42de-4490-acae-57b01f6ca4c2 button.colab-df-convert');\n",
              "      buttonEl.style.display =\n",
              "        google.colab.kernel.accessAllowed ? 'block' : 'none';\n",
              "\n",
              "      async function convertToInteractive(key) {\n",
              "        const element = document.querySelector('#df-2e652ecc-42de-4490-acae-57b01f6ca4c2');\n",
              "        const dataTable =\n",
              "          await google.colab.kernel.invokeFunction('convertToInteractive',\n",
              "                                                    [key], {});\n",
              "        if (!dataTable) return;\n",
              "\n",
              "        const docLinkHtml = 'Like what you see? Visit the ' +\n",
              "          '<a target=\"_blank\" href=https://colab.research.google.com/notebooks/data_table.ipynb>data table notebook</a>'\n",
              "          + ' to learn more about interactive tables.';\n",
              "        element.innerHTML = '';\n",
              "        dataTable['output_type'] = 'display_data';\n",
              "        await google.colab.output.renderOutput(dataTable, element);\n",
              "        const docLink = document.createElement('div');\n",
              "        docLink.innerHTML = docLinkHtml;\n",
              "        element.appendChild(docLink);\n",
              "      }\n",
              "    </script>\n",
              "  </div>\n",
              "\n",
              "\n",
              "<div id=\"df-1f4f0b4e-357e-4ab8-9a3d-e04e99c3f623\">\n",
              "  <button class=\"colab-df-quickchart\" onclick=\"quickchart('df-1f4f0b4e-357e-4ab8-9a3d-e04e99c3f623')\"\n",
              "            title=\"Suggest charts\"\n",
              "            style=\"display:none;\">\n",
              "\n",
              "<svg xmlns=\"http://www.w3.org/2000/svg\" height=\"24px\"viewBox=\"0 0 24 24\"\n",
              "     width=\"24px\">\n",
              "    <g>\n",
              "        <path d=\"M19 3H5c-1.1 0-2 .9-2 2v14c0 1.1.9 2 2 2h14c1.1 0 2-.9 2-2V5c0-1.1-.9-2-2-2zM9 17H7v-7h2v7zm4 0h-2V7h2v10zm4 0h-2v-4h2v4z\"/>\n",
              "    </g>\n",
              "</svg>\n",
              "  </button>\n",
              "\n",
              "<style>\n",
              "  .colab-df-quickchart {\n",
              "      --bg-color: #E8F0FE;\n",
              "      --fill-color: #1967D2;\n",
              "      --hover-bg-color: #E2EBFA;\n",
              "      --hover-fill-color: #174EA6;\n",
              "      --disabled-fill-color: #AAA;\n",
              "      --disabled-bg-color: #DDD;\n",
              "  }\n",
              "\n",
              "  [theme=dark] .colab-df-quickchart {\n",
              "      --bg-color: #3B4455;\n",
              "      --fill-color: #D2E3FC;\n",
              "      --hover-bg-color: #434B5C;\n",
              "      --hover-fill-color: #FFFFFF;\n",
              "      --disabled-bg-color: #3B4455;\n",
              "      --disabled-fill-color: #666;\n",
              "  }\n",
              "\n",
              "  .colab-df-quickchart {\n",
              "    background-color: var(--bg-color);\n",
              "    border: none;\n",
              "    border-radius: 50%;\n",
              "    cursor: pointer;\n",
              "    display: none;\n",
              "    fill: var(--fill-color);\n",
              "    height: 32px;\n",
              "    padding: 0;\n",
              "    width: 32px;\n",
              "  }\n",
              "\n",
              "  .colab-df-quickchart:hover {\n",
              "    background-color: var(--hover-bg-color);\n",
              "    box-shadow: 0 1px 2px rgba(60, 64, 67, 0.3), 0 1px 3px 1px rgba(60, 64, 67, 0.15);\n",
              "    fill: var(--button-hover-fill-color);\n",
              "  }\n",
              "\n",
              "  .colab-df-quickchart-complete:disabled,\n",
              "  .colab-df-quickchart-complete:disabled:hover {\n",
              "    background-color: var(--disabled-bg-color);\n",
              "    fill: var(--disabled-fill-color);\n",
              "    box-shadow: none;\n",
              "  }\n",
              "\n",
              "  .colab-df-spinner {\n",
              "    border: 2px solid var(--fill-color);\n",
              "    border-color: transparent;\n",
              "    border-bottom-color: var(--fill-color);\n",
              "    animation:\n",
              "      spin 1s steps(1) infinite;\n",
              "  }\n",
              "\n",
              "  @keyframes spin {\n",
              "    0% {\n",
              "      border-color: transparent;\n",
              "      border-bottom-color: var(--fill-color);\n",
              "      border-left-color: var(--fill-color);\n",
              "    }\n",
              "    20% {\n",
              "      border-color: transparent;\n",
              "      border-left-color: var(--fill-color);\n",
              "      border-top-color: var(--fill-color);\n",
              "    }\n",
              "    30% {\n",
              "      border-color: transparent;\n",
              "      border-left-color: var(--fill-color);\n",
              "      border-top-color: var(--fill-color);\n",
              "      border-right-color: var(--fill-color);\n",
              "    }\n",
              "    40% {\n",
              "      border-color: transparent;\n",
              "      border-right-color: var(--fill-color);\n",
              "      border-top-color: var(--fill-color);\n",
              "    }\n",
              "    60% {\n",
              "      border-color: transparent;\n",
              "      border-right-color: var(--fill-color);\n",
              "    }\n",
              "    80% {\n",
              "      border-color: transparent;\n",
              "      border-right-color: var(--fill-color);\n",
              "      border-bottom-color: var(--fill-color);\n",
              "    }\n",
              "    90% {\n",
              "      border-color: transparent;\n",
              "      border-bottom-color: var(--fill-color);\n",
              "    }\n",
              "  }\n",
              "</style>\n",
              "\n",
              "  <script>\n",
              "    async function quickchart(key) {\n",
              "      const quickchartButtonEl =\n",
              "        document.querySelector('#' + key + ' button');\n",
              "      quickchartButtonEl.disabled = true;  // To prevent multiple clicks.\n",
              "      quickchartButtonEl.classList.add('colab-df-spinner');\n",
              "      try {\n",
              "        const charts = await google.colab.kernel.invokeFunction(\n",
              "            'suggestCharts', [key], {});\n",
              "      } catch (error) {\n",
              "        console.error('Error during call to suggestCharts:', error);\n",
              "      }\n",
              "      quickchartButtonEl.classList.remove('colab-df-spinner');\n",
              "      quickchartButtonEl.classList.add('colab-df-quickchart-complete');\n",
              "    }\n",
              "    (() => {\n",
              "      let quickchartButtonEl =\n",
              "        document.querySelector('#df-1f4f0b4e-357e-4ab8-9a3d-e04e99c3f623 button');\n",
              "      quickchartButtonEl.style.display =\n",
              "        google.colab.kernel.accessAllowed ? 'block' : 'none';\n",
              "    })();\n",
              "  </script>\n",
              "</div>\n",
              "\n",
              "    </div>\n",
              "  </div>\n"
            ],
            "application/vnd.google.colaboratory.intrinsic+json": {
              "type": "dataframe"
            }
          },
          "metadata": {},
          "execution_count": 7
        }
      ]
    },
    {
      "cell_type": "markdown",
      "source": [
        "#### Next, let's represent the sentences in the first question using bag-of-words."
      ],
      "metadata": {
        "id": "68uJ0nUL4WE9"
      }
    },
    {
      "cell_type": "code",
      "source": [
        "# Represent sentences in the first question using bag-of-words.\n",
        "from sklearn.feature_extraction.text import CountVectorizer\n",
        "vectorizer = CountVectorizer()\n",
        "X = vectorizer.fit_transform(sents)\n",
        "print(vectorizer.get_feature_names_out().tolist())\n",
        "print(X.toarray())"
      ],
      "metadata": {
        "colab": {
          "base_uri": "https://localhost:8080/"
        },
        "id": "Ks5GMWH24ciZ",
        "outputId": "0d8fb9e0-1f96-406c-8df5-431737e79c4a"
      },
      "execution_count": null,
      "outputs": [
        {
          "output_type": "stream",
          "name": "stdout",
          "text": [
            "['about', 'also', 'an', 'and', 'any', 'are', 'as', 'ask', 'bad', 'be', 'being', 'but', 'can', 'complains', 'controlling', 'could', 'describe', 'during', 'earn', 'economically', 'elderly', 'especially', 'events', 'everyone', 'ex', 'feeling', 'feelings', 'feels', 'financial', 'financially', 'find', 'for', 'found', 'goal', 'happiness', 'hard', 'have', 'her', 'his', 'if', 'in', 'independent', 'interests', 'is', 'it', 'just', 'lead', 'like', 'looking', 'low', 'mainly', 'man', 'many', 'marriage', 'matchmaking', 'maximizing', 'money', 'more', 'mother', 'no', 'not', 'objects', 'ocd', 'old', 'one', 'out', 'outcome', 'own', 'participating', 'people', 'preferably', 'probably', 'program', 'rate', 'realistic', 'responsibility', 'seems', 'seen', 'selfless', 'shocking', 'someone', 'son', 'strange', 'success', 'such', 'support', 'take', 'that', 'the', 'their', 'them', 'themselves', 'these', 'they', 'things', 'this', 'to', 'too', 'treating', 'trying', 'unwilling', 'vain', 'very', 'was', 'watching', 'who', 'wife', 'with', 'won', 'work']\n",
            "[[0 0 0 ... 0 0 0]\n",
            " [0 0 0 ... 0 0 0]\n",
            " [0 1 0 ... 0 0 0]\n",
            " ...\n",
            " [0 1 0 ... 0 0 0]\n",
            " [0 0 0 ... 0 0 0]\n",
            " [1 0 0 ... 0 0 0]]\n"
          ]
        }
      ]
    },
    {
      "cell_type": "code",
      "source": [
        "# Let's check the results\n",
        "print(X.shape)\n",
        "print(X[2])"
      ],
      "metadata": {
        "colab": {
          "base_uri": "https://localhost:8080/"
        },
        "id": "g62evz6T48Qi",
        "outputId": "d98640d9-42e7-4708-f792-50d93fbb45fe"
      },
      "execution_count": null,
      "outputs": [
        {
          "output_type": "stream",
          "name": "stdout",
          "text": [
            "(10, 110)\n",
            "  (0, 88)\t1\n",
            "  (0, 40)\t1\n",
            "  (0, 85)\t1\n",
            "  (0, 33)\t1\n",
            "  (0, 76)\t1\n",
            "  (0, 96)\t3\n",
            "  (0, 9)\t1\n",
            "  (0, 60)\t1\n",
            "  (0, 45)\t1\n",
            "  (0, 30)\t2\n",
            "  (0, 34)\t1\n",
            "  (0, 53)\t1\n",
            "  (0, 11)\t1\n",
            "  (0, 1)\t1\n",
            "  (0, 28)\t1\n"
          ]
        }
      ]
    },
    {
      "cell_type": "code",
      "source": [
        "# What are the two most similar sentences based on their bag-of-words vectors?\n",
        "from sklearn.metrics.pairwise import cosine_similarity\n",
        "simi_matrix = cosine_similarity(X)\n",
        "print(simi_matrix.round(3))\n",
        "# Print the two sentences that have the highest cosine similarity\n",
        "\n",
        "\n",
        "def find_max_index(arr):\n",
        "    max_value = 0  # Initialize with first element\n",
        "    mi1, mi2 = 0, 0  # Initialize indices\n",
        "    for i in range(1, len(arr)):\n",
        "        for j in range(i, len(arr)):\n",
        "            if (arr[i][j] > max_value) and (arr[i][j] < 0.9):\n",
        "                max_value = arr[i][j]  # Assign the current element's value\n",
        "                mi1, mi2 = i, j\n",
        "    return (max_value, mi1, mi2)\n",
        "\n",
        "print(find_max_index(simi_matrix))\n",
        "print(sents[2], '\\n', sents[4])\n",
        "# Bag-of-words do not consider semantics"
      ],
      "metadata": {
        "colab": {
          "base_uri": "https://localhost:8080/"
        },
        "id": "FlHxVkPP5OOj",
        "outputId": "e0f92bd8-362f-4035-b662-e30c66aa6298"
      },
      "execution_count": null,
      "outputs": [
        {
          "output_type": "stream",
          "name": "stdout",
          "text": [
            "[[1.    0.066 0.069 0.    0.09  0.144 0.094 0.    0.    0.   ]\n",
            " [0.066 1.    0.073 0.062 0.236 0.    0.099 0.    0.    0.   ]\n",
            " [0.069 0.073 1.    0.    0.324 0.32  0.    0.31  0.    0.296]\n",
            " [0.    0.062 0.    1.    0.085 0.136 0.089 0.    0.167 0.   ]\n",
            " [0.09  0.236 0.324 0.085 1.    0.207 0.034 0.161 0.    0.24 ]\n",
            " [0.144 0.    0.32  0.136 0.207 1.    0.109 0.129 0.    0.154]\n",
            " [0.094 0.099 0.    0.089 0.034 0.109 1.    0.    0.    0.   ]\n",
            " [0.    0.    0.31  0.    0.161 0.129 0.    1.    0.    0.12 ]\n",
            " [0.    0.    0.    0.167 0.    0.    0.    0.    1.    0.   ]\n",
            " [0.    0.    0.296 0.    0.24  0.154 0.    0.12  0.    1.   ]]\n",
            "(0.32378806290136664, 2, 4)\n",
            "The goal seems to be not just to find happiness in marriage, but also to find financial support. \n",
            " The success rate seems to be very low, and I have seen many strange things, such as a mother trying to earn more money for her son, an old man who complains about his controlling ex-wife but is unwilling to take any responsibility, people who are vain and people with OCD.\n"
          ]
        }
      ]
    },
    {
      "cell_type": "markdown",
      "source": [
        "#### Then, let's generate n-grams from the questions."
      ],
      "metadata": {
        "id": "UaKcG82280qq"
      }
    },
    {
      "cell_type": "code",
      "source": [
        "# Generate bigrams and trigrams from the first question.\n",
        "# Here we use the function ngrams\n",
        "from nltk import ngrams\n",
        "bigrams = ngrams(tokens, 2)\n",
        "trigrams = ngrams(tokens, 3)\n",
        "print(list(bigrams))\n",
        "print(list(trigrams))"
      ],
      "metadata": {
        "colab": {
          "base_uri": "https://localhost:8080/"
        },
        "id": "we20-VUI86GK",
        "outputId": "8a714212-9c95-44c0-e2df-267f0762384d"
      },
      "execution_count": null,
      "outputs": [
        {
          "output_type": "stream",
          "name": "stdout",
          "text": [
            "[('Watching', 'the'), ('the', 'elderly'), ('elderly', 'matchmaking'), ('matchmaking', 'program'), ('program', 'was'), ('was', 'very'), ('very', 'shocking'), ('shocking', '.'), ('.', 'I'), ('I', 'found'), ('found', 'that'), ('that', 'many'), ('many', 'people'), ('people', 'participating'), ('participating', 'in'), ('in', 'these'), ('these', 'matchmaking'), ('matchmaking', 'events'), ('events', 'are'), ('are', 'mainly'), ('mainly', 'looking'), ('looking', 'for'), ('for', 'someone'), ('someone', 'who'), ('who', 'can'), ('can', 'financially'), ('financially', 'support'), ('support', 'them'), ('them', ','), (',', 'preferably'), ('preferably', 'someone'), ('someone', 'who'), ('who', 'is'), ('is', 'economically'), ('economically', 'independent'), ('independent', '.'), ('.', 'The'), ('The', 'goal'), ('goal', 'seems'), ('seems', 'to'), ('to', 'be'), ('be', 'not'), ('not', 'just'), ('just', 'to'), ('to', 'find'), ('find', 'happiness'), ('happiness', 'in'), ('in', 'marriage'), ('marriage', ','), (',', 'but'), ('but', 'also'), ('also', 'to'), ('to', 'find'), ('find', 'financial'), ('financial', 'support'), ('support', '.'), ('.', 'It'), ('It', 'feels'), ('feels', 'like'), ('like', 'they'), ('they', 'are'), ('are', 'treating'), ('treating', 'themselves'), ('themselves', 'as'), ('as', 'objects'), ('objects', '.'), ('.', 'The'), ('The', 'success'), ('success', 'rate'), ('rate', 'seems'), ('seems', 'to'), ('to', 'be'), ('be', 'very'), ('very', 'low'), ('low', ','), (',', 'and'), ('and', 'I'), ('I', 'have'), ('have', 'seen'), ('seen', 'many'), ('many', 'strange'), ('strange', 'things'), ('things', ','), (',', 'such'), ('such', 'as'), ('as', 'a'), ('a', 'mother'), ('mother', 'trying'), ('trying', 'to'), ('to', 'earn'), ('earn', 'more'), ('more', 'money'), ('money', 'for'), ('for', 'her'), ('her', 'son'), ('son', ','), (',', 'an'), ('an', 'old'), ('old', 'man'), ('man', 'who'), ('who', 'complains'), ('complains', 'about'), ('about', 'his'), ('his', 'controlling'), ('controlling', 'ex-wife'), ('ex-wife', 'but'), ('but', 'is'), ('is', 'unwilling'), ('unwilling', 'to'), ('to', 'take'), ('take', 'any'), ('any', 'responsibility'), ('responsibility', ','), (',', 'people'), ('people', 'who'), ('who', 'are'), ('are', 'vain'), ('vain', 'and'), ('and', 'people'), ('people', 'with'), ('with', 'OCD'), ('OCD', '.'), ('.', 'It'), ('It', \"'s\"), (\"'s\", 'hard'), ('hard', 'to'), ('to', 'describe'), ('describe', 'the'), ('the', 'feeling'), ('feeling', '.'), ('.', 'If'), ('If', 'everyone'), ('everyone', 'is'), ('is', 'maximizing'), ('maximizing', 'their'), ('their', 'own'), ('own', 'interests'), ('interests', 'during'), ('during', 'matchmaking'), ('matchmaking', ','), (',', 'it'), ('it', 'probably'), ('probably', 'wo'), ('wo', \"n't\"), (\"n't\", 'work'), ('work', 'out'), ('out', '.'), ('.', 'But'), ('But', 'being'), ('being', 'too'), ('too', 'selfless'), ('selfless', 'could'), ('could', 'also'), ('also', 'lead'), ('lead', 'to'), ('to', 'a'), ('a', 'bad'), ('bad', 'outcome'), ('outcome', '.'), ('.', 'This'), ('This', 'feels'), ('feels', 'especially'), ('especially', 'realistic'), ('realistic', '.'), ('.', 'No'), ('No', 'one'), ('one', 'seems'), ('seems', 'to'), ('to', 'ask'), ('ask', 'about'), ('about', 'feelings'), ('feelings', '.')]\n",
            "[('Watching', 'the', 'elderly'), ('the', 'elderly', 'matchmaking'), ('elderly', 'matchmaking', 'program'), ('matchmaking', 'program', 'was'), ('program', 'was', 'very'), ('was', 'very', 'shocking'), ('very', 'shocking', '.'), ('shocking', '.', 'I'), ('.', 'I', 'found'), ('I', 'found', 'that'), ('found', 'that', 'many'), ('that', 'many', 'people'), ('many', 'people', 'participating'), ('people', 'participating', 'in'), ('participating', 'in', 'these'), ('in', 'these', 'matchmaking'), ('these', 'matchmaking', 'events'), ('matchmaking', 'events', 'are'), ('events', 'are', 'mainly'), ('are', 'mainly', 'looking'), ('mainly', 'looking', 'for'), ('looking', 'for', 'someone'), ('for', 'someone', 'who'), ('someone', 'who', 'can'), ('who', 'can', 'financially'), ('can', 'financially', 'support'), ('financially', 'support', 'them'), ('support', 'them', ','), ('them', ',', 'preferably'), (',', 'preferably', 'someone'), ('preferably', 'someone', 'who'), ('someone', 'who', 'is'), ('who', 'is', 'economically'), ('is', 'economically', 'independent'), ('economically', 'independent', '.'), ('independent', '.', 'The'), ('.', 'The', 'goal'), ('The', 'goal', 'seems'), ('goal', 'seems', 'to'), ('seems', 'to', 'be'), ('to', 'be', 'not'), ('be', 'not', 'just'), ('not', 'just', 'to'), ('just', 'to', 'find'), ('to', 'find', 'happiness'), ('find', 'happiness', 'in'), ('happiness', 'in', 'marriage'), ('in', 'marriage', ','), ('marriage', ',', 'but'), (',', 'but', 'also'), ('but', 'also', 'to'), ('also', 'to', 'find'), ('to', 'find', 'financial'), ('find', 'financial', 'support'), ('financial', 'support', '.'), ('support', '.', 'It'), ('.', 'It', 'feels'), ('It', 'feels', 'like'), ('feels', 'like', 'they'), ('like', 'they', 'are'), ('they', 'are', 'treating'), ('are', 'treating', 'themselves'), ('treating', 'themselves', 'as'), ('themselves', 'as', 'objects'), ('as', 'objects', '.'), ('objects', '.', 'The'), ('.', 'The', 'success'), ('The', 'success', 'rate'), ('success', 'rate', 'seems'), ('rate', 'seems', 'to'), ('seems', 'to', 'be'), ('to', 'be', 'very'), ('be', 'very', 'low'), ('very', 'low', ','), ('low', ',', 'and'), (',', 'and', 'I'), ('and', 'I', 'have'), ('I', 'have', 'seen'), ('have', 'seen', 'many'), ('seen', 'many', 'strange'), ('many', 'strange', 'things'), ('strange', 'things', ','), ('things', ',', 'such'), (',', 'such', 'as'), ('such', 'as', 'a'), ('as', 'a', 'mother'), ('a', 'mother', 'trying'), ('mother', 'trying', 'to'), ('trying', 'to', 'earn'), ('to', 'earn', 'more'), ('earn', 'more', 'money'), ('more', 'money', 'for'), ('money', 'for', 'her'), ('for', 'her', 'son'), ('her', 'son', ','), ('son', ',', 'an'), (',', 'an', 'old'), ('an', 'old', 'man'), ('old', 'man', 'who'), ('man', 'who', 'complains'), ('who', 'complains', 'about'), ('complains', 'about', 'his'), ('about', 'his', 'controlling'), ('his', 'controlling', 'ex-wife'), ('controlling', 'ex-wife', 'but'), ('ex-wife', 'but', 'is'), ('but', 'is', 'unwilling'), ('is', 'unwilling', 'to'), ('unwilling', 'to', 'take'), ('to', 'take', 'any'), ('take', 'any', 'responsibility'), ('any', 'responsibility', ','), ('responsibility', ',', 'people'), (',', 'people', 'who'), ('people', 'who', 'are'), ('who', 'are', 'vain'), ('are', 'vain', 'and'), ('vain', 'and', 'people'), ('and', 'people', 'with'), ('people', 'with', 'OCD'), ('with', 'OCD', '.'), ('OCD', '.', 'It'), ('.', 'It', \"'s\"), ('It', \"'s\", 'hard'), (\"'s\", 'hard', 'to'), ('hard', 'to', 'describe'), ('to', 'describe', 'the'), ('describe', 'the', 'feeling'), ('the', 'feeling', '.'), ('feeling', '.', 'If'), ('.', 'If', 'everyone'), ('If', 'everyone', 'is'), ('everyone', 'is', 'maximizing'), ('is', 'maximizing', 'their'), ('maximizing', 'their', 'own'), ('their', 'own', 'interests'), ('own', 'interests', 'during'), ('interests', 'during', 'matchmaking'), ('during', 'matchmaking', ','), ('matchmaking', ',', 'it'), (',', 'it', 'probably'), ('it', 'probably', 'wo'), ('probably', 'wo', \"n't\"), ('wo', \"n't\", 'work'), (\"n't\", 'work', 'out'), ('work', 'out', '.'), ('out', '.', 'But'), ('.', 'But', 'being'), ('But', 'being', 'too'), ('being', 'too', 'selfless'), ('too', 'selfless', 'could'), ('selfless', 'could', 'also'), ('could', 'also', 'lead'), ('also', 'lead', 'to'), ('lead', 'to', 'a'), ('to', 'a', 'bad'), ('a', 'bad', 'outcome'), ('bad', 'outcome', '.'), ('outcome', '.', 'This'), ('.', 'This', 'feels'), ('This', 'feels', 'especially'), ('feels', 'especially', 'realistic'), ('especially', 'realistic', '.'), ('realistic', '.', 'No'), ('.', 'No', 'one'), ('No', 'one', 'seems'), ('one', 'seems', 'to'), ('seems', 'to', 'ask'), ('to', 'ask', 'about'), ('ask', 'about', 'feelings'), ('about', 'feelings', '.')]\n"
          ]
        }
      ]
    },
    {
      "cell_type": "markdown",
      "source": [
        "#### Now, let's work on the implementation of TF-IDF."
      ],
      "metadata": {
        "id": "vFJJwDBb9L9B"
      }
    },
    {
      "cell_type": "code",
      "source": [
        "documents = ['The sky is blue', 'The sun is bright today', 'The sun in the sky is bright']"
      ],
      "metadata": {
        "id": "1ha7Mjc7xFwF"
      },
      "execution_count": null,
      "outputs": []
    },
    {
      "cell_type": "code",
      "source": [
        "# We use the function 'TfidfVectorizer' in sklearn to generate TF-IDF vectors.\n",
        "from sklearn.feature_extraction.text import TfidfVectorizer\n",
        "vectorizer = TfidfVectorizer()\n",
        "\n",
        "documents_tfidf = vectorizer.fit_transform(documents)\n",
        "vectorizer.get_feature_names_out()\n",
        "print(documents_tfidf.toarray().round(3))"
      ],
      "metadata": {
        "colab": {
          "base_uri": "https://localhost:8080/"
        },
        "id": "uMO64CSPxRz0",
        "outputId": "c26d68fb-3317-4eb6-c5f5-b1137bcd7da5"
      },
      "execution_count": null,
      "outputs": [
        {
          "output_type": "stream",
          "name": "stdout",
          "text": [
            "[[0.663 0.    0.    0.391 0.504 0.    0.391 0.   ]\n",
            " [0.    0.45  0.    0.35  0.    0.45  0.35  0.592]\n",
            " [0.    0.359 0.472 0.279 0.359 0.359 0.558 0.   ]]\n"
          ]
        }
      ]
    },
    {
      "cell_type": "code",
      "source": [
        "QC = pd.read_csv('/drive/My Drive/Teaching/2025 Spring/INFO 617/Lecture 5 Feb 17/INFO 617_QA_Question_Category.csv', encoding='latin-1')\n",
        "print(QC.head(5))"
      ],
      "metadata": {
        "colab": {
          "base_uri": "https://localhost:8080/"
        },
        "id": "K0-pBhkmAAGB",
        "outputId": "71d0ea79-351e-4661-ba96-5f7476d1cc50"
      },
      "execution_count": null,
      "outputs": [
        {
          "output_type": "stream",
          "name": "stdout",
          "text": [
            "         QID                                   Question_English  \\\n",
            "0  100788013  I have been suffering from insomnia for half a...   \n",
            "1  100788017  I can't describe what exactly is \"odd\" about m...   \n",
            "2  100788025  Always curious and wanting to experience hurti...   \n",
            "3  100788036  Is it normal to express anger? Is it necessary...   \n",
            "4  100788040  I dare not express my anger, but is it necessa...   \n",
            "\n",
            "                                            Cat1  \\\n",
            "0                Mental and emotional well-being   \n",
            "1                  Family dynamics and parenting   \n",
            "2       Behavioral issues and undesirable habits   \n",
            "3  Interpersonal relationships and social skills   \n",
            "4                  Family dynamics and parenting   \n",
            "\n",
            "                                            Cat2  \n",
            "0                                Physical health  \n",
            "1                Mental and emotional well-being  \n",
            "2                Mental and emotional well-being  \n",
            "3                Mental and emotional well-being  \n",
            "4  Interpersonal relationships and social skills  \n"
          ]
        }
      ]
    },
    {
      "cell_type": "code",
      "source": [
        "# Let's generate TF-IDF vectors for questions in this dataset.\n",
        "# We use the function 'TfidfVectorizer' again\n",
        "from sklearn.feature_extraction.text import TfidfVectorizer\n",
        "vectorizer = TfidfVectorizer()\n",
        "\n",
        "question_tfidf = vectorizer.fit_transform(QC['Question_English'])\n",
        "vectorizer.get_feature_names_out()\n",
        "print(question_tfidf.shape)"
      ],
      "metadata": {
        "colab": {
          "base_uri": "https://localhost:8080/"
        },
        "id": "FMDCdJauA5pT",
        "outputId": "663e7655-be57-4448-9864-ac1e80fdc09a"
      },
      "execution_count": null,
      "outputs": [
        {
          "output_type": "stream",
          "name": "stdout",
          "text": [
            "(3858, 12805)\n"
          ]
        }
      ]
    },
    {
      "cell_type": "code",
      "source": [
        "# What is most similar question to the first question in the dataset based on their TF-IDF vectors?\n",
        "from sklearn.metrics.pairwise import cosine_similarity\n",
        "most_simi_index = 0\n",
        "most_simi_score = 0\n",
        "for i in range(1, question_tfidf.shape[0]):\n",
        "  simi_score = cosine_similarity(question_tfidf[0], question_tfidf[i])\n",
        "  if simi_score > most_simi_score:\n",
        "    most_simi_score = simi_score\n",
        "    most_simi_index = i\n",
        "print(most_simi_score, most_simi_index)"
      ],
      "metadata": {
        "colab": {
          "base_uri": "https://localhost:8080/"
        },
        "id": "JTOyEsrWBwsw",
        "outputId": "7e942044-c63a-401b-e533-7b200e9a0751"
      },
      "execution_count": null,
      "outputs": [
        {
          "output_type": "stream",
          "name": "stdout",
          "text": [
            "[[0.29483794]] 1904\n"
          ]
        }
      ]
    },
    {
      "cell_type": "code",
      "source": [
        "print(QC['Question_English'].iloc[0], '\\n')\n",
        "print(QC['Question_English'].iloc[most_simi_index])"
      ],
      "metadata": {
        "colab": {
          "base_uri": "https://localhost:8080/"
        },
        "id": "523T_I_7wg48",
        "outputId": "bff28c48-469b-45dd-fc85-531930d5d658"
      },
      "execution_count": null,
      "outputs": [
        {
          "output_type": "stream",
          "name": "stdout",
          "text": [
            "I have been suffering from insomnia for half a year. I have difficulty falling asleep, and occasionally when I do, I get woken up by nightmares. I feel extremely exhausted physically, but my mind remains in an excited state, making it really difficult for me to fall asleep. I have tried various methods, such as drinking milk and foot baths before bed, but they have had the opposite effect, making it even harder for me to sleep. I used to be able to use boring textbooks to lull myself to sleep, but this year it doesn't work anymore, and I become more excited the more I read. I have also sought counseling, but after the counselor asked about my symptoms, they did not provide any advice on how to solve or alleviate them. I also tried self-hypnosis, but it had no effect. I attempted changing my environment, but I still got disturbed by various internal and external factors. I also tried to change my mental state, as I don't usually feel anxious. However, I still can't sleep. Even if I doze off occasionally, I get woken up by nightmares. \n",
            "\n",
            "Afraid of being disturbed, afraid of not being able to sleep, and constantly suffering from insomnia. ||| After giving birth, I often suffered from insomnia. The baby's sleep was not very sound, either whimpering or kicking legs from time to time, and I always had to pat him or get up to cover him with a blanket. I was always afraid, constantly thinking that he would move in a moment, and couldn't fall asleep at all. Later my mother-in-law said she would take care of the baby so I could have a good night's sleep. Those days I was very tired, and as soon as I lay down, I fell asleep peacefully. However, after a few days, I found out that she snores in her sleep, which kept me awake again. I was always afraid that she would snore, thinking that if she did, I wouldn't be able to sleep. As a result, I was excited all night, involuntarily listening to see if she was snoring. When she did, I woke her up and she stopped temporarily, but then I couldn't help but listen to her breathing, and when she snored again after a while, I felt very agitated and had a painful feeling in my chest. Later I tried sleeping alone in a room, but I was always afraid and had many irrational thoughts. When I closed my eyes, all I could see were ghosts and monsters. While I was able to fall asleep, I always had nightmares and woke up startled. I'm really about to collapse; after a night of insomnia, the next day I feel restless and have no energy, I just want to explode. Then I'm afraid of not being able to sleep, and the more I'm afraid, the more I can't sleep. After several days of lack of sleep, one day I fell into a deep sleep, but then couldn't sleep again. This vicious cycle continues. What should I do?\n"
          ]
        }
      ]
    },
    {
      "cell_type": "markdown",
      "source": [
        "#### Let's explore another use case of the TF-IDF vectors."
      ],
      "metadata": {
        "id": "Rr5Ju9vHy6Zu"
      }
    },
    {
      "cell_type": "code",
      "source": [
        "# Each question has two category labels, \"Cat1\" and \"Cat2\", which indicate the\n",
        "# most relevant topics that describe the nature of this question. Let's try to\n",
        "# cluster these questions and see if the results will be consistent with the\n",
        "# category labels.\n",
        "\n",
        "# We focus on the first category label \"Cat1\"\n",
        "from collections import Counter\n",
        "Counter(QC['Cat1'])\n",
        "\n",
        "# There are 11 category labels in total, but there are only a handful of questions in some categories."
      ],
      "metadata": {
        "colab": {
          "base_uri": "https://localhost:8080/"
        },
        "id": "n4zruWzjy6Gn",
        "outputId": "547f9790-c620-459e-8b36-67604462489b"
      },
      "execution_count": null,
      "outputs": [
        {
          "output_type": "execute_result",
          "data": {
            "text/plain": [
              "Counter({'Mental and emotional well-being': 800,\n",
              "         'Family dynamics and parenting': 929,\n",
              "         'Behavioral issues and undesirable habits': 49,\n",
              "         'Interpersonal relationships and social skills': 674,\n",
              "         'Romantic relationships and marriage': 759,\n",
              "         'Personal growth and self-development': 208,\n",
              "         'Work, career, and employment': 272,\n",
              "         'Education and school life': 153,\n",
              "         'Sexuality and sex': 10,\n",
              "         'Social incidents and cultural issues': 1,\n",
              "         'Physical health': 3})"
            ]
          },
          "metadata": {},
          "execution_count": 33
        }
      ]
    },
    {
      "cell_type": "code",
      "source": [
        "# Let's try to cluster the questions into 8 clusters using their TF-IDF vectors.\n",
        "# The code is simple -- we use the KMeans function in the sklearn package\n",
        "# The results are stored in kmeans.labels_, which indicates the cluster index of each question\n",
        "\n",
        "from sklearn.cluster import KMeans\n",
        "kmeans = KMeans(n_clusters=8, random_state=0).fit(question_tfidf)\n",
        "print(kmeans.labels_)"
      ],
      "metadata": {
        "colab": {
          "base_uri": "https://localhost:8080/"
        },
        "id": "tDa6cgE80PhD",
        "outputId": "0e9b08c7-0633-4335-cf86-1b95e294edb3"
      },
      "execution_count": null,
      "outputs": [
        {
          "output_type": "stream",
          "name": "stdout",
          "text": [
            "[3 0 2 ... 6 5 2]\n"
          ]
        }
      ]
    },
    {
      "cell_type": "code",
      "source": [
        "# Check the distribution of questions grouped into each cluster\n",
        "print(Counter(kmeans.labels_))\n",
        "# Show the results in a barchart\n",
        "import matplotlib.pyplot as plt\n",
        "# Sort the bars from the highest to the lowest\n",
        "plt.bar(range(8), [i[1] for i in Counter(kmeans.labels_).most_common(8)])\n",
        "plt.xticks(range(8), [i[0] for i in Counter(kmeans.labels_).most_common(8)])\n",
        "plt.show()"
      ],
      "metadata": {
        "colab": {
          "base_uri": "https://localhost:8080/",
          "height": 447
        },
        "id": "6doO1GrY0qBS",
        "outputId": "6e30b904-320f-4d27-8fbf-69994434d548"
      },
      "execution_count": null,
      "outputs": [
        {
          "output_type": "stream",
          "name": "stdout",
          "text": [
            "Counter({3: 736, 6: 508, 4: 503, 5: 486, 2: 457, 1: 437, 7: 393, 0: 338})\n"
          ]
        },
        {
          "output_type": "display_data",
          "data": {
            "text/plain": [
              "<Figure size 640x480 with 1 Axes>"
            ],
            "image/png": "[encoded data removed]"
          },
          "metadata": {}
        }
      ]
    },
    {
      "cell_type": "code",
      "source": [
        "# Check the label distribution ('Cat1') of questions grouped into each cluster\n",
        "# Let's try the top two categories that include most questions, with indexes 3 and 6.\n",
        "cluster_index = 3\n",
        "cluster_labels = [i[1] for i in zip(kmeans.labels_, QC['Cat1']) if i[0] == cluster_index]\n",
        "\n",
        "\n",
        "# Sort the bars from the highest to the lowest\n",
        "plt.bar(range(8), [i[1] for i in Counter(cluster_labels).most_common(8)])\n",
        "plt.xticks(range(8), [i[0] for i in Counter(cluster_labels).most_common(8)], rotation = 90)\n",
        "plt.show()"
      ],
      "metadata": {
        "colab": {
          "base_uri": "https://localhost:8080/",
          "height": 715
        },
        "id": "w1-oQ7KD1rRj",
        "outputId": "814d1f54-2d14-44a0-ed59-39bed2e20c14"
      },
      "execution_count": null,
      "outputs": [
        {
          "output_type": "display_data",
          "data": {
            "text/plain": [
              "<Figure size 640x480 with 1 Axes>"
            ],
            "image/png": "[encoded data removed]"
          },
          "metadata": {}
        }
      ]
    },
    {
      "cell_type": "markdown",
      "source": [
        "#### Finally, let's implement LDA in this notebook."
      ],
      "metadata": {
        "id": "Qr209d9S3bMH"
      }
    },
    {
      "cell_type": "code",
      "source": [
        "# Let's implement LDA for topic modeling on the questions\n",
        "from sklearn.decomposition import LatentDirichletAllocation\n",
        "\n",
        "# Assuming 'question_tfidf' is already calculated from previous code\n",
        "lda = LatentDirichletAllocation(n_components=8, random_state=0) # You can adjust n_components\n",
        "lda.fit(question_tfidf)\n",
        "\n",
        "# Print the top words for each topic\n",
        "for idx, topic in enumerate(lda.components_):\n",
        "    print(f\"Top 10 words for Topic #{idx}:\")\n",
        "    print([vectorizer.get_feature_names_out()[i] for i in topic.argsort()[:-11:-1]]) # Adjust the number of words to display\n",
        "    print(\"\\n\")\n",
        "\n",
        "# Get the topic distribution for each document\n",
        "topic_distribution = lda.transform(question_tfidf)"
      ],
      "metadata": {
        "colab": {
          "base_uri": "https://localhost:8080/"
        },
        "id": "VYY19Utp3a_e",
        "outputId": "cf34d3d0-9080-4a11-e8aa-9ff722bedd89"
      },
      "execution_count": null,
      "outputs": [
        {
          "output_type": "stream",
          "name": "stdout",
          "text": [
            "Top 10 words for Topic #0:\n",
            "['significance', 'tranquility', 'grandpa', 'unworthiness', 'contagious', 'valentine', 'strike', 'firstborn', 'erupt', 'extremes']\n",
            "\n",
            "\n",
            "Top 10 words for Topic #1:\n",
            "['achievement', 'unconditional', 'aggression', 'unfulfilled', 'rebuild', 'therapists', 'powerã', 'favoritism', 'adopted', 'regressed']\n",
            "\n",
            "\n",
            "Top 10 words for Topic #2:\n",
            "['diabetes', 'moon', 'benefited', 'keys', 'hypochondria', 'gas', 'pseudo', 'autism', 'doll', 'lateral']\n",
            "\n",
            "\n",
            "Top 10 words for Topic #3:\n",
            "['drugs', 'listless', 'nuclear', 'chemistry', 'disinterest', 'loathe', 'languages', 'yue', 'ji', 'heights']\n",
            "\n",
            "\n",
            "Top 10 words for Topic #4:\n",
            "['translation', 'heartily', '360', 'raining', 'shards', 'kitten', 'relevant', 'da', 'choke', 'suitcase']\n",
            "\n",
            "\n",
            "Top 10 words for Topic #5:\n",
            "['lisa', 'charger', 'â¼â', 'blurt', 'battery', 'overeat', 'bloated', 'discrimination', 'victory', 'evasion']\n",
            "\n",
            "\n",
            "Top 10 words for Topic #6:\n",
            "['and', 'to', 'the', 'my', 'me', 'of', 'he', 'in', 'it', 'she']\n",
            "\n",
            "\n",
            "Top 10 words for Topic #7:\n",
            "['unhygienic', 'ktv', 'fetish', 'constitute', 'jing', 'complacency', 'threshold', 'premarital', 'cooperates', 'slighted']\n",
            "\n",
            "\n",
            "Topic distribution for the first document: [0.01201036 0.01201031 0.01201038 0.0658485  0.01201039 0.01206338\n",
            " 0.86203627 0.0120104 ]\n"
          ]
        }
      ]
    },
    {
      "cell_type": "code",
      "source": [
        "# Example: Print the topic distribution for the first document\n",
        "for i in range(8):\n",
        "  print(f\"Topic distribution for the first document: {topic_distribution[i]}\", '\\n')\n"
      ],
      "metadata": {
        "colab": {
          "base_uri": "https://localhost:8080/"
        },
        "id": "BLQ1dmsH7Q8r",
        "outputId": "0a5f1d18-12bd-4e14-933a-8591bb59fc09"
      },
      "execution_count": null,
      "outputs": [
        {
          "output_type": "stream",
          "name": "stdout",
          "text": [
            "Topic distribution for the first document: [0.01205684 0.01205683 0.01205684 0.01205684 0.01205684 0.01205684\n",
            " 0.91560211 0.01205685] \n",
            "\n",
            "Topic distribution for the first document: [0.01201036 0.01201031 0.01201038 0.0658485  0.01201039 0.01206338\n",
            " 0.86203627 0.0120104 ] \n",
            "\n",
            "Topic distribution for the first document: [0.02130965 0.02130965 0.02130965 0.02130965 0.02130965 0.02130965\n",
            " 0.85083245 0.02130965] \n",
            "\n",
            "Topic distribution for the first document: [0.01112377 0.01112377 0.01112377 0.01112377 0.01112377 0.01112377\n",
            " 0.92213358 0.01112378] \n",
            "\n",
            "Topic distribution for the first document: [0.01157868 0.01157868 0.01157868 0.01157868 0.01157868 0.01157868\n",
            " 0.91894921 0.01157868] \n",
            "\n",
            "Topic distribution for the first document: [0.01162054 0.01162054 0.01162054 0.01162054 0.01162054 0.01162054\n",
            " 0.91865619 0.01162054] \n",
            "\n",
            "Topic distribution for the first document: [0.0213493  0.02134929 0.0213493  0.0213493  0.12335076 0.0213493\n",
            " 0.74855344 0.0213493 ] \n",
            "\n",
            "Topic distribution for the first document: [0.01445125 0.05693478 0.01445127 0.01445127 0.01445127 0.01446467\n",
            " 0.85634421 0.01445128] \n",
            "\n"
          ]
        }
      ]
    },
    {
      "cell_type": "markdown",
      "source": [
        "#### What we can see from the results is that most documents are heavily skewed toward the second to last topic, which is represented by words such as 'and', 'to', 'the', 'my', 'me', 'of', 'he', 'in', 'it', 'she'.\n",
        "\n",
        "* Indeed, many of these words are in the list of \"stop word\" that do not have a strong semantic meaning. Hence, the common practice is to filter out these words before LDA."
      ],
      "metadata": {
        "id": "6c4-t2eG7KSt"
      }
    }
  ]
}