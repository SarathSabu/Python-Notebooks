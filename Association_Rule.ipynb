{
  "nbformat": 4,
  "nbformat_minor": 0,
  "metadata": {
    "colab": {
      "private_outputs": true,
      "provenance": [],
      "include_colab_link": true
    },
    "kernelspec": {
      "name": "python3",
      "display_name": "Python 3"
    },
    "language_info": {
      "name": "python"
    }
  },
  "cells": [
    {
      "cell_type": "markdown",
      "metadata": {
        "id": "view-in-github",
        "colab_type": "text"
      },
      "source": [
        "<a href=\"https://colab.research.google.com/github/SarathSabu/Python-Notebooks/blob/main/Association_Rule.ipynb\" target=\"_parent\"><img src=\"https://colab.research.google.com/assets/colab-badge.svg\" alt=\"Open In Colab\"/></a>"
      ]
    },
    {
      "cell_type": "code",
      "execution_count": null,
      "metadata": {
        "id": "RXmXcDDEf1kk"
      },
      "outputs": [],
      "source": [
        "from google.colab import drive\n",
        "drive.mount('/content/drive')\n",
        "!pip install apyori # to install apyori\n",
        "\n",
        "# import libraries\n",
        "import pandas as pd\n",
        "import numpy as np\n",
        "import matplotlib.pyplot as plt\n",
        "import plotly.express as px"
      ]
    },
    {
      "cell_type": "code",
      "source": [
        "# import data as dataframe\n",
        "file_path = '/content/drive/MyDrive/Infor648/Data/Market_Basket.csv'\n",
        "df = pd.read_csv(file_path, header = None)\n",
        "\n",
        "# calling head() method\n",
        "df.head()\n",
        "# Based on the data, we have 20 columns from 0 - 19"
      ],
      "metadata": {
        "id": "gOe-E3yZgOh5"
      },
      "execution_count": null,
      "outputs": []
    },
    {
      "cell_type": "markdown",
      "source": [
        "#Data Pre-processing"
      ],
      "metadata": {
        "id": "2GcVxlstlsNn"
      }
    },
    {
      "cell_type": "code",
      "source": [
        "## Data Cleaning step\n",
        "\n",
        "# replacing empty value with 0.\n",
        "df.fillna(0,inplace=True)\n",
        "df.head()\n"
      ],
      "metadata": {
        "id": "msTNRrDfhuiq"
      },
      "execution_count": null,
      "outputs": []
    },
    {
      "cell_type": "code",
      "source": [
        "# we need to convert data in list format..\n",
        "# transaction = [['apple','almonds'],['apple'],['banana','apple']]....\n",
        "\n",
        "transactions = []\n",
        "\n",
        "for i in range(0,len(df)):\n",
        "    transactions.append([str(df.values[i,j]) for j in range(0,20) if str(df.values[i,j])!='0']) # adjust the column range based on the number of columns in the DataFrame, we currently have from 0 - 19"
      ],
      "metadata": {
        "id": "dmcx5a6zgdaW"
      },
      "execution_count": null,
      "outputs": []
    },
    {
      "cell_type": "code",
      "source": [
        "#a list of transactions\n",
        "transactions[0]"
      ],
      "metadata": {
        "id": "_EBtiBrqg_Db"
      },
      "execution_count": null,
      "outputs": []
    },
    {
      "cell_type": "markdown",
      "source": [
        "#Check the items frequency"
      ],
      "metadata": {
        "id": "orLZaHm3FTV7"
      }
    },
    {
      "cell_type": "code",
      "source": [
        "# Initialize a dictionary to count item occurrences (support count)\n",
        "support_count = {}\n",
        "\n",
        "# Count the occurrences of each item in the transactions\n",
        "for transaction in transactions:\n",
        "    for item in transaction:\n",
        "        if item in support_count:\n",
        "            support_count[item] += 1\n",
        "        else:\n",
        "            support_count[item] = 1\n",
        "\n",
        "df_support = pd.DataFrame(list(support_count.items()), columns=['Item', 'Support Count'])\n",
        "\n",
        "# Calculate total number of transactions\n",
        "total_transactions = len(transactions)\n",
        "\n",
        "# Calculate support\n",
        "df_support['Support'] = df_support['Support Count'] / total_transactions\n",
        "\n",
        "# Sort the DataFrame by Support Count (descending)\n",
        "df_support = df_support.sort_values('Support Count', ascending=False).reset_index(drop=True)\n",
        "\n",
        "# Display the top 20 items\n",
        "df_support.head(20)\n",
        "\n",
        "\n"
      ],
      "metadata": {
        "id": "3-PoselYqdBB"
      },
      "execution_count": null,
      "outputs": []
    },
    {
      "cell_type": "code",
      "source": [
        "import plotly.graph_objects as go\n",
        "\n",
        "# Select the top 20 items based on support count\n",
        "df_top_20 = df_support.head(20)###adjust here\n",
        "\n",
        "fig = go.Figure(data=[go.Bar(\n",
        "    x=df_top_20[\"Item\"],  # X-axis: items (top 20)\n",
        "    y=df_top_20[\"Support Count\"],  # Y-axis: support count (frequency)\n",
        "    hovertext=df_top_20[\"Item\"],\n",
        "    text=df_top_20[\"Support Count\"],  # Display support counts on the bars\n",
        "    textposition=\"outside\"  # Position of the text\n",
        ")])\n",
        "\n",
        "fig.update_traces(marker_color='MediumPurple',\n",
        "                  marker_line_color='MediumPurple',\n",
        "                  marker_line_width=1.5, opacity=0.85)\n",
        "\n",
        "# adjust figure size, background color, and title\n",
        "fig.update_layout(\n",
        "    title_text=\"Top 20 Items by Frequency (Support Count)\",\n",
        "    template=\"simple_white\",\n",
        "    width=800,  # Adjust width of the figure\n",
        "    height=600,  # Adjust height of the figure\n",
        "    title_font=dict(size=24),  # Adjust title font size\n",
        "    xaxis=dict(tickangle=-45)  # Rotate x-axis labels\n",
        ")\n",
        "\n",
        "# Display the figure\n",
        "fig.show()\n"
      ],
      "metadata": {
        "id": "XHzuNSaLsD0f"
      },
      "execution_count": null,
      "outputs": []
    },
    {
      "cell_type": "markdown",
      "source": [
        "#Check the first item often selected by consumers"
      ],
      "metadata": {
        "id": "hmEeKxSUFbwE"
      }
    },
    {
      "cell_type": "code",
      "source": [
        "# Take the first item in each non-empty transaction\n",
        "first_choices = [transaction[0] for transaction in transactions if transaction]\n",
        "\n",
        "first_choice_count = {}\n",
        "\n",
        "for item in first_choices:\n",
        "    if item in first_choice_count:\n",
        "        first_choice_count[item] += 1\n",
        "    else:\n",
        "        first_choice_count[item] = 1\n",
        "\n",
        "\n",
        "df_first_choice = pd.DataFrame(list(first_choice_count.items()), columns=['Item', 'First Choice Count'])\n",
        "\n",
        "# Sort the DataFrame by the first choice count in descending order and select top 20 items\n",
        "df_top_20_first_choice = df_first_choice.sort_values('First Choice Count', ascending=False).head(20).reset_index(drop=True) ##adjust here\n",
        "\n",
        "# Create a bar chart for the top 20 first choice frequency\n",
        "fig = go.Figure(data=[go.Bar(\n",
        "    x=df_top_20_first_choice[\"Item\"],  # X-axis: items\n",
        "    y=df_top_20_first_choice[\"First Choice Count\"],  # Y-axis: first choice count (frequency)\n",
        "    hovertext=df_top_20_first_choice[\"Item\"],\n",
        "    text=df_top_20_first_choice[\"First Choice Count\"],  # Display counts on the bars\n",
        "    textposition=\"outside\"  # Position of the text\n",
        ")])\n",
        "\n",
        "# Customize the bar appearance\n",
        "fig.update_traces(marker_color='LightSkyBlue', marker_line_color='LightSkyBlue',\n",
        "                  marker_line_width=1.5, opacity=0.85)\n",
        "\n",
        "# adjust figure size, background color, and title\n",
        "fig.update_layout(\n",
        "    title_text=\"Top 20 First Choice Items by Customers\",\n",
        "    template=\"simple_white\",\n",
        "    width=800,  # Adjust width of the figure\n",
        "    height=600,  # Adjust height of the figure\n",
        "    title_font=dict(size=24),  # Adjust title font size\n",
        "    xaxis=dict(tickangle=-45)  # Rotate x-axis labels for better readability\n",
        ")\n",
        "\n",
        "# Display the figure\n",
        "fig.show()"
      ],
      "metadata": {
        "id": "OcBIYQbzvtC-"
      },
      "execution_count": null,
      "outputs": []
    },
    {
      "cell_type": "markdown",
      "source": [
        "#Association Rule Mining"
      ],
      "metadata": {
        "id": "WXpQXdB-Fj8r"
      }
    },
    {
      "cell_type": "code",
      "source": [
        "# Parameters:\n",
        "# transactions: Our main dataset. A list of transactions where each transaction is a list of items\n",
        "# min_support: Minimum support threshold (0.01 means itemsets must appear in at least 1% of transactions)\n",
        "# min_confidence: Minimum confidence threshold (0.1 means rules must have at least 10% confidence)\n",
        "# min_lift: Minimum lift threshold (2 means the consequent is at least twice as likely to appear when the antecedent is present)\n",
        "# min_length: Minimum length of the itemset (2 means itemsets with at least 2 items will be considered)\n",
        "# max_length: Maximum length of the itemset (2 means itemsets with at most 2 items will be considered)\n",
        "\n",
        "from apyori import apriori\n",
        "rules = apriori(transactions = transactions, min_support = 0.01, min_confidence = 0.1, min_lift = 2, min_length = 2)\n",
        "results = list(rules)\n",
        "\n",
        "#from apyori import apriori\n",
        "#rules = apriori(transactions = transactions, min_support = 0.01, min_confidence = 0.1, min_lift = 2, min_length = 2, max_length = 3)"
      ],
      "metadata": {
        "id": "cNp8pg42hCWN"
      },
      "execution_count": null,
      "outputs": []
    },
    {
      "cell_type": "code",
      "source": [
        "# Loop through the generated rules and print relevant details\n",
        "for rule in results:\n",
        "    # Display the items involved in the rule (antecedent → consequent)\n",
        "    print(f\"Rule: {rule.items}\")\n",
        "\n",
        "    # Display the support of the rule\n",
        "    print(f\"Support: {rule.support}\")\n",
        "\n",
        "    # Display the confidence of the rule (how likely the consequent is, given the antecedent)\n",
        "    print(f\"Confidence: {rule.ordered_statistics[0].confidence}\")\n",
        "\n",
        "    # Display the lift of the rule (how much more likely the consequent is, given the antecedent)\n",
        "    print(f\"Lift: {rule.ordered_statistics[0].lift}\")\n",
        "\n",
        "    # Print a separator for readability between rules\n",
        "    print(\"=\" * 30)"
      ],
      "metadata": {
        "id": "Txaz8QpZoZVK"
      },
      "execution_count": null,
      "outputs": []
    },
    {
      "cell_type": "markdown",
      "source": [
        "#Check our results"
      ],
      "metadata": {
        "id": "P2jg4a0yFv7z"
      }
    },
    {
      "cell_type": "code",
      "source": [
        "# Prepare lists to store the extracted data\n",
        "antecedents = []\n",
        "consequents = []\n",
        "supports = []\n",
        "confidences = []\n",
        "lifts = []\n",
        "\n",
        "# Loop through the results and extract the necessary details\n",
        "for rule in results:\n",
        "    for ordered_stat in rule.ordered_statistics:\n",
        "        antecedents.append(', '.join(list(ordered_stat.items_base)))  # Antecedent (if available)\n",
        "        consequents.append(', '.join(list(ordered_stat.items_add)))  # Consequent\n",
        "        supports.append(rule.support)  # Support\n",
        "        confidences.append(ordered_stat.confidence)  # Confidence\n",
        "        lifts.append(ordered_stat.lift)  # Lift\n",
        "\n",
        "# Create a DataFrame for better visualization\n",
        "df_rules = pd.DataFrame({\n",
        "    'Antecedent': antecedents,\n",
        "    'Consequent': consequents,\n",
        "    'Support': supports,\n",
        "    'Confidence': confidences,\n",
        "    'Lift': lifts\n",
        "})\n",
        "\n",
        "# Display the DataFrame\n",
        "display(df_rules)"
      ],
      "metadata": {
        "id": "EJP1qtEvuL7h"
      },
      "execution_count": null,
      "outputs": []
    },
    {
      "cell_type": "code",
      "source": [
        "df_rules_sorted_lift = df_rules.sort_values('Lift', ascending=False).reset_index(drop=True)\n",
        "\n",
        "# Display the sorted DataFrame\n",
        "display(df_rules_sorted_lift)\n"
      ],
      "metadata": {
        "id": "9hOGGGJ9vhy-"
      },
      "execution_count": null,
      "outputs": []
    },
    {
      "cell_type": "code",
      "source": [
        "df_rules_sorted_support = df_rules.sort_values('Support', ascending=False).reset_index(drop=True)\n",
        "\n",
        "# Display the sorted DataFrame\n",
        "display(df_rules_sorted_support.head(10))"
      ],
      "metadata": {
        "id": "FdsYPDJ0wsKc"
      },
      "execution_count": null,
      "outputs": []
    },
    {
      "cell_type": "code",
      "source": [
        "# Create a bar chart to visualize the lift of the top 20 rules\n",
        "fig = px.bar(df_rules_sorted_lift.head(20), ###adjust here\n",
        "             x='Antecedent',\n",
        "             y='Lift',\n",
        "             color='Consequent',\n",
        "             title=\"Top 20 Association Rules by Lift\")\n",
        "\n",
        "# Display the bar chart\n",
        "fig.show()\n",
        "\n"
      ],
      "metadata": {
        "id": "hpXTIk-ZvdvN"
      },
      "execution_count": null,
      "outputs": []
    }
  ]
}