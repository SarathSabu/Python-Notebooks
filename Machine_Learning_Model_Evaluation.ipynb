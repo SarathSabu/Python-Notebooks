{
  "nbformat": 4,
  "nbformat_minor": 0,
  "metadata": {
    "colab": {
      "provenance": [],
      "include_colab_link": true
    },
    "kernelspec": {
      "name": "python3",
      "display_name": "Python 3"
    },
    "language_info": {
      "name": "python"
    }
  },
  "cells": [
    {
      "cell_type": "markdown",
      "metadata": {
        "id": "view-in-github",
        "colab_type": "text"
      },
      "source": [
        "<a href=\"https://colab.research.google.com/github/SarathSabu/Python-Notebooks/blob/main/Machine_Learning_Model_Evaluation.ipynb\" target=\"_parent\"><img src=\"https://colab.research.google.com/assets/colab-badge.svg\" alt=\"Open In Colab\"/></a>"
      ]
    },
    {
      "cell_type": "markdown",
      "source": [
        "\n",
        "#### Mount the notebook to your Google Drive folder."
      ],
      "metadata": {
        "id": "tKXMDSx0g_xP"
      }
    },
    {
      "cell_type": "code",
      "source": [
        "from google.colab import drive\n",
        "drive.mount('/drive')"
      ],
      "metadata": {
        "colab": {
          "base_uri": "https://localhost:8080/"
        },
        "id": "6KSFE48-hAbN",
        "outputId": "b8debde8-b639-41c4-fa9c-05ea152134c9"
      },
      "execution_count": null,
      "outputs": [
        {
          "output_type": "stream",
          "name": "stdout",
          "text": [
            "Drive already mounted at /drive; to attempt to forcibly remount, call drive.mount(\"/drive\", force_remount=True).\n"
          ]
        }
      ]
    },
    {
      "cell_type": "markdown",
      "source": [
        "#### Opening a .csv datafile and load the data"
      ],
      "metadata": {
        "id": "c-ItkTaohHlu"
      }
    },
    {
      "cell_type": "code",
      "source": [
        "import pandas as pd\n",
        "QA = pd.read_csv('/drive/My Drive/info617/INFO 617 Mental Health QA_LIWC.csv', encoding='latin-1')\n",
        "print(QA.head(5))"
      ],
      "metadata": {
        "colab": {
          "base_uri": "https://localhost:8080/"
        },
        "id": "EwI4quv-juAf",
        "outputId": "f7055a60-cc1c-4c9d-f502-0de5585def51"
      },
      "execution_count": null,
      "outputs": [
        {
          "output_type": "stream",
          "name": "stdout",
          "text": [
            "         QID                                   Question_English  \\\n",
            "0  100788023  Watching the elderly matchmaking program was v...   \n",
            "1  100788009  Falling in love with someone else and breaking...   \n",
            "2  100788013  I have been suffering from insomnia for half a...   \n",
            "3  100788013  I have been suffering from insomnia for half a...   \n",
            "4  100788013  I have been suffering from insomnia for half a...   \n",
            "\n",
            "                                      Answer_English  Usefulness_vote  \\\n",
            "0  Hello. Let's start by talking about young peop...                2   \n",
            "1  Hello! Sending you a virtual hug first. Thumbs...                2   \n",
            "2  Hello! â I saw the issue you raised about in...                8   \n",
            "3  Hello! â I saw the issue you raised about in...                8   \n",
            "4  Hi, I just want to hug you. I can feel the kin...                6   \n",
            "\n",
            "   Comment_count  Received_Bonus_Yes_No  Segment   WC  Analytic  Clout  ...  \\\n",
            "0              0                      0        1  359     52.91  83.28  ...   \n",
            "1              0                      0        1  199     72.83  96.90  ...   \n",
            "2              2                      1        1  611     37.89  75.35  ...   \n",
            "3              2                      0        1  611     37.89  75.35  ...   \n",
            "4              0                      0        1  587     82.45  46.10  ...   \n",
            "\n",
            "   nonflu  filler  AllPunc  Period  Comma  QMark  Exclam  Apostro  OtherP  \\\n",
            "0     0.0     0.0    18.94    6.96   8.36   0.84    0.28     2.23    0.28   \n",
            "1     0.0     0.0    12.06    5.03   5.03   0.00    0.50     0.50    1.01   \n",
            "2     0.0     0.0    15.71    4.75   7.36   0.65    0.16     1.80    0.98   \n",
            "3     0.0     0.0    15.71    4.75   7.36   0.65    0.16     1.80    0.98   \n",
            "4     0.0     0.0    16.18    6.30   4.94   1.19    0.17     0.68    2.90   \n",
            "\n",
            "   Emoji  \n",
            "0    0.0  \n",
            "1    0.0  \n",
            "2    0.0  \n",
            "3    0.0  \n",
            "4    0.0  \n",
            "\n",
            "[5 rows x 125 columns]\n"
          ]
        }
      ]
    },
    {
      "cell_type": "markdown",
      "source": [
        "### 1. Exploratory Data Analysis\n",
        "#### 1.1 Understanding Data Structure"
      ],
      "metadata": {
        "id": "Dk7ANIcdlAU_"
      }
    },
    {
      "cell_type": "code",
      "source": [
        "QA.info()"
      ],
      "metadata": {
        "colab": {
          "base_uri": "https://localhost:8080/"
        },
        "collapsed": true,
        "id": "j4jzs-x8kHGe",
        "outputId": "eb814c34-636f-4939-c85b-9d473ef5756d"
      },
      "execution_count": null,
      "outputs": [
        {
          "output_type": "stream",
          "name": "stdout",
          "text": [
            "<class 'pandas.core.frame.DataFrame'>\n",
            "RangeIndex: 86397 entries, 0 to 86396\n",
            "Columns: 125 entries, QID to Emoji\n",
            "dtypes: float64(117), int64(6), object(2)\n",
            "memory usage: 82.4+ MB\n"
          ]
        }
      ]
    },
    {
      "cell_type": "markdown",
      "source": [
        "#### 1.2 Calculate Descriptive Statistics"
      ],
      "metadata": {
        "id": "UNprlikGm5iA"
      }
    },
    {
      "cell_type": "code",
      "source": [
        "QA.describe()"
      ],
      "metadata": {
        "colab": {
          "base_uri": "https://localhost:8080/",
          "height": 346
        },
        "collapsed": true,
        "id": "WyJSReollWl_",
        "outputId": "c7465c95-ced5-4526-e2f3-de83d039a52d"
      },
      "execution_count": null,
      "outputs": [
        {
          "output_type": "execute_result",
          "data": {
            "text/plain": [
              "                QID  Usefulness_vote  Comment_count  Received_Bonus_Yes_No  \\\n",
              "count  8.639700e+04     86397.000000   86397.000000           86397.000000   \n",
              "mean   1.008195e+08         3.696066       0.188108               0.226779   \n",
              "std    1.494921e+04         2.642346       0.800155               0.431439   \n",
              "min    1.007880e+08         0.000000       0.000000               0.000000   \n",
              "25%    1.008065e+08         2.000000       0.000000               0.000000   \n",
              "50%    1.008258e+08         3.000000       0.000000               0.000000   \n",
              "75%    1.008321e+08         5.000000       0.000000               0.000000   \n",
              "max    1.008396e+08        31.000000      35.000000               4.000000   \n",
              "\n",
              "       Segment            WC      Analytic         Clout     Authentic  \\\n",
              "count  86397.0  86397.000000  86397.000000  86359.000000  86385.000000   \n",
              "mean       1.0    361.485677     35.420297     86.609288     37.184117   \n",
              "std        0.0    212.424732     20.612153     20.235013     24.168196   \n",
              "min        1.0      5.000000      1.000000      1.000000      1.000000   \n",
              "25%        1.0    215.000000     19.120000     84.020000     17.610000   \n",
              "50%        1.0    317.000000     32.440000     95.800000     33.740000   \n",
              "75%        1.0    469.000000     49.260000     99.000000     53.500000   \n",
              "max        1.0   3490.000000     99.000000     99.000000     99.000000   \n",
              "\n",
              "               Tone  ...        nonflu        filler       AllPunc  \\\n",
              "count  86055.000000  ...  86397.000000  86397.000000  86397.000000   \n",
              "mean      54.919290  ...      0.002742      0.000435     16.942721   \n",
              "std       31.029913  ...      0.057104      0.018663      3.244678   \n",
              "min        1.000000  ...      0.000000      0.000000      3.030000   \n",
              "25%       28.140000  ...      0.000000      0.000000     14.810000   \n",
              "50%       57.270000  ...      0.000000      0.000000     16.600000   \n",
              "75%       83.330000  ...      0.000000      0.000000     18.640000   \n",
              "max       99.000000  ...      5.880000      2.880000     68.420000   \n",
              "\n",
              "             Period         Comma         QMark        Exclam       Apostro  \\\n",
              "count  86397.000000  86397.000000  86397.000000  86397.000000  86397.000000   \n",
              "mean       5.668207      6.972443      0.473949      0.280939      1.671973   \n",
              "std        1.499754      1.862775      0.845861      0.518138      1.325822   \n",
              "min        0.000000      0.000000      0.000000      0.000000      0.000000   \n",
              "25%        4.750000      5.800000      0.000000      0.000000      0.750000   \n",
              "50%        5.530000      6.910000      0.000000      0.000000      1.430000   \n",
              "75%        6.430000      8.080000      0.640000      0.390000      2.300000   \n",
              "max       40.630000     26.670000     20.000000     31.030000     26.320000   \n",
              "\n",
              "             OtherP         Emoji  \n",
              "count  86397.000000  86397.000000  \n",
              "mean       1.875118      0.246987  \n",
              "std        1.924474      1.114994  \n",
              "min        0.000000      0.000000  \n",
              "25%        0.560000      0.000000  \n",
              "50%        1.380000      0.000000  \n",
              "75%        2.620000      0.000000  \n",
              "max       38.100000    160.000000  \n",
              "\n",
              "[8 rows x 123 columns]"
            ],
            "text/html": [
              "\n",
              "  <div id=\"df-77b98dfa-26f7-4c48-9d31-8a4198d31e87\" class=\"colab-df-container\">\n",
              "    <div>\n",
              "<style scoped>\n",
              "    .dataframe tbody tr th:only-of-type {\n",
              "        vertical-align: middle;\n",
              "    }\n",
              "\n",
              "    .dataframe tbody tr th {\n",
              "        vertical-align: top;\n",
              "    }\n",
              "\n",
              "    .dataframe thead th {\n",
              "        text-align: right;\n",
              "    }\n",
              "</style>\n",
              "<table border=\"1\" class=\"dataframe\">\n",
              "  <thead>\n",
              "    <tr style=\"text-align: right;\">\n",
              "      <th></th>\n",
              "      <th>QID</th>\n",
              "      <th>Usefulness_vote</th>\n",
              "      <th>Comment_count</th>\n",
              "      <th>Received_Bonus_Yes_No</th>\n",
              "      <th>Segment</th>\n",
              "      <th>WC</th>\n",
              "      <th>Analytic</th>\n",
              "      <th>Clout</th>\n",
              "      <th>Authentic</th>\n",
              "      <th>Tone</th>\n",
              "      <th>...</th>\n",
              "      <th>nonflu</th>\n",
              "      <th>filler</th>\n",
              "      <th>AllPunc</th>\n",
              "      <th>Period</th>\n",
              "      <th>Comma</th>\n",
              "      <th>QMark</th>\n",
              "      <th>Exclam</th>\n",
              "      <th>Apostro</th>\n",
              "      <th>OtherP</th>\n",
              "      <th>Emoji</th>\n",
              "    </tr>\n",
              "  </thead>\n",
              "  <tbody>\n",
              "    <tr>\n",
              "      <th>count</th>\n",
              "      <td>8.639700e+04</td>\n",
              "      <td>86397.000000</td>\n",
              "      <td>86397.000000</td>\n",
              "      <td>86397.000000</td>\n",
              "      <td>86397.0</td>\n",
              "      <td>86397.000000</td>\n",
              "      <td>86397.000000</td>\n",
              "      <td>86359.000000</td>\n",
              "      <td>86385.000000</td>\n",
              "      <td>86055.000000</td>\n",
              "      <td>...</td>\n",
              "      <td>86397.000000</td>\n",
              "      <td>86397.000000</td>\n",
              "      <td>86397.000000</td>\n",
              "      <td>86397.000000</td>\n",
              "      <td>86397.000000</td>\n",
              "      <td>86397.000000</td>\n",
              "      <td>86397.000000</td>\n",
              "      <td>86397.000000</td>\n",
              "      <td>86397.000000</td>\n",
              "      <td>86397.000000</td>\n",
              "    </tr>\n",
              "    <tr>\n",
              "      <th>mean</th>\n",
              "      <td>1.008195e+08</td>\n",
              "      <td>3.696066</td>\n",
              "      <td>0.188108</td>\n",
              "      <td>0.226779</td>\n",
              "      <td>1.0</td>\n",
              "      <td>361.485677</td>\n",
              "      <td>35.420297</td>\n",
              "      <td>86.609288</td>\n",
              "      <td>37.184117</td>\n",
              "      <td>54.919290</td>\n",
              "      <td>...</td>\n",
              "      <td>0.002742</td>\n",
              "      <td>0.000435</td>\n",
              "      <td>16.942721</td>\n",
              "      <td>5.668207</td>\n",
              "      <td>6.972443</td>\n",
              "      <td>0.473949</td>\n",
              "      <td>0.280939</td>\n",
              "      <td>1.671973</td>\n",
              "      <td>1.875118</td>\n",
              "      <td>0.246987</td>\n",
              "    </tr>\n",
              "    <tr>\n",
              "      <th>std</th>\n",
              "      <td>1.494921e+04</td>\n",
              "      <td>2.642346</td>\n",
              "      <td>0.800155</td>\n",
              "      <td>0.431439</td>\n",
              "      <td>0.0</td>\n",
              "      <td>212.424732</td>\n",
              "      <td>20.612153</td>\n",
              "      <td>20.235013</td>\n",
              "      <td>24.168196</td>\n",
              "      <td>31.029913</td>\n",
              "      <td>...</td>\n",
              "      <td>0.057104</td>\n",
              "      <td>0.018663</td>\n",
              "      <td>3.244678</td>\n",
              "      <td>1.499754</td>\n",
              "      <td>1.862775</td>\n",
              "      <td>0.845861</td>\n",
              "      <td>0.518138</td>\n",
              "      <td>1.325822</td>\n",
              "      <td>1.924474</td>\n",
              "      <td>1.114994</td>\n",
              "    </tr>\n",
              "    <tr>\n",
              "      <th>min</th>\n",
              "      <td>1.007880e+08</td>\n",
              "      <td>0.000000</td>\n",
              "      <td>0.000000</td>\n",
              "      <td>0.000000</td>\n",
              "      <td>1.0</td>\n",
              "      <td>5.000000</td>\n",
              "      <td>1.000000</td>\n",
              "      <td>1.000000</td>\n",
              "      <td>1.000000</td>\n",
              "      <td>1.000000</td>\n",
              "      <td>...</td>\n",
              "      <td>0.000000</td>\n",
              "      <td>0.000000</td>\n",
              "      <td>3.030000</td>\n",
              "      <td>0.000000</td>\n",
              "      <td>0.000000</td>\n",
              "      <td>0.000000</td>\n",
              "      <td>0.000000</td>\n",
              "      <td>0.000000</td>\n",
              "      <td>0.000000</td>\n",
              "      <td>0.000000</td>\n",
              "    </tr>\n",
              "    <tr>\n",
              "      <th>25%</th>\n",
              "      <td>1.008065e+08</td>\n",
              "      <td>2.000000</td>\n",
              "      <td>0.000000</td>\n",
              "      <td>0.000000</td>\n",
              "      <td>1.0</td>\n",
              "      <td>215.000000</td>\n",
              "      <td>19.120000</td>\n",
              "      <td>84.020000</td>\n",
              "      <td>17.610000</td>\n",
              "      <td>28.140000</td>\n",
              "      <td>...</td>\n",
              "      <td>0.000000</td>\n",
              "      <td>0.000000</td>\n",
              "      <td>14.810000</td>\n",
              "      <td>4.750000</td>\n",
              "      <td>5.800000</td>\n",
              "      <td>0.000000</td>\n",
              "      <td>0.000000</td>\n",
              "      <td>0.750000</td>\n",
              "      <td>0.560000</td>\n",
              "      <td>0.000000</td>\n",
              "    </tr>\n",
              "    <tr>\n",
              "      <th>50%</th>\n",
              "      <td>1.008258e+08</td>\n",
              "      <td>3.000000</td>\n",
              "      <td>0.000000</td>\n",
              "      <td>0.000000</td>\n",
              "      <td>1.0</td>\n",
              "      <td>317.000000</td>\n",
              "      <td>32.440000</td>\n",
              "      <td>95.800000</td>\n",
              "      <td>33.740000</td>\n",
              "      <td>57.270000</td>\n",
              "      <td>...</td>\n",
              "      <td>0.000000</td>\n",
              "      <td>0.000000</td>\n",
              "      <td>16.600000</td>\n",
              "      <td>5.530000</td>\n",
              "      <td>6.910000</td>\n",
              "      <td>0.000000</td>\n",
              "      <td>0.000000</td>\n",
              "      <td>1.430000</td>\n",
              "      <td>1.380000</td>\n",
              "      <td>0.000000</td>\n",
              "    </tr>\n",
              "    <tr>\n",
              "      <th>75%</th>\n",
              "      <td>1.008321e+08</td>\n",
              "      <td>5.000000</td>\n",
              "      <td>0.000000</td>\n",
              "      <td>0.000000</td>\n",
              "      <td>1.0</td>\n",
              "      <td>469.000000</td>\n",
              "      <td>49.260000</td>\n",
              "      <td>99.000000</td>\n",
              "      <td>53.500000</td>\n",
              "      <td>83.330000</td>\n",
              "      <td>...</td>\n",
              "      <td>0.000000</td>\n",
              "      <td>0.000000</td>\n",
              "      <td>18.640000</td>\n",
              "      <td>6.430000</td>\n",
              "      <td>8.080000</td>\n",
              "      <td>0.640000</td>\n",
              "      <td>0.390000</td>\n",
              "      <td>2.300000</td>\n",
              "      <td>2.620000</td>\n",
              "      <td>0.000000</td>\n",
              "    </tr>\n",
              "    <tr>\n",
              "      <th>max</th>\n",
              "      <td>1.008396e+08</td>\n",
              "      <td>31.000000</td>\n",
              "      <td>35.000000</td>\n",
              "      <td>4.000000</td>\n",
              "      <td>1.0</td>\n",
              "      <td>3490.000000</td>\n",
              "      <td>99.000000</td>\n",
              "      <td>99.000000</td>\n",
              "      <td>99.000000</td>\n",
              "      <td>99.000000</td>\n",
              "      <td>...</td>\n",
              "      <td>5.880000</td>\n",
              "      <td>2.880000</td>\n",
              "      <td>68.420000</td>\n",
              "      <td>40.630000</td>\n",
              "      <td>26.670000</td>\n",
              "      <td>20.000000</td>\n",
              "      <td>31.030000</td>\n",
              "      <td>26.320000</td>\n",
              "      <td>38.100000</td>\n",
              "      <td>160.000000</td>\n",
              "    </tr>\n",
              "  </tbody>\n",
              "</table>\n",
              "<p>8 rows × 123 columns</p>\n",
              "</div>\n",
              "    <div class=\"colab-df-buttons\">\n",
              "\n",
              "  <div class=\"colab-df-container\">\n",
              "    <button class=\"colab-df-convert\" onclick=\"convertToInteractive('df-77b98dfa-26f7-4c48-9d31-8a4198d31e87')\"\n",
              "            title=\"Convert this dataframe to an interactive table.\"\n",
              "            style=\"display:none;\">\n",
              "\n",
              "  <svg xmlns=\"http://www.w3.org/2000/svg\" height=\"24px\" viewBox=\"0 -960 960 960\">\n",
              "    <path d=\"M120-120v-720h720v720H120Zm60-500h600v-160H180v160Zm220 220h160v-160H400v160Zm0 220h160v-160H400v160ZM180-400h160v-160H180v160Zm440 0h160v-160H620v160ZM180-180h160v-160H180v160Zm440 0h160v-160H620v160Z\"/>\n",
              "  </svg>\n",
              "    </button>\n",
              "\n",
              "  <style>\n",
              "    .colab-df-container {\n",
              "      display:flex;\n",
              "      gap: 12px;\n",
              "    }\n",
              "\n",
              "    .colab-df-convert {\n",
              "      background-color: #E8F0FE;\n",
              "      border: none;\n",
              "      border-radius: 50%;\n",
              "      cursor: pointer;\n",
              "      display: none;\n",
              "      fill: #1967D2;\n",
              "      height: 32px;\n",
              "      padding: 0 0 0 0;\n",
              "      width: 32px;\n",
              "    }\n",
              "\n",
              "    .colab-df-convert:hover {\n",
              "      background-color: #E2EBFA;\n",
              "      box-shadow: 0px 1px 2px rgba(60, 64, 67, 0.3), 0px 1px 3px 1px rgba(60, 64, 67, 0.15);\n",
              "      fill: #174EA6;\n",
              "    }\n",
              "\n",
              "    .colab-df-buttons div {\n",
              "      margin-bottom: 4px;\n",
              "    }\n",
              "\n",
              "    [theme=dark] .colab-df-convert {\n",
              "      background-color: #3B4455;\n",
              "      fill: #D2E3FC;\n",
              "    }\n",
              "\n",
              "    [theme=dark] .colab-df-convert:hover {\n",
              "      background-color: #434B5C;\n",
              "      box-shadow: 0px 1px 3px 1px rgba(0, 0, 0, 0.15);\n",
              "      filter: drop-shadow(0px 1px 2px rgba(0, 0, 0, 0.3));\n",
              "      fill: #FFFFFF;\n",
              "    }\n",
              "  </style>\n",
              "\n",
              "    <script>\n",
              "      const buttonEl =\n",
              "        document.querySelector('#df-77b98dfa-26f7-4c48-9d31-8a4198d31e87 button.colab-df-convert');\n",
              "      buttonEl.style.display =\n",
              "        google.colab.kernel.accessAllowed ? 'block' : 'none';\n",
              "\n",
              "      async function convertToInteractive(key) {\n",
              "        const element = document.querySelector('#df-77b98dfa-26f7-4c48-9d31-8a4198d31e87');\n",
              "        const dataTable =\n",
              "          await google.colab.kernel.invokeFunction('convertToInteractive',\n",
              "                                                    [key], {});\n",
              "        if (!dataTable) return;\n",
              "\n",
              "        const docLinkHtml = 'Like what you see? Visit the ' +\n",
              "          '<a target=\"_blank\" href=https://colab.research.google.com/notebooks/data_table.ipynb>data table notebook</a>'\n",
              "          + ' to learn more about interactive tables.';\n",
              "        element.innerHTML = '';\n",
              "        dataTable['output_type'] = 'display_data';\n",
              "        await google.colab.output.renderOutput(dataTable, element);\n",
              "        const docLink = document.createElement('div');\n",
              "        docLink.innerHTML = docLinkHtml;\n",
              "        element.appendChild(docLink);\n",
              "      }\n",
              "    </script>\n",
              "  </div>\n",
              "\n",
              "\n",
              "<div id=\"df-841b32a1-1ff2-4906-8c4d-6bda65b6f7d7\">\n",
              "  <button class=\"colab-df-quickchart\" onclick=\"quickchart('df-841b32a1-1ff2-4906-8c4d-6bda65b6f7d7')\"\n",
              "            title=\"Suggest charts\"\n",
              "            style=\"display:none;\">\n",
              "\n",
              "<svg xmlns=\"http://www.w3.org/2000/svg\" height=\"24px\"viewBox=\"0 0 24 24\"\n",
              "     width=\"24px\">\n",
              "    <g>\n",
              "        <path d=\"M19 3H5c-1.1 0-2 .9-2 2v14c0 1.1.9 2 2 2h14c1.1 0 2-.9 2-2V5c0-1.1-.9-2-2-2zM9 17H7v-7h2v7zm4 0h-2V7h2v10zm4 0h-2v-4h2v4z\"/>\n",
              "    </g>\n",
              "</svg>\n",
              "  </button>\n",
              "\n",
              "<style>\n",
              "  .colab-df-quickchart {\n",
              "      --bg-color: #E8F0FE;\n",
              "      --fill-color: #1967D2;\n",
              "      --hover-bg-color: #E2EBFA;\n",
              "      --hover-fill-color: #174EA6;\n",
              "      --disabled-fill-color: #AAA;\n",
              "      --disabled-bg-color: #DDD;\n",
              "  }\n",
              "\n",
              "  [theme=dark] .colab-df-quickchart {\n",
              "      --bg-color: #3B4455;\n",
              "      --fill-color: #D2E3FC;\n",
              "      --hover-bg-color: #434B5C;\n",
              "      --hover-fill-color: #FFFFFF;\n",
              "      --disabled-bg-color: #3B4455;\n",
              "      --disabled-fill-color: #666;\n",
              "  }\n",
              "\n",
              "  .colab-df-quickchart {\n",
              "    background-color: var(--bg-color);\n",
              "    border: none;\n",
              "    border-radius: 50%;\n",
              "    cursor: pointer;\n",
              "    display: none;\n",
              "    fill: var(--fill-color);\n",
              "    height: 32px;\n",
              "    padding: 0;\n",
              "    width: 32px;\n",
              "  }\n",
              "\n",
              "  .colab-df-quickchart:hover {\n",
              "    background-color: var(--hover-bg-color);\n",
              "    box-shadow: 0 1px 2px rgba(60, 64, 67, 0.3), 0 1px 3px 1px rgba(60, 64, 67, 0.15);\n",
              "    fill: var(--button-hover-fill-color);\n",
              "  }\n",
              "\n",
              "  .colab-df-quickchart-complete:disabled,\n",
              "  .colab-df-quickchart-complete:disabled:hover {\n",
              "    background-color: var(--disabled-bg-color);\n",
              "    fill: var(--disabled-fill-color);\n",
              "    box-shadow: none;\n",
              "  }\n",
              "\n",
              "  .colab-df-spinner {\n",
              "    border: 2px solid var(--fill-color);\n",
              "    border-color: transparent;\n",
              "    border-bottom-color: var(--fill-color);\n",
              "    animation:\n",
              "      spin 1s steps(1) infinite;\n",
              "  }\n",
              "\n",
              "  @keyframes spin {\n",
              "    0% {\n",
              "      border-color: transparent;\n",
              "      border-bottom-color: var(--fill-color);\n",
              "      border-left-color: var(--fill-color);\n",
              "    }\n",
              "    20% {\n",
              "      border-color: transparent;\n",
              "      border-left-color: var(--fill-color);\n",
              "      border-top-color: var(--fill-color);\n",
              "    }\n",
              "    30% {\n",
              "      border-color: transparent;\n",
              "      border-left-color: var(--fill-color);\n",
              "      border-top-color: var(--fill-color);\n",
              "      border-right-color: var(--fill-color);\n",
              "    }\n",
              "    40% {\n",
              "      border-color: transparent;\n",
              "      border-right-color: var(--fill-color);\n",
              "      border-top-color: var(--fill-color);\n",
              "    }\n",
              "    60% {\n",
              "      border-color: transparent;\n",
              "      border-right-color: var(--fill-color);\n",
              "    }\n",
              "    80% {\n",
              "      border-color: transparent;\n",
              "      border-right-color: var(--fill-color);\n",
              "      border-bottom-color: var(--fill-color);\n",
              "    }\n",
              "    90% {\n",
              "      border-color: transparent;\n",
              "      border-bottom-color: var(--fill-color);\n",
              "    }\n",
              "  }\n",
              "</style>\n",
              "\n",
              "  <script>\n",
              "    async function quickchart(key) {\n",
              "      const quickchartButtonEl =\n",
              "        document.querySelector('#' + key + ' button');\n",
              "      quickchartButtonEl.disabled = true;  // To prevent multiple clicks.\n",
              "      quickchartButtonEl.classList.add('colab-df-spinner');\n",
              "      try {\n",
              "        const charts = await google.colab.kernel.invokeFunction(\n",
              "            'suggestCharts', [key], {});\n",
              "      } catch (error) {\n",
              "        console.error('Error during call to suggestCharts:', error);\n",
              "      }\n",
              "      quickchartButtonEl.classList.remove('colab-df-spinner');\n",
              "      quickchartButtonEl.classList.add('colab-df-quickchart-complete');\n",
              "    }\n",
              "    (() => {\n",
              "      let quickchartButtonEl =\n",
              "        document.querySelector('#df-841b32a1-1ff2-4906-8c4d-6bda65b6f7d7 button');\n",
              "      quickchartButtonEl.style.display =\n",
              "        google.colab.kernel.accessAllowed ? 'block' : 'none';\n",
              "    })();\n",
              "  </script>\n",
              "</div>\n",
              "\n",
              "    </div>\n",
              "  </div>\n"
            ],
            "application/vnd.google.colaboratory.intrinsic+json": {
              "type": "dataframe"
            }
          },
          "metadata": {},
          "execution_count": 6
        }
      ]
    },
    {
      "cell_type": "markdown",
      "source": [
        "### 2. Remove Unnecessary Features and Data\n",
        "What features are unnecessary for prediction?"
      ],
      "metadata": {
        "id": "08aSk_JBm_p_"
      }
    },
    {
      "cell_type": "code",
      "source": [
        "# Some features have zero variation, which offer no information for prediction\n",
        "zerovariation = [se for se in QA.columns[4:] if QA[se].std() == 0]\n",
        "print(zerovariation)"
      ],
      "metadata": {
        "colab": {
          "base_uri": "https://localhost:8080/"
        },
        "collapsed": true,
        "id": "U12sIjAOnEVN",
        "outputId": "e6449547-34b3-4447-9039-20a9acc5316c"
      },
      "execution_count": null,
      "outputs": [
        {
          "output_type": "stream",
          "name": "stdout",
          "text": [
            "['Segment']\n"
          ]
        }
      ]
    },
    {
      "cell_type": "code",
      "source": [
        "# Drop this feature\n",
        "QA = QA.drop(zerovariation, axis=1)\n",
        "QA.head(5)"
      ],
      "metadata": {
        "colab": {
          "base_uri": "https://localhost:8080/",
          "height": 423
        },
        "collapsed": true,
        "id": "Nd9f8pHUo3HQ",
        "outputId": "2b3ae297-49b1-4472-c168-36decd02f10d"
      },
      "execution_count": null,
      "outputs": [
        {
          "output_type": "execute_result",
          "data": {
            "text/plain": [
              "         QID                                   Question_English  \\\n",
              "0  100788023  Watching the elderly matchmaking program was v...   \n",
              "1  100788009  Falling in love with someone else and breaking...   \n",
              "2  100788013  I have been suffering from insomnia for half a...   \n",
              "3  100788013  I have been suffering from insomnia for half a...   \n",
              "4  100788013  I have been suffering from insomnia for half a...   \n",
              "\n",
              "                                      Answer_English  Usefulness_vote  \\\n",
              "0  Hello. Let's start by talking about young peop...                2   \n",
              "1  Hello! Sending you a virtual hug first. Thumbs...                2   \n",
              "2  Hello! â I saw the issue you raised about in...                8   \n",
              "3  Hello! â I saw the issue you raised about in...                8   \n",
              "4  Hi, I just want to hug you. I can feel the kin...                6   \n",
              "\n",
              "   Comment_count  Received_Bonus_Yes_No   WC  Analytic  Clout  Authentic  ...  \\\n",
              "0              0                      0  359     52.91  83.28      55.92  ...   \n",
              "1              0                      0  199     72.83  96.90      39.00  ...   \n",
              "2              2                      1  611     37.89  75.35      51.53  ...   \n",
              "3              2                      0  611     37.89  75.35      51.53  ...   \n",
              "4              0                      0  587     82.45  46.10      43.41  ...   \n",
              "\n",
              "   nonflu  filler  AllPunc  Period  Comma  QMark  Exclam  Apostro  OtherP  \\\n",
              "0     0.0     0.0    18.94    6.96   8.36   0.84    0.28     2.23    0.28   \n",
              "1     0.0     0.0    12.06    5.03   5.03   0.00    0.50     0.50    1.01   \n",
              "2     0.0     0.0    15.71    4.75   7.36   0.65    0.16     1.80    0.98   \n",
              "3     0.0     0.0    15.71    4.75   7.36   0.65    0.16     1.80    0.98   \n",
              "4     0.0     0.0    16.18    6.30   4.94   1.19    0.17     0.68    2.90   \n",
              "\n",
              "   Emoji  \n",
              "0    0.0  \n",
              "1    0.0  \n",
              "2    0.0  \n",
              "3    0.0  \n",
              "4    0.0  \n",
              "\n",
              "[5 rows x 124 columns]"
            ],
            "text/html": [
              "\n",
              "  <div id=\"df-64e65c1c-0356-43c2-8e5f-942da14bfeb7\" class=\"colab-df-container\">\n",
              "    <div>\n",
              "<style scoped>\n",
              "    .dataframe tbody tr th:only-of-type {\n",
              "        vertical-align: middle;\n",
              "    }\n",
              "\n",
              "    .dataframe tbody tr th {\n",
              "        vertical-align: top;\n",
              "    }\n",
              "\n",
              "    .dataframe thead th {\n",
              "        text-align: right;\n",
              "    }\n",
              "</style>\n",
              "<table border=\"1\" class=\"dataframe\">\n",
              "  <thead>\n",
              "    <tr style=\"text-align: right;\">\n",
              "      <th></th>\n",
              "      <th>QID</th>\n",
              "      <th>Question_English</th>\n",
              "      <th>Answer_English</th>\n",
              "      <th>Usefulness_vote</th>\n",
              "      <th>Comment_count</th>\n",
              "      <th>Received_Bonus_Yes_No</th>\n",
              "      <th>WC</th>\n",
              "      <th>Analytic</th>\n",
              "      <th>Clout</th>\n",
              "      <th>Authentic</th>\n",
              "      <th>...</th>\n",
              "      <th>nonflu</th>\n",
              "      <th>filler</th>\n",
              "      <th>AllPunc</th>\n",
              "      <th>Period</th>\n",
              "      <th>Comma</th>\n",
              "      <th>QMark</th>\n",
              "      <th>Exclam</th>\n",
              "      <th>Apostro</th>\n",
              "      <th>OtherP</th>\n",
              "      <th>Emoji</th>\n",
              "    </tr>\n",
              "  </thead>\n",
              "  <tbody>\n",
              "    <tr>\n",
              "      <th>0</th>\n",
              "      <td>100788023</td>\n",
              "      <td>Watching the elderly matchmaking program was v...</td>\n",
              "      <td>Hello. Let's start by talking about young peop...</td>\n",
              "      <td>2</td>\n",
              "      <td>0</td>\n",
              "      <td>0</td>\n",
              "      <td>359</td>\n",
              "      <td>52.91</td>\n",
              "      <td>83.28</td>\n",
              "      <td>55.92</td>\n",
              "      <td>...</td>\n",
              "      <td>0.0</td>\n",
              "      <td>0.0</td>\n",
              "      <td>18.94</td>\n",
              "      <td>6.96</td>\n",
              "      <td>8.36</td>\n",
              "      <td>0.84</td>\n",
              "      <td>0.28</td>\n",
              "      <td>2.23</td>\n",
              "      <td>0.28</td>\n",
              "      <td>0.0</td>\n",
              "    </tr>\n",
              "    <tr>\n",
              "      <th>1</th>\n",
              "      <td>100788009</td>\n",
              "      <td>Falling in love with someone else and breaking...</td>\n",
              "      <td>Hello! Sending you a virtual hug first. Thumbs...</td>\n",
              "      <td>2</td>\n",
              "      <td>0</td>\n",
              "      <td>0</td>\n",
              "      <td>199</td>\n",
              "      <td>72.83</td>\n",
              "      <td>96.90</td>\n",
              "      <td>39.00</td>\n",
              "      <td>...</td>\n",
              "      <td>0.0</td>\n",
              "      <td>0.0</td>\n",
              "      <td>12.06</td>\n",
              "      <td>5.03</td>\n",
              "      <td>5.03</td>\n",
              "      <td>0.00</td>\n",
              "      <td>0.50</td>\n",
              "      <td>0.50</td>\n",
              "      <td>1.01</td>\n",
              "      <td>0.0</td>\n",
              "    </tr>\n",
              "    <tr>\n",
              "      <th>2</th>\n",
              "      <td>100788013</td>\n",
              "      <td>I have been suffering from insomnia for half a...</td>\n",
              "      <td>Hello! â I saw the issue you raised about in...</td>\n",
              "      <td>8</td>\n",
              "      <td>2</td>\n",
              "      <td>1</td>\n",
              "      <td>611</td>\n",
              "      <td>37.89</td>\n",
              "      <td>75.35</td>\n",
              "      <td>51.53</td>\n",
              "      <td>...</td>\n",
              "      <td>0.0</td>\n",
              "      <td>0.0</td>\n",
              "      <td>15.71</td>\n",
              "      <td>4.75</td>\n",
              "      <td>7.36</td>\n",
              "      <td>0.65</td>\n",
              "      <td>0.16</td>\n",
              "      <td>1.80</td>\n",
              "      <td>0.98</td>\n",
              "      <td>0.0</td>\n",
              "    </tr>\n",
              "    <tr>\n",
              "      <th>3</th>\n",
              "      <td>100788013</td>\n",
              "      <td>I have been suffering from insomnia for half a...</td>\n",
              "      <td>Hello! â I saw the issue you raised about in...</td>\n",
              "      <td>8</td>\n",
              "      <td>2</td>\n",
              "      <td>0</td>\n",
              "      <td>611</td>\n",
              "      <td>37.89</td>\n",
              "      <td>75.35</td>\n",
              "      <td>51.53</td>\n",
              "      <td>...</td>\n",
              "      <td>0.0</td>\n",
              "      <td>0.0</td>\n",
              "      <td>15.71</td>\n",
              "      <td>4.75</td>\n",
              "      <td>7.36</td>\n",
              "      <td>0.65</td>\n",
              "      <td>0.16</td>\n",
              "      <td>1.80</td>\n",
              "      <td>0.98</td>\n",
              "      <td>0.0</td>\n",
              "    </tr>\n",
              "    <tr>\n",
              "      <th>4</th>\n",
              "      <td>100788013</td>\n",
              "      <td>I have been suffering from insomnia for half a...</td>\n",
              "      <td>Hi, I just want to hug you. I can feel the kin...</td>\n",
              "      <td>6</td>\n",
              "      <td>0</td>\n",
              "      <td>0</td>\n",
              "      <td>587</td>\n",
              "      <td>82.45</td>\n",
              "      <td>46.10</td>\n",
              "      <td>43.41</td>\n",
              "      <td>...</td>\n",
              "      <td>0.0</td>\n",
              "      <td>0.0</td>\n",
              "      <td>16.18</td>\n",
              "      <td>6.30</td>\n",
              "      <td>4.94</td>\n",
              "      <td>1.19</td>\n",
              "      <td>0.17</td>\n",
              "      <td>0.68</td>\n",
              "      <td>2.90</td>\n",
              "      <td>0.0</td>\n",
              "    </tr>\n",
              "  </tbody>\n",
              "</table>\n",
              "<p>5 rows × 124 columns</p>\n",
              "</div>\n",
              "    <div class=\"colab-df-buttons\">\n",
              "\n",
              "  <div class=\"colab-df-container\">\n",
              "    <button class=\"colab-df-convert\" onclick=\"convertToInteractive('df-64e65c1c-0356-43c2-8e5f-942da14bfeb7')\"\n",
              "            title=\"Convert this dataframe to an interactive table.\"\n",
              "            style=\"display:none;\">\n",
              "\n",
              "  <svg xmlns=\"http://www.w3.org/2000/svg\" height=\"24px\" viewBox=\"0 -960 960 960\">\n",
              "    <path d=\"M120-120v-720h720v720H120Zm60-500h600v-160H180v160Zm220 220h160v-160H400v160Zm0 220h160v-160H400v160ZM180-400h160v-160H180v160Zm440 0h160v-160H620v160ZM180-180h160v-160H180v160Zm440 0h160v-160H620v160Z\"/>\n",
              "  </svg>\n",
              "    </button>\n",
              "\n",
              "  <style>\n",
              "    .colab-df-container {\n",
              "      display:flex;\n",
              "      gap: 12px;\n",
              "    }\n",
              "\n",
              "    .colab-df-convert {\n",
              "      background-color: #E8F0FE;\n",
              "      border: none;\n",
              "      border-radius: 50%;\n",
              "      cursor: pointer;\n",
              "      display: none;\n",
              "      fill: #1967D2;\n",
              "      height: 32px;\n",
              "      padding: 0 0 0 0;\n",
              "      width: 32px;\n",
              "    }\n",
              "\n",
              "    .colab-df-convert:hover {\n",
              "      background-color: #E2EBFA;\n",
              "      box-shadow: 0px 1px 2px rgba(60, 64, 67, 0.3), 0px 1px 3px 1px rgba(60, 64, 67, 0.15);\n",
              "      fill: #174EA6;\n",
              "    }\n",
              "\n",
              "    .colab-df-buttons div {\n",
              "      margin-bottom: 4px;\n",
              "    }\n",
              "\n",
              "    [theme=dark] .colab-df-convert {\n",
              "      background-color: #3B4455;\n",
              "      fill: #D2E3FC;\n",
              "    }\n",
              "\n",
              "    [theme=dark] .colab-df-convert:hover {\n",
              "      background-color: #434B5C;\n",
              "      box-shadow: 0px 1px 3px 1px rgba(0, 0, 0, 0.15);\n",
              "      filter: drop-shadow(0px 1px 2px rgba(0, 0, 0, 0.3));\n",
              "      fill: #FFFFFF;\n",
              "    }\n",
              "  </style>\n",
              "\n",
              "    <script>\n",
              "      const buttonEl =\n",
              "        document.querySelector('#df-64e65c1c-0356-43c2-8e5f-942da14bfeb7 button.colab-df-convert');\n",
              "      buttonEl.style.display =\n",
              "        google.colab.kernel.accessAllowed ? 'block' : 'none';\n",
              "\n",
              "      async function convertToInteractive(key) {\n",
              "        const element = document.querySelector('#df-64e65c1c-0356-43c2-8e5f-942da14bfeb7');\n",
              "        const dataTable =\n",
              "          await google.colab.kernel.invokeFunction('convertToInteractive',\n",
              "                                                    [key], {});\n",
              "        if (!dataTable) return;\n",
              "\n",
              "        const docLinkHtml = 'Like what you see? Visit the ' +\n",
              "          '<a target=\"_blank\" href=https://colab.research.google.com/notebooks/data_table.ipynb>data table notebook</a>'\n",
              "          + ' to learn more about interactive tables.';\n",
              "        element.innerHTML = '';\n",
              "        dataTable['output_type'] = 'display_data';\n",
              "        await google.colab.output.renderOutput(dataTable, element);\n",
              "        const docLink = document.createElement('div');\n",
              "        docLink.innerHTML = docLinkHtml;\n",
              "        element.appendChild(docLink);\n",
              "      }\n",
              "    </script>\n",
              "  </div>\n",
              "\n",
              "\n",
              "<div id=\"df-aee064e3-8e1a-448c-88c5-8d8650e74d01\">\n",
              "  <button class=\"colab-df-quickchart\" onclick=\"quickchart('df-aee064e3-8e1a-448c-88c5-8d8650e74d01')\"\n",
              "            title=\"Suggest charts\"\n",
              "            style=\"display:none;\">\n",
              "\n",
              "<svg xmlns=\"http://www.w3.org/2000/svg\" height=\"24px\"viewBox=\"0 0 24 24\"\n",
              "     width=\"24px\">\n",
              "    <g>\n",
              "        <path d=\"M19 3H5c-1.1 0-2 .9-2 2v14c0 1.1.9 2 2 2h14c1.1 0 2-.9 2-2V5c0-1.1-.9-2-2-2zM9 17H7v-7h2v7zm4 0h-2V7h2v10zm4 0h-2v-4h2v4z\"/>\n",
              "    </g>\n",
              "</svg>\n",
              "  </button>\n",
              "\n",
              "<style>\n",
              "  .colab-df-quickchart {\n",
              "      --bg-color: #E8F0FE;\n",
              "      --fill-color: #1967D2;\n",
              "      --hover-bg-color: #E2EBFA;\n",
              "      --hover-fill-color: #174EA6;\n",
              "      --disabled-fill-color: #AAA;\n",
              "      --disabled-bg-color: #DDD;\n",
              "  }\n",
              "\n",
              "  [theme=dark] .colab-df-quickchart {\n",
              "      --bg-color: #3B4455;\n",
              "      --fill-color: #D2E3FC;\n",
              "      --hover-bg-color: #434B5C;\n",
              "      --hover-fill-color: #FFFFFF;\n",
              "      --disabled-bg-color: #3B4455;\n",
              "      --disabled-fill-color: #666;\n",
              "  }\n",
              "\n",
              "  .colab-df-quickchart {\n",
              "    background-color: var(--bg-color);\n",
              "    border: none;\n",
              "    border-radius: 50%;\n",
              "    cursor: pointer;\n",
              "    display: none;\n",
              "    fill: var(--fill-color);\n",
              "    height: 32px;\n",
              "    padding: 0;\n",
              "    width: 32px;\n",
              "  }\n",
              "\n",
              "  .colab-df-quickchart:hover {\n",
              "    background-color: var(--hover-bg-color);\n",
              "    box-shadow: 0 1px 2px rgba(60, 64, 67, 0.3), 0 1px 3px 1px rgba(60, 64, 67, 0.15);\n",
              "    fill: var(--button-hover-fill-color);\n",
              "  }\n",
              "\n",
              "  .colab-df-quickchart-complete:disabled,\n",
              "  .colab-df-quickchart-complete:disabled:hover {\n",
              "    background-color: var(--disabled-bg-color);\n",
              "    fill: var(--disabled-fill-color);\n",
              "    box-shadow: none;\n",
              "  }\n",
              "\n",
              "  .colab-df-spinner {\n",
              "    border: 2px solid var(--fill-color);\n",
              "    border-color: transparent;\n",
              "    border-bottom-color: var(--fill-color);\n",
              "    animation:\n",
              "      spin 1s steps(1) infinite;\n",
              "  }\n",
              "\n",
              "  @keyframes spin {\n",
              "    0% {\n",
              "      border-color: transparent;\n",
              "      border-bottom-color: var(--fill-color);\n",
              "      border-left-color: var(--fill-color);\n",
              "    }\n",
              "    20% {\n",
              "      border-color: transparent;\n",
              "      border-left-color: var(--fill-color);\n",
              "      border-top-color: var(--fill-color);\n",
              "    }\n",
              "    30% {\n",
              "      border-color: transparent;\n",
              "      border-left-color: var(--fill-color);\n",
              "      border-top-color: var(--fill-color);\n",
              "      border-right-color: var(--fill-color);\n",
              "    }\n",
              "    40% {\n",
              "      border-color: transparent;\n",
              "      border-right-color: var(--fill-color);\n",
              "      border-top-color: var(--fill-color);\n",
              "    }\n",
              "    60% {\n",
              "      border-color: transparent;\n",
              "      border-right-color: var(--fill-color);\n",
              "    }\n",
              "    80% {\n",
              "      border-color: transparent;\n",
              "      border-right-color: var(--fill-color);\n",
              "      border-bottom-color: var(--fill-color);\n",
              "    }\n",
              "    90% {\n",
              "      border-color: transparent;\n",
              "      border-bottom-color: var(--fill-color);\n",
              "    }\n",
              "  }\n",
              "</style>\n",
              "\n",
              "  <script>\n",
              "    async function quickchart(key) {\n",
              "      const quickchartButtonEl =\n",
              "        document.querySelector('#' + key + ' button');\n",
              "      quickchartButtonEl.disabled = true;  // To prevent multiple clicks.\n",
              "      quickchartButtonEl.classList.add('colab-df-spinner');\n",
              "      try {\n",
              "        const charts = await google.colab.kernel.invokeFunction(\n",
              "            'suggestCharts', [key], {});\n",
              "      } catch (error) {\n",
              "        console.error('Error during call to suggestCharts:', error);\n",
              "      }\n",
              "      quickchartButtonEl.classList.remove('colab-df-spinner');\n",
              "      quickchartButtonEl.classList.add('colab-df-quickchart-complete');\n",
              "    }\n",
              "    (() => {\n",
              "      let quickchartButtonEl =\n",
              "        document.querySelector('#df-aee064e3-8e1a-448c-88c5-8d8650e74d01 button');\n",
              "      quickchartButtonEl.style.display =\n",
              "        google.colab.kernel.accessAllowed ? 'block' : 'none';\n",
              "    })();\n",
              "  </script>\n",
              "</div>\n",
              "\n",
              "    </div>\n",
              "  </div>\n"
            ],
            "application/vnd.google.colaboratory.intrinsic+json": {
              "type": "dataframe",
              "variable_name": "QA"
            }
          },
          "metadata": {},
          "execution_count": 8
        }
      ]
    },
    {
      "cell_type": "markdown",
      "source": [
        "#### Remove duplicate data"
      ],
      "metadata": {
        "id": "27KCy77IpHTQ"
      }
    },
    {
      "cell_type": "code",
      "source": [
        "print('The original size of the QA dataset: ', QA.shape)\n",
        "print('The number of duplicate rows: ', QA.duplicated().sum())\n",
        "QA = QA.drop_duplicates()\n",
        "print('The size of the QA dataset after dropping duplicate rows: ', QA.shape)"
      ],
      "metadata": {
        "colab": {
          "base_uri": "https://localhost:8080/"
        },
        "collapsed": true,
        "id": "f554__0BpNSo",
        "outputId": "2802d86e-d4bb-48ae-89fa-3d0c9c9f41d6"
      },
      "execution_count": null,
      "outputs": [
        {
          "output_type": "stream",
          "name": "stdout",
          "text": [
            "The original size of the QA dataset:  (86397, 124)\n",
            "The number of duplicate rows:  157\n",
            "The size of the QA dataset after dropping duplicate rows:  (86240, 124)\n"
          ]
        }
      ]
    },
    {
      "cell_type": "markdown",
      "source": [
        "### 3. Impute or Remove Missing Values\n",
        "#### Let's check if there are any missing values in the dataset"
      ],
      "metadata": {
        "id": "umcn3bmep3F3"
      }
    },
    {
      "cell_type": "code",
      "source": [
        "missing_values = QA.isna()\n",
        "print(missing_values)"
      ],
      "metadata": {
        "colab": {
          "base_uri": "https://localhost:8080/"
        },
        "collapsed": true,
        "id": "XCMYUUeJqtE_",
        "outputId": "3464109b-2a0a-4fbf-ac41-05fd63c7f5d6"
      },
      "execution_count": null,
      "outputs": [
        {
          "output_type": "stream",
          "name": "stdout",
          "text": [
            "         QID  Question_English  Answer_English  Usefulness_vote  \\\n",
            "0      False             False           False            False   \n",
            "1      False             False           False            False   \n",
            "2      False             False           False            False   \n",
            "3      False             False           False            False   \n",
            "4      False             False           False            False   \n",
            "...      ...               ...             ...              ...   \n",
            "86392  False             False           False            False   \n",
            "86393  False             False           False            False   \n",
            "86394  False             False           False            False   \n",
            "86395  False             False           False            False   \n",
            "86396  False             False           False            False   \n",
            "\n",
            "       Comment_count  Received_Bonus_Yes_No     WC  Analytic  Clout  \\\n",
            "0              False                  False  False     False  False   \n",
            "1              False                  False  False     False  False   \n",
            "2              False                  False  False     False  False   \n",
            "3              False                  False  False     False  False   \n",
            "4              False                  False  False     False  False   \n",
            "...              ...                    ...    ...       ...    ...   \n",
            "86392          False                  False  False     False  False   \n",
            "86393          False                  False  False     False  False   \n",
            "86394          False                  False  False     False  False   \n",
            "86395          False                  False  False     False  False   \n",
            "86396          False                  False  False     False  False   \n",
            "\n",
            "       Authentic  ...  nonflu  filler  AllPunc  Period  Comma  QMark  Exclam  \\\n",
            "0          False  ...   False   False    False   False  False  False   False   \n",
            "1          False  ...   False   False    False   False  False  False   False   \n",
            "2          False  ...   False   False    False   False  False  False   False   \n",
            "3          False  ...   False   False    False   False  False  False   False   \n",
            "4          False  ...   False   False    False   False  False  False   False   \n",
            "...          ...  ...     ...     ...      ...     ...    ...    ...     ...   \n",
            "86392      False  ...   False   False    False   False  False  False   False   \n",
            "86393      False  ...   False   False    False   False  False  False   False   \n",
            "86394      False  ...   False   False    False   False  False  False   False   \n",
            "86395      False  ...   False   False    False   False  False  False   False   \n",
            "86396      False  ...   False   False    False   False  False  False   False   \n",
            "\n",
            "       Apostro  OtherP  Emoji  \n",
            "0        False   False  False  \n",
            "1        False   False  False  \n",
            "2        False   False  False  \n",
            "3        False   False  False  \n",
            "4        False   False  False  \n",
            "...        ...     ...    ...  \n",
            "86392    False   False  False  \n",
            "86393    False   False  False  \n",
            "86394    False   False  False  \n",
            "86395    False   False  False  \n",
            "86396    False   False  False  \n",
            "\n",
            "[86240 rows x 124 columns]\n"
          ]
        }
      ]
    },
    {
      "cell_type": "code",
      "source": [
        "# Check if any missing values exist in each column\n",
        "missing_values_per_row = QA.isna().any(axis = 1)\n",
        "print(missing_values_per_row)"
      ],
      "metadata": {
        "colab": {
          "base_uri": "https://localhost:8080/"
        },
        "collapsed": true,
        "id": "vjHJ09zYqxRm",
        "outputId": "6b063ff6-df74-4dc8-d51f-b577319730a2"
      },
      "execution_count": null,
      "outputs": [
        {
          "output_type": "stream",
          "name": "stdout",
          "text": [
            "0        False\n",
            "1        False\n",
            "2        False\n",
            "3        False\n",
            "4        False\n",
            "         ...  \n",
            "86392    False\n",
            "86393    False\n",
            "86394    False\n",
            "86395    False\n",
            "86396    False\n",
            "Length: 86240, dtype: bool\n"
          ]
        }
      ]
    },
    {
      "cell_type": "code",
      "source": [
        "# Check if any missing values exist in each column\n",
        "missing_values_per_column = QA.isna().any(axis=0)\n",
        "print(missing_values_per_column)"
      ],
      "metadata": {
        "colab": {
          "base_uri": "https://localhost:8080/"
        },
        "id": "V17N5MVdscyR",
        "outputId": "3e3e5451-5b02-45f9-d46c-30aff11d7855",
        "collapsed": true
      },
      "execution_count": null,
      "outputs": [
        {
          "output_type": "stream",
          "name": "stdout",
          "text": [
            "QID                 False\n",
            "Question_English    False\n",
            "Answer_English      False\n",
            "Usefulness_vote     False\n",
            "Comment_count       False\n",
            "                    ...  \n",
            "QMark               False\n",
            "Exclam              False\n",
            "Apostro             False\n",
            "OtherP              False\n",
            "Emoji               False\n",
            "Length: 124, dtype: bool\n"
          ]
        }
      ]
    },
    {
      "cell_type": "code",
      "source": [
        "# Report columns and rows with missing values\n",
        "print(QA.columns[missing_values_per_column])\n",
        "print(QA.index[missing_values_per_row])"
      ],
      "metadata": {
        "colab": {
          "base_uri": "https://localhost:8080/"
        },
        "collapsed": true,
        "id": "XxQ12H0XsFDv",
        "outputId": "e4e8a194-4ed3-4710-b7c8-c9935442da82"
      },
      "execution_count": null,
      "outputs": [
        {
          "output_type": "stream",
          "name": "stdout",
          "text": [
            "Index(['Clout', 'Authentic', 'Tone'], dtype='object')\n",
            "Index([  311,   662,  1391,  1414,  2192,  2197,  2382,  3522,  3551,  3552,\n",
            "       ...\n",
            "       83476, 83650, 83663, 83955, 84232, 84420, 84901, 85586, 85790, 86320],\n",
            "      dtype='int64', length=373)\n"
          ]
        }
      ]
    },
    {
      "cell_type": "code",
      "source": [
        "# We can either impute the missing values or drop the rows that contain one or more missing values\n",
        "# Since we have more than 80,000 observations and just 373 of them contain missing values, let's adopt the simpler approach\n",
        "QA = QA.dropna()\n",
        "print(QA.shape)"
      ],
      "metadata": {
        "colab": {
          "base_uri": "https://localhost:8080/"
        },
        "collapsed": true,
        "id": "u9rY3aUMsbRA",
        "outputId": "71f20948-5a97-4ea7-8f9a-6e0f7349b7f5"
      },
      "execution_count": null,
      "outputs": [
        {
          "output_type": "stream",
          "name": "stdout",
          "text": [
            "(85867, 124)\n"
          ]
        }
      ]
    },
    {
      "cell_type": "markdown",
      "source": [
        "### 4. Encode Categorical Data\n",
        "From now on, let's focus on the feature `Received_Bonus_Yes_No`, and try to classify an answer into one of two categories: Bonus-receiving Answers (Bonus = 1) and Non-bonus-receiving Answers (Bonus = 0).\n",
        "\n",
        "It is supposed to be a binary variable that takes a value 1 for answers that received a bonus, and 0 otherwise. However, due to data encoding error, some answers take values of 2, 3, or 4 on this variable."
      ],
      "metadata": {
        "id": "tptE7Hqwte2I"
      }
    },
    {
      "cell_type": "code",
      "source": [
        "from collections import Counter\n",
        "Counter(QA['Received_Bonus_Yes_No'])"
      ],
      "metadata": {
        "colab": {
          "base_uri": "https://localhost:8080/"
        },
        "collapsed": true,
        "id": "GcMTWkeNuxyQ",
        "outputId": "c7f95cde-b8f4-43af-ee78-c8942b5a9a02"
      },
      "execution_count": null,
      "outputs": [
        {
          "output_type": "execute_result",
          "data": {
            "text/plain": [
              "Counter({0: 66727, 1: 18718, 2: 403, 3: 17, 4: 2})"
            ]
          },
          "metadata": {},
          "execution_count": 15
        }
      ]
    },
    {
      "cell_type": "code",
      "source": [
        "# Let's transform this variable into a binary variable for classification.\n",
        "QA['Bonus'] = QA['Received_Bonus_Yes_No'].apply(lambda x: 1 if x >= 1 else 0)\n",
        "Counter(QA['Bonus'])\n",
        "# This variable now can be proceessed by classification algorithms"
      ],
      "metadata": {
        "colab": {
          "base_uri": "https://localhost:8080/"
        },
        "collapsed": true,
        "id": "aeVq61Otu0dQ",
        "outputId": "7504d9fe-c85a-4dc4-f7d1-32de52d31c31"
      },
      "execution_count": null,
      "outputs": [
        {
          "output_type": "stream",
          "name": "stderr",
          "text": [
            "<ipython-input-16-7433a15fc2f2>:2: SettingWithCopyWarning: \n",
            "A value is trying to be set on a copy of a slice from a DataFrame.\n",
            "Try using .loc[row_indexer,col_indexer] = value instead\n",
            "\n",
            "See the caveats in the documentation: https://pandas.pydata.org/pandas-docs/stable/user_guide/indexing.html#returning-a-view-versus-a-copy\n",
            "  QA['Bonus'] = QA['Received_Bonus_Yes_No'].apply(lambda x: 1 if x >= 1 else 0)\n"
          ]
        },
        {
          "output_type": "execute_result",
          "data": {
            "text/plain": [
              "Counter({0: 66727, 1: 19140})"
            ]
          },
          "metadata": {},
          "execution_count": 16
        }
      ]
    },
    {
      "cell_type": "markdown",
      "source": [
        "We observe that the classes are imbalanced. The answers that did not receive a bonus (Non-bonus-receiving answers) are dominant in the dataset. Data resampling is necessary at a future step."
      ],
      "metadata": {
        "id": "yDIOrfTUxujA"
      }
    },
    {
      "cell_type": "markdown",
      "source": [
        "### 5. Data Segmentation\n",
        "Now, let's split the dataset into training, validation, and test sets."
      ],
      "metadata": {
        "id": "k13EnT7pyyAZ"
      }
    },
    {
      "cell_type": "markdown",
      "source": [
        "Before data segmentation, sometimes it is necessary to randomize the data to eliminate any inherent order. What factors might cause inherent orders within the dataset?\n",
        "\n",
        "Randomizing the data before segmentation helps prevent the model from learning patterns specific to ordering rather than underlying relationships in the data. This ensures that training, validation, and test sets are representative of the entire dataset."
      ],
      "metadata": {
        "id": "Q62WnpRfzS0I"
      }
    },
    {
      "cell_type": "code",
      "source": [
        "QA = QA.sample(frac=1, random_state = 0)\n",
        "\n",
        "# Since we have a relatively large dataset, let's allocate 80% of the dataset to the training set, 10% to validation set and the remaining 10% to the test set.\n",
        "training_set = QA[:int(QA.shape[0]*0.8)]\n",
        "validation_set = QA[int(QA.shape[0]*0.8):int(QA.shape[0]*0.9)]\n",
        "test_set = QA[int(QA.shape[0]*0.9):]"
      ],
      "metadata": {
        "id": "L0UbTdpkv764"
      },
      "execution_count": null,
      "outputs": []
    },
    {
      "cell_type": "code",
      "source": [
        "# Let's check the class distribution within each set by calculating the\n",
        "# percentage of bonus-receiving answers within all answers.\n",
        "print('The percentage of bonus-receiving answers in the training set: ', round(training_set['Bonus'].mean(), 4))\n",
        "print('The percentage of bonus-receiving answers in the validation set: ', round(validation_set['Bonus'].mean(), 4))\n",
        "print('The percentage of bonus-receiving answers in the test set: ', round(test_set['Bonus'].mean(), 4))"
      ],
      "metadata": {
        "colab": {
          "base_uri": "https://localhost:8080/"
        },
        "collapsed": true,
        "id": "L6pTKfMM2OSQ",
        "outputId": "c785a083-eec5-4b67-dbd6-45102212e786"
      },
      "execution_count": null,
      "outputs": [
        {
          "output_type": "stream",
          "name": "stdout",
          "text": [
            "The percentage of bonus-receiving answers in the training set:  0.2237\n",
            "The percentage of bonus-receiving answers in the validation set:  0.2194\n",
            "The percentage of bonus-receiving answers in the test set:  0.2203\n"
          ]
        }
      ]
    },
    {
      "cell_type": "markdown",
      "source": [
        "The percentages of bonus-receiving answers are roughly the same across three datasets.\n",
        "\n"
      ],
      "metadata": {
        "id": "Uhk2O5q32hXI"
      }
    },
    {
      "cell_type": "markdown",
      "source": [
        "### 6. Data Resampling\n",
        "* The goal of data resampling is to balance the class distribution, so that the model performance will not be biased by the majority class, which is the Non-bonus-receiving answers in our case.\n",
        "* We can start with down-sampling the training set, as there are over 10,000 bonus-receiving answers (the minority class) in the training set.\n",
        "* We employ the package `sklearn` (scikit-learn, a Python package for machine learning) to downsample the training set."
      ],
      "metadata": {
        "id": "hOgm18U83Igj"
      }
    },
    {
      "cell_type": "code",
      "source": [
        "# Identify the bonus-receiving answers and non-bonus-receiving answers in the training set\n",
        "training_bonus = training_set[training_set['Bonus'] == 1]\n",
        "training_no_bonus = training_set[training_set['Bonus'] == 0]\n",
        "print(training_bonus.shape, training_no_bonus.shape)"
      ],
      "metadata": {
        "colab": {
          "base_uri": "https://localhost:8080/"
        },
        "collapsed": true,
        "id": "_xaMY7EP2gl_",
        "outputId": "f3adecb0-1bde-4130-891c-3ae894546f14"
      },
      "execution_count": null,
      "outputs": [
        {
          "output_type": "stream",
          "name": "stdout",
          "text": [
            "(15364, 125) (53329, 125)\n"
          ]
        }
      ]
    },
    {
      "cell_type": "code",
      "source": [
        "# Import the sklearn package\n",
        "from sklearn.utils import resample"
      ],
      "metadata": {
        "id": "77NTnm1vOr6J"
      },
      "execution_count": null,
      "outputs": []
    },
    {
      "cell_type": "code",
      "source": [
        "# Downsample the majority class -- non-bonus-receiving answers using the resample function\n",
        "# To make the two classess of equal size, pass the number of bonus-receiving answers to the parameter n_samples\n",
        "training_no_bonus_ds = resample(training_no_bonus, random_state=42, n_samples=training_bonus.shape[0], replace=True)\n",
        "training_ds = pd.concat([training_no_bonus_ds, training_bonus], axis = 0)\n",
        "\n",
        "# Randomize samples in the training set again\n",
        "training_ds = training_ds.sample(frac = 1)\n",
        "Counter(training_ds['Bonus'])"
      ],
      "metadata": {
        "colab": {
          "base_uri": "https://localhost:8080/"
        },
        "id": "HnwADKZ8Oe_V",
        "outputId": "464944b5-7493-492f-8b5c-0af5c330346c"
      },
      "execution_count": null,
      "outputs": [
        {
          "output_type": "execute_result",
          "data": {
            "text/plain": [
              "Counter({1: 15364, 0: 15364})"
            ]
          },
          "metadata": {},
          "execution_count": 21
        }
      ]
    },
    {
      "cell_type": "markdown",
      "source": [
        "#### 7. Data Scaling\n",
        "* Is it necessary to perform data scaling?\n",
        "* Are the variables on very different scales?\n",
        "* Does the classification algorithm require data scaling?"
      ],
      "metadata": {
        "id": "sGFBZ9KRPUFk"
      }
    },
    {
      "cell_type": "code",
      "source": [
        "QA.describe()"
      ],
      "metadata": {
        "colab": {
          "base_uri": "https://localhost:8080/",
          "height": 346
        },
        "collapsed": true,
        "id": "9IlFr6BPP60D",
        "outputId": "093b8952-7e71-42ee-c839-e5851f3d83c1"
      },
      "execution_count": null,
      "outputs": [
        {
          "output_type": "execute_result",
          "data": {
            "text/plain": [
              "                QID  Usefulness_vote  Comment_count  Received_Bonus_Yes_No  \\\n",
              "count  8.586700e+04     85867.000000   85867.000000           85867.000000   \n",
              "mean   1.008195e+08         3.715024       0.188443               0.228062   \n",
              "std    1.494652e+04         2.637394       0.801291               0.432326   \n",
              "min    1.007880e+08         0.000000       0.000000               0.000000   \n",
              "25%    1.008065e+08         2.000000       0.000000               0.000000   \n",
              "50%    1.008258e+08         3.000000       0.000000               0.000000   \n",
              "75%    1.008321e+08         5.000000       0.000000               0.000000   \n",
              "max    1.008396e+08        31.000000      35.000000               4.000000   \n",
              "\n",
              "                 WC      Analytic         Clout     Authentic          Tone  \\\n",
              "count  85867.000000  85867.000000  85867.000000  85867.000000  85867.000000   \n",
              "mean     363.119569     35.410162     86.706730     37.125245     54.920624   \n",
              "std      211.636561     20.531853     20.063357     24.073024     31.016275   \n",
              "min        5.000000      1.000000      1.000000      1.000000      1.000000   \n",
              "25%      216.000000     19.170000     84.095000     17.620000     28.160000   \n",
              "50%      318.000000     32.450000     95.820000     33.730000     57.260000   \n",
              "75%      470.000000     49.205000     99.000000     53.370000     83.310000   \n",
              "max     3490.000000     99.000000     99.000000     99.000000     99.000000   \n",
              "\n",
              "                WPS  ...        filler       AllPunc        Period  \\\n",
              "count  85867.000000  ...  85867.000000  85867.000000  85867.000000   \n",
              "mean      16.423458  ...      0.000438     16.931799      5.662310   \n",
              "std        3.738305  ...      0.018720      3.189505      1.473004   \n",
              "min        3.500000  ...      0.000000      3.030000      0.000000   \n",
              "25%       13.860000  ...      0.000000     14.810000      4.745000   \n",
              "50%       16.070000  ...      0.000000     16.600000      5.530000   \n",
              "75%       18.540000  ...      0.000000     18.640000      6.420000   \n",
              "max      106.000000  ...      2.880000     68.420000     40.630000   \n",
              "\n",
              "              Comma         QMark        Exclam       Apostro        OtherP  \\\n",
              "count  85867.000000  85867.000000  85867.000000  85867.000000  85867.000000   \n",
              "mean       6.976692      0.469308      0.281474      1.666281      1.875638   \n",
              "std        1.837067      0.819895      0.515585      1.297545      1.902080   \n",
              "min        0.000000      0.000000      0.000000      0.000000      0.000000   \n",
              "25%        5.800000      0.000000      0.000000      0.760000      0.570000   \n",
              "50%        6.910000      0.000000      0.000000      1.430000      1.380000   \n",
              "75%        8.080000      0.640000      0.390000      2.290000      2.620000   \n",
              "max       26.670000     20.000000     31.030000     26.320000     38.100000   \n",
              "\n",
              "              Emoji         Bonus  \n",
              "count  85867.000000  85867.000000  \n",
              "mean       0.243799      0.222903  \n",
              "std        0.904212      0.416196  \n",
              "min        0.000000      0.000000  \n",
              "25%        0.000000      0.000000  \n",
              "50%        0.000000      0.000000  \n",
              "75%        0.000000      0.000000  \n",
              "max       62.500000      1.000000  \n",
              "\n",
              "[8 rows x 123 columns]"
            ],
            "text/html": [
              "\n",
              "  <div id=\"df-33eb9ddc-e5b4-4b44-afd4-c44f833f9b03\" class=\"colab-df-container\">\n",
              "    <div>\n",
              "<style scoped>\n",
              "    .dataframe tbody tr th:only-of-type {\n",
              "        vertical-align: middle;\n",
              "    }\n",
              "\n",
              "    .dataframe tbody tr th {\n",
              "        vertical-align: top;\n",
              "    }\n",
              "\n",
              "    .dataframe thead th {\n",
              "        text-align: right;\n",
              "    }\n",
              "</style>\n",
              "<table border=\"1\" class=\"dataframe\">\n",
              "  <thead>\n",
              "    <tr style=\"text-align: right;\">\n",
              "      <th></th>\n",
              "      <th>QID</th>\n",
              "      <th>Usefulness_vote</th>\n",
              "      <th>Comment_count</th>\n",
              "      <th>Received_Bonus_Yes_No</th>\n",
              "      <th>WC</th>\n",
              "      <th>Analytic</th>\n",
              "      <th>Clout</th>\n",
              "      <th>Authentic</th>\n",
              "      <th>Tone</th>\n",
              "      <th>WPS</th>\n",
              "      <th>...</th>\n",
              "      <th>filler</th>\n",
              "      <th>AllPunc</th>\n",
              "      <th>Period</th>\n",
              "      <th>Comma</th>\n",
              "      <th>QMark</th>\n",
              "      <th>Exclam</th>\n",
              "      <th>Apostro</th>\n",
              "      <th>OtherP</th>\n",
              "      <th>Emoji</th>\n",
              "      <th>Bonus</th>\n",
              "    </tr>\n",
              "  </thead>\n",
              "  <tbody>\n",
              "    <tr>\n",
              "      <th>count</th>\n",
              "      <td>8.586700e+04</td>\n",
              "      <td>85867.000000</td>\n",
              "      <td>85867.000000</td>\n",
              "      <td>85867.000000</td>\n",
              "      <td>85867.000000</td>\n",
              "      <td>85867.000000</td>\n",
              "      <td>85867.000000</td>\n",
              "      <td>85867.000000</td>\n",
              "      <td>85867.000000</td>\n",
              "      <td>85867.000000</td>\n",
              "      <td>...</td>\n",
              "      <td>85867.000000</td>\n",
              "      <td>85867.000000</td>\n",
              "      <td>85867.000000</td>\n",
              "      <td>85867.000000</td>\n",
              "      <td>85867.000000</td>\n",
              "      <td>85867.000000</td>\n",
              "      <td>85867.000000</td>\n",
              "      <td>85867.000000</td>\n",
              "      <td>85867.000000</td>\n",
              "      <td>85867.000000</td>\n",
              "    </tr>\n",
              "    <tr>\n",
              "      <th>mean</th>\n",
              "      <td>1.008195e+08</td>\n",
              "      <td>3.715024</td>\n",
              "      <td>0.188443</td>\n",
              "      <td>0.228062</td>\n",
              "      <td>363.119569</td>\n",
              "      <td>35.410162</td>\n",
              "      <td>86.706730</td>\n",
              "      <td>37.125245</td>\n",
              "      <td>54.920624</td>\n",
              "      <td>16.423458</td>\n",
              "      <td>...</td>\n",
              "      <td>0.000438</td>\n",
              "      <td>16.931799</td>\n",
              "      <td>5.662310</td>\n",
              "      <td>6.976692</td>\n",
              "      <td>0.469308</td>\n",
              "      <td>0.281474</td>\n",
              "      <td>1.666281</td>\n",
              "      <td>1.875638</td>\n",
              "      <td>0.243799</td>\n",
              "      <td>0.222903</td>\n",
              "    </tr>\n",
              "    <tr>\n",
              "      <th>std</th>\n",
              "      <td>1.494652e+04</td>\n",
              "      <td>2.637394</td>\n",
              "      <td>0.801291</td>\n",
              "      <td>0.432326</td>\n",
              "      <td>211.636561</td>\n",
              "      <td>20.531853</td>\n",
              "      <td>20.063357</td>\n",
              "      <td>24.073024</td>\n",
              "      <td>31.016275</td>\n",
              "      <td>3.738305</td>\n",
              "      <td>...</td>\n",
              "      <td>0.018720</td>\n",
              "      <td>3.189505</td>\n",
              "      <td>1.473004</td>\n",
              "      <td>1.837067</td>\n",
              "      <td>0.819895</td>\n",
              "      <td>0.515585</td>\n",
              "      <td>1.297545</td>\n",
              "      <td>1.902080</td>\n",
              "      <td>0.904212</td>\n",
              "      <td>0.416196</td>\n",
              "    </tr>\n",
              "    <tr>\n",
              "      <th>min</th>\n",
              "      <td>1.007880e+08</td>\n",
              "      <td>0.000000</td>\n",
              "      <td>0.000000</td>\n",
              "      <td>0.000000</td>\n",
              "      <td>5.000000</td>\n",
              "      <td>1.000000</td>\n",
              "      <td>1.000000</td>\n",
              "      <td>1.000000</td>\n",
              "      <td>1.000000</td>\n",
              "      <td>3.500000</td>\n",
              "      <td>...</td>\n",
              "      <td>0.000000</td>\n",
              "      <td>3.030000</td>\n",
              "      <td>0.000000</td>\n",
              "      <td>0.000000</td>\n",
              "      <td>0.000000</td>\n",
              "      <td>0.000000</td>\n",
              "      <td>0.000000</td>\n",
              "      <td>0.000000</td>\n",
              "      <td>0.000000</td>\n",
              "      <td>0.000000</td>\n",
              "    </tr>\n",
              "    <tr>\n",
              "      <th>25%</th>\n",
              "      <td>1.008065e+08</td>\n",
              "      <td>2.000000</td>\n",
              "      <td>0.000000</td>\n",
              "      <td>0.000000</td>\n",
              "      <td>216.000000</td>\n",
              "      <td>19.170000</td>\n",
              "      <td>84.095000</td>\n",
              "      <td>17.620000</td>\n",
              "      <td>28.160000</td>\n",
              "      <td>13.860000</td>\n",
              "      <td>...</td>\n",
              "      <td>0.000000</td>\n",
              "      <td>14.810000</td>\n",
              "      <td>4.745000</td>\n",
              "      <td>5.800000</td>\n",
              "      <td>0.000000</td>\n",
              "      <td>0.000000</td>\n",
              "      <td>0.760000</td>\n",
              "      <td>0.570000</td>\n",
              "      <td>0.000000</td>\n",
              "      <td>0.000000</td>\n",
              "    </tr>\n",
              "    <tr>\n",
              "      <th>50%</th>\n",
              "      <td>1.008258e+08</td>\n",
              "      <td>3.000000</td>\n",
              "      <td>0.000000</td>\n",
              "      <td>0.000000</td>\n",
              "      <td>318.000000</td>\n",
              "      <td>32.450000</td>\n",
              "      <td>95.820000</td>\n",
              "      <td>33.730000</td>\n",
              "      <td>57.260000</td>\n",
              "      <td>16.070000</td>\n",
              "      <td>...</td>\n",
              "      <td>0.000000</td>\n",
              "      <td>16.600000</td>\n",
              "      <td>5.530000</td>\n",
              "      <td>6.910000</td>\n",
              "      <td>0.000000</td>\n",
              "      <td>0.000000</td>\n",
              "      <td>1.430000</td>\n",
              "      <td>1.380000</td>\n",
              "      <td>0.000000</td>\n",
              "      <td>0.000000</td>\n",
              "    </tr>\n",
              "    <tr>\n",
              "      <th>75%</th>\n",
              "      <td>1.008321e+08</td>\n",
              "      <td>5.000000</td>\n",
              "      <td>0.000000</td>\n",
              "      <td>0.000000</td>\n",
              "      <td>470.000000</td>\n",
              "      <td>49.205000</td>\n",
              "      <td>99.000000</td>\n",
              "      <td>53.370000</td>\n",
              "      <td>83.310000</td>\n",
              "      <td>18.540000</td>\n",
              "      <td>...</td>\n",
              "      <td>0.000000</td>\n",
              "      <td>18.640000</td>\n",
              "      <td>6.420000</td>\n",
              "      <td>8.080000</td>\n",
              "      <td>0.640000</td>\n",
              "      <td>0.390000</td>\n",
              "      <td>2.290000</td>\n",
              "      <td>2.620000</td>\n",
              "      <td>0.000000</td>\n",
              "      <td>0.000000</td>\n",
              "    </tr>\n",
              "    <tr>\n",
              "      <th>max</th>\n",
              "      <td>1.008396e+08</td>\n",
              "      <td>31.000000</td>\n",
              "      <td>35.000000</td>\n",
              "      <td>4.000000</td>\n",
              "      <td>3490.000000</td>\n",
              "      <td>99.000000</td>\n",
              "      <td>99.000000</td>\n",
              "      <td>99.000000</td>\n",
              "      <td>99.000000</td>\n",
              "      <td>106.000000</td>\n",
              "      <td>...</td>\n",
              "      <td>2.880000</td>\n",
              "      <td>68.420000</td>\n",
              "      <td>40.630000</td>\n",
              "      <td>26.670000</td>\n",
              "      <td>20.000000</td>\n",
              "      <td>31.030000</td>\n",
              "      <td>26.320000</td>\n",
              "      <td>38.100000</td>\n",
              "      <td>62.500000</td>\n",
              "      <td>1.000000</td>\n",
              "    </tr>\n",
              "  </tbody>\n",
              "</table>\n",
              "<p>8 rows × 123 columns</p>\n",
              "</div>\n",
              "    <div class=\"colab-df-buttons\">\n",
              "\n",
              "  <div class=\"colab-df-container\">\n",
              "    <button class=\"colab-df-convert\" onclick=\"convertToInteractive('df-33eb9ddc-e5b4-4b44-afd4-c44f833f9b03')\"\n",
              "            title=\"Convert this dataframe to an interactive table.\"\n",
              "            style=\"display:none;\">\n",
              "\n",
              "  <svg xmlns=\"http://www.w3.org/2000/svg\" height=\"24px\" viewBox=\"0 -960 960 960\">\n",
              "    <path d=\"M120-120v-720h720v720H120Zm60-500h600v-160H180v160Zm220 220h160v-160H400v160Zm0 220h160v-160H400v160ZM180-400h160v-160H180v160Zm440 0h160v-160H620v160ZM180-180h160v-160H180v160Zm440 0h160v-160H620v160Z\"/>\n",
              "  </svg>\n",
              "    </button>\n",
              "\n",
              "  <style>\n",
              "    .colab-df-container {\n",
              "      display:flex;\n",
              "      gap: 12px;\n",
              "    }\n",
              "\n",
              "    .colab-df-convert {\n",
              "      background-color: #E8F0FE;\n",
              "      border: none;\n",
              "      border-radius: 50%;\n",
              "      cursor: pointer;\n",
              "      display: none;\n",
              "      fill: #1967D2;\n",
              "      height: 32px;\n",
              "      padding: 0 0 0 0;\n",
              "      width: 32px;\n",
              "    }\n",
              "\n",
              "    .colab-df-convert:hover {\n",
              "      background-color: #E2EBFA;\n",
              "      box-shadow: 0px 1px 2px rgba(60, 64, 67, 0.3), 0px 1px 3px 1px rgba(60, 64, 67, 0.15);\n",
              "      fill: #174EA6;\n",
              "    }\n",
              "\n",
              "    .colab-df-buttons div {\n",
              "      margin-bottom: 4px;\n",
              "    }\n",
              "\n",
              "    [theme=dark] .colab-df-convert {\n",
              "      background-color: #3B4455;\n",
              "      fill: #D2E3FC;\n",
              "    }\n",
              "\n",
              "    [theme=dark] .colab-df-convert:hover {\n",
              "      background-color: #434B5C;\n",
              "      box-shadow: 0px 1px 3px 1px rgba(0, 0, 0, 0.15);\n",
              "      filter: drop-shadow(0px 1px 2px rgba(0, 0, 0, 0.3));\n",
              "      fill: #FFFFFF;\n",
              "    }\n",
              "  </style>\n",
              "\n",
              "    <script>\n",
              "      const buttonEl =\n",
              "        document.querySelector('#df-33eb9ddc-e5b4-4b44-afd4-c44f833f9b03 button.colab-df-convert');\n",
              "      buttonEl.style.display =\n",
              "        google.colab.kernel.accessAllowed ? 'block' : 'none';\n",
              "\n",
              "      async function convertToInteractive(key) {\n",
              "        const element = document.querySelector('#df-33eb9ddc-e5b4-4b44-afd4-c44f833f9b03');\n",
              "        const dataTable =\n",
              "          await google.colab.kernel.invokeFunction('convertToInteractive',\n",
              "                                                    [key], {});\n",
              "        if (!dataTable) return;\n",
              "\n",
              "        const docLinkHtml = 'Like what you see? Visit the ' +\n",
              "          '<a target=\"_blank\" href=https://colab.research.google.com/notebooks/data_table.ipynb>data table notebook</a>'\n",
              "          + ' to learn more about interactive tables.';\n",
              "        element.innerHTML = '';\n",
              "        dataTable['output_type'] = 'display_data';\n",
              "        await google.colab.output.renderOutput(dataTable, element);\n",
              "        const docLink = document.createElement('div');\n",
              "        docLink.innerHTML = docLinkHtml;\n",
              "        element.appendChild(docLink);\n",
              "      }\n",
              "    </script>\n",
              "  </div>\n",
              "\n",
              "\n",
              "<div id=\"df-d42bbb05-705e-4d65-a7d4-d527b13bffda\">\n",
              "  <button class=\"colab-df-quickchart\" onclick=\"quickchart('df-d42bbb05-705e-4d65-a7d4-d527b13bffda')\"\n",
              "            title=\"Suggest charts\"\n",
              "            style=\"display:none;\">\n",
              "\n",
              "<svg xmlns=\"http://www.w3.org/2000/svg\" height=\"24px\"viewBox=\"0 0 24 24\"\n",
              "     width=\"24px\">\n",
              "    <g>\n",
              "        <path d=\"M19 3H5c-1.1 0-2 .9-2 2v14c0 1.1.9 2 2 2h14c1.1 0 2-.9 2-2V5c0-1.1-.9-2-2-2zM9 17H7v-7h2v7zm4 0h-2V7h2v10zm4 0h-2v-4h2v4z\"/>\n",
              "    </g>\n",
              "</svg>\n",
              "  </button>\n",
              "\n",
              "<style>\n",
              "  .colab-df-quickchart {\n",
              "      --bg-color: #E8F0FE;\n",
              "      --fill-color: #1967D2;\n",
              "      --hover-bg-color: #E2EBFA;\n",
              "      --hover-fill-color: #174EA6;\n",
              "      --disabled-fill-color: #AAA;\n",
              "      --disabled-bg-color: #DDD;\n",
              "  }\n",
              "\n",
              "  [theme=dark] .colab-df-quickchart {\n",
              "      --bg-color: #3B4455;\n",
              "      --fill-color: #D2E3FC;\n",
              "      --hover-bg-color: #434B5C;\n",
              "      --hover-fill-color: #FFFFFF;\n",
              "      --disabled-bg-color: #3B4455;\n",
              "      --disabled-fill-color: #666;\n",
              "  }\n",
              "\n",
              "  .colab-df-quickchart {\n",
              "    background-color: var(--bg-color);\n",
              "    border: none;\n",
              "    border-radius: 50%;\n",
              "    cursor: pointer;\n",
              "    display: none;\n",
              "    fill: var(--fill-color);\n",
              "    height: 32px;\n",
              "    padding: 0;\n",
              "    width: 32px;\n",
              "  }\n",
              "\n",
              "  .colab-df-quickchart:hover {\n",
              "    background-color: var(--hover-bg-color);\n",
              "    box-shadow: 0 1px 2px rgba(60, 64, 67, 0.3), 0 1px 3px 1px rgba(60, 64, 67, 0.15);\n",
              "    fill: var(--button-hover-fill-color);\n",
              "  }\n",
              "\n",
              "  .colab-df-quickchart-complete:disabled,\n",
              "  .colab-df-quickchart-complete:disabled:hover {\n",
              "    background-color: var(--disabled-bg-color);\n",
              "    fill: var(--disabled-fill-color);\n",
              "    box-shadow: none;\n",
              "  }\n",
              "\n",
              "  .colab-df-spinner {\n",
              "    border: 2px solid var(--fill-color);\n",
              "    border-color: transparent;\n",
              "    border-bottom-color: var(--fill-color);\n",
              "    animation:\n",
              "      spin 1s steps(1) infinite;\n",
              "  }\n",
              "\n",
              "  @keyframes spin {\n",
              "    0% {\n",
              "      border-color: transparent;\n",
              "      border-bottom-color: var(--fill-color);\n",
              "      border-left-color: var(--fill-color);\n",
              "    }\n",
              "    20% {\n",
              "      border-color: transparent;\n",
              "      border-left-color: var(--fill-color);\n",
              "      border-top-color: var(--fill-color);\n",
              "    }\n",
              "    30% {\n",
              "      border-color: transparent;\n",
              "      border-left-color: var(--fill-color);\n",
              "      border-top-color: var(--fill-color);\n",
              "      border-right-color: var(--fill-color);\n",
              "    }\n",
              "    40% {\n",
              "      border-color: transparent;\n",
              "      border-right-color: var(--fill-color);\n",
              "      border-top-color: var(--fill-color);\n",
              "    }\n",
              "    60% {\n",
              "      border-color: transparent;\n",
              "      border-right-color: var(--fill-color);\n",
              "    }\n",
              "    80% {\n",
              "      border-color: transparent;\n",
              "      border-right-color: var(--fill-color);\n",
              "      border-bottom-color: var(--fill-color);\n",
              "    }\n",
              "    90% {\n",
              "      border-color: transparent;\n",
              "      border-bottom-color: var(--fill-color);\n",
              "    }\n",
              "  }\n",
              "</style>\n",
              "\n",
              "  <script>\n",
              "    async function quickchart(key) {\n",
              "      const quickchartButtonEl =\n",
              "        document.querySelector('#' + key + ' button');\n",
              "      quickchartButtonEl.disabled = true;  // To prevent multiple clicks.\n",
              "      quickchartButtonEl.classList.add('colab-df-spinner');\n",
              "      try {\n",
              "        const charts = await google.colab.kernel.invokeFunction(\n",
              "            'suggestCharts', [key], {});\n",
              "      } catch (error) {\n",
              "        console.error('Error during call to suggestCharts:', error);\n",
              "      }\n",
              "      quickchartButtonEl.classList.remove('colab-df-spinner');\n",
              "      quickchartButtonEl.classList.add('colab-df-quickchart-complete');\n",
              "    }\n",
              "    (() => {\n",
              "      let quickchartButtonEl =\n",
              "        document.querySelector('#df-d42bbb05-705e-4d65-a7d4-d527b13bffda button');\n",
              "      quickchartButtonEl.style.display =\n",
              "        google.colab.kernel.accessAllowed ? 'block' : 'none';\n",
              "    })();\n",
              "  </script>\n",
              "</div>\n",
              "\n",
              "    </div>\n",
              "  </div>\n"
            ],
            "application/vnd.google.colaboratory.intrinsic+json": {
              "type": "dataframe"
            }
          },
          "metadata": {},
          "execution_count": 22
        }
      ]
    },
    {
      "cell_type": "markdown",
      "source": [
        "Let's start with standardizing the predictors in the training set using the `preprocessing` function in the `sklearn` package.\n",
        "* As an example, let's use `WC` (Word Count) and `we` (The percentage number of first person plurals) as the predictors."
      ],
      "metadata": {
        "id": "7Xi5Rfc2Q1oq"
      }
    },
    {
      "cell_type": "code",
      "source": [
        "from sklearn import preprocessing\n",
        "\n",
        "training_predictors = training_ds[['WC', 'we']]\n",
        "training_scaler = preprocessing.StandardScaler().fit(training_predictors)\n",
        "print(training_scaler.mean_, training_scaler.scale_)"
      ],
      "metadata": {
        "colab": {
          "base_uri": "https://localhost:8080/"
        },
        "id": "QphJrbzhQ7Ez",
        "outputId": "f96e3cf9-0b7f-4e55-e7fe-c8fc3aabd517"
      },
      "execution_count": null,
      "outputs": [
        {
          "output_type": "stream",
          "name": "stdout",
          "text": [
            "[420.19607524   1.17493036] [225.66942834   1.85879971]\n"
          ]
        }
      ]
    },
    {
      "cell_type": "code",
      "source": [
        "training_predictors_scaled = training_scaler.transform(training_predictors)\n",
        "(WC_scaled_mean, we_scaled_mean) = pd.DataFrame(training_predictors_scaled).mean()\n",
        "(WC_scaled_std, we_scaled_std) = pd.DataFrame(training_predictors_scaled).std()\n",
        "\n",
        "print('The mean of WC after scaling: ', WC_scaled_mean)\n",
        "print('The mean of we after scaling: ', we_scaled_mean)\n",
        "print('The standard deviation of WC after scaling: ', WC_scaled_std)\n",
        "print('The standard deviation of we after scaling: ', we_scaled_std)"
      ],
      "metadata": {
        "colab": {
          "base_uri": "https://localhost:8080/"
        },
        "id": "o6RTg8WUStl5",
        "outputId": "1196df23-c5a8-49bd-e2c9-6e803468dc78"
      },
      "execution_count": null,
      "outputs": [
        {
          "output_type": "stream",
          "name": "stdout",
          "text": [
            "The mean of WC after scaling:  -8.260914877320223e-17\n",
            "The mean of we after scaling:  -1.9655080883757e-18\n",
            "The standard deviation of WC after scaling:  1.0000162722013817\n",
            "The standard deviation of we after scaling:  1.0000162722014598\n"
          ]
        }
      ]
    },
    {
      "cell_type": "markdown",
      "source": [
        "We also need to standardize the predictor variables in the validation and the test set."
      ],
      "metadata": {
        "id": "1TsWniWxTVKT"
      }
    },
    {
      "cell_type": "code",
      "source": [
        "validation_predictors_scaled = training_scaler.transform(validation_set[['WC', 'we']])\n",
        "test_predictors_scaled = training_scaler.transform(test_set[['WC', 'we']])\n",
        "\n",
        "(val_WC_scaled_mean, val_we_scaled_mean) = pd.DataFrame(validation_predictors_scaled).mean()\n",
        "(val_WC_scaled_std, val_we_scaled_std) = pd.DataFrame(validation_predictors_scaled).std()\n",
        "\n",
        "print('The mean of WC in the validation set after scaling: ', val_WC_scaled_mean)\n",
        "print('The mean of we in the validation set after scaling: ', val_we_scaled_mean)\n",
        "print('The standard deviation of WC in the validation set after scaling: ', val_WC_scaled_std)\n",
        "print('The standard deviation of we in the validation set after scaling: ', val_we_scaled_std)\n"
      ],
      "metadata": {
        "colab": {
          "base_uri": "https://localhost:8080/"
        },
        "id": "_bQwv0DVTre7",
        "outputId": "6bf5da01-5778-44b4-ac90-0047a4be4837"
      },
      "execution_count": null,
      "outputs": [
        {
          "output_type": "stream",
          "name": "stdout",
          "text": [
            "The mean of WC in the validation set after scaling:  -0.2452218828117407\n",
            "The mean of we in the validation set after scaling:  -0.0489306350661769\n",
            "The standard deviation of WC in the validation set after scaling:  0.9329873244023619\n",
            "The standard deviation of we in the validation set after scaling:  0.9911702611599003\n"
          ]
        }
      ]
    },
    {
      "cell_type": "markdown",
      "source": [
        "### 8. Machine Learning Classification\n",
        "* Let's start with the SVC classifier.\n",
        "* Here, we rely on the `sklearn` package to build a classification model."
      ],
      "metadata": {
        "id": "RV0O26ucXcQ0"
      }
    },
    {
      "cell_type": "code",
      "source": [
        "### predicting bonus-receiving answers\n",
        "from sklearn.svm import SVC\n",
        "### initialize a SVC classifier\n",
        "clf = SVC()\n",
        "\n",
        "### fit the classifier on the training dataset\n",
        "clf.fit(training_predictors_scaled, training_ds['Bonus'])\n",
        "\n",
        "### predict labels of the validation set using the trained classifier\n",
        "bonus_prediction_validation = clf.predict(validation_predictors_scaled)"
      ],
      "metadata": {
        "id": "fMKB9jyWXbDL"
      },
      "execution_count": null,
      "outputs": []
    },
    {
      "cell_type": "code",
      "source": [
        "# Check the prediction\n",
        "print(bonus_prediction_validation)"
      ],
      "metadata": {
        "colab": {
          "base_uri": "https://localhost:8080/"
        },
        "id": "iei42v_eYOt8",
        "outputId": "0a8d5db4-19e9-4393-9b58-d68edafd74c2"
      },
      "execution_count": null,
      "outputs": [
        {
          "output_type": "stream",
          "name": "stdout",
          "text": [
            "[0 0 0 ... 1 0 0]\n"
          ]
        }
      ]
    },
    {
      "cell_type": "code",
      "source": [
        "Counter(bonus_prediction_validation)"
      ],
      "metadata": {
        "colab": {
          "base_uri": "https://localhost:8080/"
        },
        "id": "_w546Xl3Yav7",
        "outputId": "ea5546af-e03e-433a-c9d0-da19a02ee5c9"
      },
      "execution_count": null,
      "outputs": [
        {
          "output_type": "execute_result",
          "data": {
            "text/plain": [
              "Counter({0: 4720, 1: 3867})"
            ]
          },
          "metadata": {},
          "execution_count": 28
        }
      ]
    },
    {
      "cell_type": "markdown",
      "source": [
        "### 9. Model Evaluation\n",
        "* Once we build a prediction model, how do we know the model's performance?\n",
        "* We measure a model's performance using performance metrics, such as accuracy, precision, recall, and f1 score."
      ],
      "metadata": {
        "id": "_7vNoqZ7YVMr"
      }
    },
    {
      "cell_type": "code",
      "source": [
        "from sklearn.metrics import f1_score, accuracy_score, precision_score, recall_score\n",
        "\n",
        "svc_acc = accuracy_score(bonus_prediction_validation, validation_set['Bonus'])\n",
        "svc_pre = precision_score(bonus_prediction_validation, validation_set['Bonus'])\n",
        "svc_rec = recall_score(bonus_prediction_validation, validation_set['Bonus'])\n",
        "svc_f1 = f1_score(bonus_prediction_validation, validation_set['Bonus'])\n",
        "\n",
        "print('Linear SVC Model Accuracy: %.4f \\n' % round(svc_acc, 4),\n",
        "      'Linear SVC Model Precision: %.4f \\n' % round(svc_pre, 4),\n",
        "      'Linear SVC Model Recall: %.4f \\n' % round(svc_rec, 4),\n",
        "      'Linear SVC Model F1 Score: %.4f \\n' % round(svc_f1, 4))"
      ],
      "metadata": {
        "colab": {
          "base_uri": "https://localhost:8080/"
        },
        "id": "7OWH4oWScrEK",
        "outputId": "3bd1d53d-2cd1-4720-e462-8c152d54f9d9"
      },
      "execution_count": null,
      "outputs": [
        {
          "output_type": "stream",
          "name": "stdout",
          "text": [
            "Linear SVC Model Accuracy: 0.6980 \n",
            " Linear SVC Model Precision: 0.8381 \n",
            " Linear SVC Model Recall: 0.4083 \n",
            " Linear SVC Model F1 Score: 0.5491 \n",
            "\n"
          ]
        }
      ]
    },
    {
      "cell_type": "markdown",
      "source": [
        "To better visualize the model's performance, we may build a confusion matrix based on its predictions."
      ],
      "metadata": {
        "id": "1CJs7ShKdQxq"
      }
    },
    {
      "cell_type": "code",
      "source": [
        "# Build a confusion matrix to visualize the model's performance\n",
        "from sklearn.metrics import confusion_matrix\n",
        "import seaborn as sns\n",
        "import matplotlib.pyplot as plt\n",
        "\n",
        "svc_cm = confusion_matrix(validation_set['Bonus'], bonus_prediction_validation)\n",
        "sns.heatmap(svc_cm, annot=True, fmt='g')\n",
        "plt.title('SVC Confusion Matrix')\n",
        "plt.xlabel('Predicted Values')\n",
        "plt.ylabel('Actual Values')\n",
        "plt.show()"
      ],
      "metadata": {
        "colab": {
          "base_uri": "https://localhost:8080/",
          "height": 472
        },
        "id": "kVci8yQAdTSV",
        "outputId": "b7690e03-e862-4a48-9f83-88323ad0690e"
      },
      "execution_count": null,
      "outputs": [
        {
          "output_type": "display_data",
          "data": {
            "text/plain": [
              "<Figure size 640x480 with 2 Axes>"
            ],
            "image/png": "[encoded data removed]"
          },
          "metadata": {}
        }
      ]
    },
    {
      "cell_type": "markdown",
      "source": [
        "* The SVC model's performance is okay.\n",
        "* Let's try other classification models."
      ],
      "metadata": {
        "id": "W6phEkJLdG0a"
      }
    },
    {
      "cell_type": "code",
      "source": [
        "#### KNeighbor Classifier\n",
        "from sklearn.neighbors import KNeighborsClassifier\n",
        "knn = KNeighborsClassifier()\n",
        "knn.fit(training_predictors_scaled, training_ds['Bonus'])\n",
        "knn_pred = knn.predict(validation_predictors_scaled)\n",
        "\n",
        "knn_acc = accuracy_score(knn_pred, validation_set['Bonus'])\n",
        "knn_pre = precision_score(knn_pred, validation_set['Bonus'])\n",
        "knn_rec = recall_score(knn_pred, validation_set['Bonus'])\n",
        "knn_f1 = f1_score(knn_pred, validation_set['Bonus'])\n",
        "\n",
        "print('KNN Model Accuracy: %.4f \\n' % round(knn_acc, 4),\n",
        "      'KNN Model Precision: %.4f \\n' % round(knn_pre, 4),\n",
        "      'KNN Model Recall: %.4f \\n' % round(knn_rec, 4),\n",
        "      'KNN Model F1 Score: %.4f \\n' % round(knn_f1, 4))\n"
      ],
      "metadata": {
        "colab": {
          "base_uri": "https://localhost:8080/"
        },
        "id": "64y96YQkdwZa",
        "outputId": "ac2686cf-4c6a-4d21-d487-94eed0cbef58"
      },
      "execution_count": null,
      "outputs": [
        {
          "output_type": "stream",
          "name": "stdout",
          "text": [
            "KNN Model Accuracy: 0.6846 \n",
            " KNN Model Precision: 0.7309 \n",
            " KNN Model Recall: 0.3849 \n",
            " KNN Model F1 Score: 0.5042 \n",
            "\n"
          ]
        }
      ]
    },
    {
      "cell_type": "markdown",
      "source": [
        "* The KNN classifier performs worse than the SVC on our dataset, as evidenced in its consistently lower accuracy, precision, recall, and F1 score.\n",
        "* How about the decision tree classifiers?"
      ],
      "metadata": {
        "id": "-Zp6-SLbeFX9"
      }
    },
    {
      "cell_type": "code",
      "source": [
        "from sklearn.ensemble import RandomForestClassifier\n",
        "\n",
        "# Initialize a Random Forest Classifier\n",
        "rf_classifier = RandomForestClassifier(random_state=42, n_jobs = 4)\n",
        "rf_classifier.fit(training_predictors_scaled, training_ds['Bonus'])\n",
        "rf_pred = rf_classifier.predict(validation_predictors_scaled)\n",
        "\n",
        "rf_acc = accuracy_score(rf_pred, validation_set['Bonus'])\n",
        "rf_pre = precision_score(rf_pred, validation_set['Bonus'])\n",
        "rf_rec = recall_score(rf_pred, validation_set['Bonus'])\n",
        "rf_f1 = f1_score(rf_pred, validation_set['Bonus'])\n",
        "\n",
        "print('Random Forest Model Accuracy: %.4f \\n' % round(rf_acc, 4),\n",
        "      'Random Forest Model Precision: %.4f \\n' % round(rf_pre, 4),\n",
        "      'Random Forest Model Recall: %.4f \\n' % round(rf_rec, 4),\n",
        "      'Random Forest Model F1 Score: %.4f \\n' % round(rf_f1, 4))"
      ],
      "metadata": {
        "colab": {
          "base_uri": "https://localhost:8080/"
        },
        "id": "QfsVcnQrervE",
        "outputId": "32967c80-240c-4f75-efa6-bd934ef6685e"
      },
      "execution_count": null,
      "outputs": [
        {
          "output_type": "stream",
          "name": "stdout",
          "text": [
            "Random Forest Model Accuracy: 0.6820 \n",
            " Random Forest Model Precision: 0.7192 \n",
            " Random Forest Model Recall: 0.3809 \n",
            " Random Forest Model F1 Score: 0.4981 \n",
            "\n"
          ]
        }
      ]
    },
    {
      "cell_type": "code",
      "source": [
        "from sklearn.ensemble import GradientBoostingClassifier\n",
        "xgb = GradientBoostingClassifier(learning_rate = 0.1)\n",
        "xgb.fit(training_predictors_scaled, training_ds['Bonus'])\n",
        "xgb_pred = xgb.predict(validation_predictors_scaled)\n",
        "\n",
        "xgb_acc = accuracy_score(xgb_pred, validation_set['Bonus'])\n",
        "xgb_pre = precision_score(xgb_pred, validation_set['Bonus'])\n",
        "xgb_rec = recall_score(xgb_pred, validation_set['Bonus'])\n",
        "xgb_f1 = f1_score(xgb_pred, validation_set['Bonus'])\n",
        "\n",
        "print('XGBoost Model Accuracy: %.4f \\n' % round(xgb_acc, 4),\n",
        "      'XGBoost Model Precision: %.4f \\n' % round(xgb_pre, 4),\n",
        "      'XGBoost Model Recall: %.4f \\n' % round(xgb_rec, 4),\n",
        "      'XGBoost Model F1 Score: %.4f \\n' % round(xgb_f1, 4))"
      ],
      "metadata": {
        "colab": {
          "base_uri": "https://localhost:8080/"
        },
        "id": "viULR4lueVar",
        "outputId": "0a561130-00c4-4efe-e9fb-f4e800df604b"
      },
      "execution_count": null,
      "outputs": [
        {
          "output_type": "stream",
          "name": "stdout",
          "text": [
            "XGBoost Model Accuracy: 0.6907 \n",
            " XGBoost Model Precision: 0.8493 \n",
            " XGBoost Model Recall: 0.4028 \n",
            " XGBoost Model F1 Score: 0.5464 \n",
            "\n"
          ]
        }
      ]
    },
    {
      "cell_type": "markdown",
      "source": [
        "* Now, let's compare the four models using their AUC curves."
      ],
      "metadata": {
        "id": "B7s4bfjafib9"
      }
    },
    {
      "cell_type": "code",
      "source": [
        "from sklearn.metrics import roc_curve, auc\n",
        "import matplotlib.pyplot as plt\n",
        "\n",
        "# Predict probabilities for the validation set for each model\n",
        "svc_probs = clf.decision_function(validation_predictors_scaled)\n",
        "knn_probs = knn.predict_proba(validation_predictors_scaled)[:, 1]\n",
        "rf_probs = rf_classifier.predict_proba(validation_predictors_scaled)[:, 1]\n",
        "xgb_probs = xgb.predict_proba(validation_predictors_scaled)[:, 1]\n",
        "\n",
        "# Calculate ROC curves and AUC scores\n",
        "svc_fpr, svc_tpr, _ = roc_curve(validation_set['Bonus'], svc_probs)\n",
        "svc_roc_auc = auc(svc_fpr, svc_tpr)\n",
        "\n",
        "knn_fpr, knn_tpr, _ = roc_curve(validation_set['Bonus'], knn_probs)\n",
        "knn_roc_auc = auc(knn_fpr, knn_tpr)\n",
        "\n",
        "rf_fpr, rf_tpr, _ = roc_curve(validation_set['Bonus'], rf_probs)\n",
        "rf_roc_auc = auc(rf_fpr, rf_tpr)\n",
        "\n",
        "xgb_fpr, xgb_tpr, _ = roc_curve(validation_set['Bonus'], xgb_probs)\n",
        "xgb_roc_auc = auc(xgb_fpr, xgb_tpr)\n",
        "\n",
        "# Plot ROC curves\n",
        "plt.figure(figsize=(10, 8))\n",
        "plt.plot(svc_fpr, svc_tpr, color='darkorange', lw=2, label='SVC (AUC = %0.2f)' % svc_roc_auc)\n",
        "plt.plot(knn_fpr, knn_tpr, color='green', lw=2, label='KNN (AUC = %0.2f)' % knn_roc_auc)\n",
        "plt.plot(rf_fpr, rf_tpr, color='blue', lw=2, label='Random Forest (AUC = %0.2f)' % rf_roc_auc)\n",
        "plt.plot(xgb_fpr, xgb_tpr, color='red', lw=2, label='XGBoost (AUC = %0.2f)' % xgb_roc_auc)\n",
        "\n",
        "plt.plot([0, 1], [0, 1], color='navy', lw=2, linestyle='--')\n",
        "plt.xlim([0.0, 1.0])\n",
        "plt.ylim([0.0, 1.05])\n",
        "plt.xlabel('False Positive Rate')\n",
        "plt.ylabel('True Positive Rate')\n",
        "plt.title('Receiver Operating Characteristic (ROC) Curves')\n",
        "plt.legend(loc=\"lower right\")\n",
        "plt.show()\n"
      ],
      "metadata": {
        "colab": {
          "base_uri": "https://localhost:8080/",
          "height": 718
        },
        "id": "t5SIsxqtf7ar",
        "outputId": "f1b1f5c4-2971-4e02-889a-a69f1cfbefb4"
      },
      "execution_count": null,
      "outputs": [
        {
          "output_type": "display_data",
          "data": {
            "text/plain": [
              "<Figure size 1000x800 with 1 Axes>"
            ],
            "image/png": "[encoded data removed]"
          },
          "metadata": {}
        }
      ]
    },
    {
      "cell_type": "markdown",
      "source": [
        "#### 10. Fine-tuning\n"
      ],
      "metadata": {
        "id": "n-ee6QVhgtpb"
      }
    },
    {
      "cell_type": "code",
      "source": [
        "from sklearn.model_selection import GridSearchCV\n",
        "\n",
        "# Define the parameter grid for Random Forest\n",
        "param_grid = {\n",
        "    'n_estimators': [50, 100, 150],  # Number of trees in the forest\n",
        "    'max_depth': [2, 5, 10],     # Maximum depth of the trees\n",
        "    'min_samples_split': [5, 10, 15], # Minimum number of samples required to split an internal node\n",
        "}\n",
        "\n",
        "# Initialize the Random Forest Classifier\n",
        "rf_classifier = RandomForestClassifier(random_state=42)\n",
        "\n",
        "# Perform GridSearchCV to find the best hyperparameters\n",
        "grid_search = GridSearchCV(estimator=rf_classifier, param_grid=param_grid,\n",
        "                          cv=5, scoring='f1', n_jobs=-1) # Use 5-fold cross-validation and F1 score\n",
        "\n",
        "grid_search.fit(training_predictors_scaled, training_ds['Bonus'])\n",
        "\n",
        "# Get the best hyperparameters and the best model\n",
        "best_params = grid_search.best_params_\n",
        "best_rf_model = grid_search.best_estimator_\n",
        "\n",
        "print(\"Best Hyperparameters:\", best_params)\n",
        "\n",
        "# Evaluate the best model on the validation set\n",
        "best_rf_predictions = best_rf_model.predict(validation_predictors_scaled)\n",
        "\n",
        "best_rf_acc = accuracy_score(best_rf_predictions, validation_set['Bonus'])\n",
        "best_rf_pre = precision_score(best_rf_predictions, validation_set['Bonus'])\n",
        "best_rf_rec = recall_score(best_rf_predictions, validation_set['Bonus'])\n",
        "best_rf_f1 = f1_score(best_rf_predictions, validation_set['Bonus'])\n",
        "\n",
        "print('Fine-tuned Random Forest Model Accuracy: %.4f \\n' % round(best_rf_acc, 4),\n",
        "      'Fine-tuned Random Forest Model Precision: %.4f \\n' % round(best_rf_pre, 4),\n",
        "      'Fine-tuned Random Forest Model Recall: %.4f \\n' % round(best_rf_rec, 4),\n",
        "      'Fine-tuned Random Forest Model F1 Score: %.4f \\n' % round(best_rf_f1, 4))"
      ],
      "metadata": {
        "colab": {
          "base_uri": "https://localhost:8080/"
        },
        "id": "rhwE-x_0hi6K",
        "outputId": "c3e15692-c02f-4ce2-8152-20adcb9a16cf"
      },
      "execution_count": null,
      "outputs": [
        {
          "output_type": "stream",
          "name": "stdout",
          "text": [
            "Best Hyperparameters: {'max_depth': 2, 'min_samples_split': 5, 'n_estimators': 50}\n",
            "Fine-tuned Random Forest Model Accuracy: 0.6788 \n",
            " Fine-tuned Random Forest Model Precision: 0.8700 \n",
            " Fine-tuned Random Forest Model Recall: 0.3947 \n",
            " Fine-tuned Random Forest Model F1 Score: 0.5431 \n",
            "\n"
          ]
        }
      ]
    },
    {
      "cell_type": "markdown",
      "source": [
        "* Now, let's compare the performance of the fine-tuned model and the original random forest classifier on the test set."
      ],
      "metadata": {
        "id": "5qUDDnonkYyK"
      }
    },
    {
      "cell_type": "code",
      "source": [
        "# Evaluate the original Random Forest model on the test set\n",
        "rf_classifier = RandomForestClassifier(random_state=42, n_jobs = 4)\n",
        "rf_classifier.fit(training_predictors_scaled, training_ds['Bonus'])\n",
        "rf_test_predictions = rf_classifier.predict(test_predictors_scaled)\n",
        "\n",
        "rf_test_acc = accuracy_score(rf_test_predictions, test_set['Bonus'])\n",
        "rf_test_pre = precision_score(rf_test_predictions, test_set['Bonus'])\n",
        "rf_test_rec = recall_score(rf_test_predictions, test_set['Bonus'])\n",
        "rf_test_f1 = f1_score(rf_test_predictions, test_set['Bonus'])\n",
        "\n",
        "print('Original Random Forest Model (Test Set):')\n",
        "print('Accuracy: %.4f' % rf_test_acc)\n",
        "print('Precision: %.4f' % rf_test_pre)\n",
        "print('Recall: %.4f' % rf_test_rec)\n",
        "print('F1 Score: %.4f' % rf_test_f1)\n",
        "\n",
        "\n",
        "# Evaluate the fine-tuned Random Forest (best_rf) model on the test set\n",
        "best_rf_test_predictions = best_rf_model.predict(test_predictors_scaled)\n",
        "\n",
        "best_rf_test_acc = accuracy_score(best_rf_test_predictions, test_set['Bonus'])\n",
        "best_rf_test_pre = precision_score(best_rf_test_predictions, test_set['Bonus'])\n",
        "best_rf_test_rec = recall_score(best_rf_test_predictions, test_set['Bonus'])\n",
        "best_rf_test_f1 = f1_score(best_rf_test_predictions, test_set['Bonus'])\n",
        "\n",
        "print('\\nFine-tuned Random Forest Model (Test Set):')\n",
        "print('Accuracy: %.4f' % best_rf_test_acc)\n",
        "print('Precision: %.4f' % best_rf_test_pre)\n",
        "print('Recall: %.4f' % best_rf_test_rec)\n",
        "print('F1 Score: %.4f' % best_rf_test_f1)"
      ],
      "metadata": {
        "colab": {
          "base_uri": "https://localhost:8080/"
        },
        "id": "36yyf4xOkYW7",
        "outputId": "80ab9053-b0f5-48e3-c1c1-1b4fb4096a92"
      },
      "execution_count": null,
      "outputs": [
        {
          "output_type": "stream",
          "name": "stdout",
          "text": [
            "Original Random Forest Model (Test Set):\n",
            "Accuracy: 0.6768\n",
            "Precision: 0.7236\n",
            "Recall: 0.3781\n",
            "F1 Score: 0.4966\n",
            "\n",
            "Fine-tuned Random Forest Model (Test Set):\n",
            "Accuracy: 0.6612\n",
            "Precision: 0.8547\n",
            "Recall: 0.3804\n",
            "F1 Score: 0.5265\n"
          ]
        }
      ]
    },
    {
      "cell_type": "code",
      "source": [
        "# Compare the two models' performance using the confusion matrix\n",
        "rf_cm = confusion_matrix(test_set['Bonus'], rf_test_predictions)\n",
        "best_rf_cm = confusion_matrix(test_set['Bonus'], best_rf_test_predictions)\n",
        "\n",
        "print('Original Random Forest Model Confusion Matrix:')\n",
        "print(rf_cm)\n",
        "\n",
        "print('\\nFine-tuned Random Forest Model Confusion Matrix:')\n",
        "print(best_rf_cm)"
      ],
      "metadata": {
        "colab": {
          "base_uri": "https://localhost:8080/"
        },
        "id": "eVsmEC1HpsG3",
        "outputId": "53d746dd-845c-4ead-f13d-93438c0e8373"
      },
      "execution_count": null,
      "outputs": [
        {
          "output_type": "stream",
          "name": "stdout",
          "text": [
            "Original Random Forest Model Confusion Matrix:\n",
            "[[4443 2252]\n",
            " [ 523 1369]]\n",
            "\n",
            "Fine-tuned Random Forest Model Confusion Matrix:\n",
            "[[4061 2634]\n",
            " [ 275 1617]]\n"
          ]
        }
      ]
    },
    {
      "cell_type": "markdown",
      "source": [
        "* Is the fine-tuning effective?\n",
        "* Why does the `best_rf` model has a lower accuracy but a higher F1 score?"
      ],
      "metadata": {
        "id": "g3eyso1zqMNT"
      }
    },
    {
      "cell_type": "code",
      "source": [
        "# Compare their performance using the AUC curve.\n",
        "# Predict probabilities for the validation set for each model\n",
        "best_rf_probs = best_rf_model.predict_proba(test_predictors_scaled)[:, 1]\n",
        "\n",
        "# Calculate ROC curves and AUC scores\n",
        "best_rf_fpr, best_rf_tpr, _ = roc_curve(test_set['Bonus'], best_rf_probs)\n",
        "best_rf_roc_auc = auc(xgb_fpr, xgb_tpr)\n",
        "\n",
        "# Plot ROC curves\n",
        "plt.figure(figsize=(10, 8))\n",
        "plt.plot(rf_fpr, rf_tpr, color='blue', lw=2, label='Random Forest (AUC = %0.2f)' % rf_roc_auc)\n",
        "plt.plot(best_rf_fpr, best_rf_tpr, color='red', lw=2, label='Best Random Forest (AUC = %0.2f)' % best_rf_roc_auc)\n",
        "\n",
        "plt.plot([0, 1], [0, 1], color='navy', lw=2, linestyle='--')\n",
        "plt.xlim([0.0, 1.0])\n",
        "plt.ylim([0.0, 1.05])\n",
        "plt.xlabel('False Positive Rate')\n",
        "plt.ylabel('True Positive Rate')\n",
        "plt.title('Receiver Operating Characteristic (ROC) Curves')\n",
        "plt.legend(loc=\"lower right\")\n",
        "plt.show()"
      ],
      "metadata": {
        "colab": {
          "base_uri": "https://localhost:8080/",
          "height": 718
        },
        "id": "KH1fvCg5kuzj",
        "outputId": "807f0960-7dc9-48f8-de2d-7bec6ba1f4dc"
      },
      "execution_count": null,
      "outputs": [
        {
          "output_type": "display_data",
          "data": {
            "text/plain": [
              "<Figure size 1000x800 with 1 Axes>"
            ],
            "image/png": "[encoded data removed]"
          },
          "metadata": {}
        }
      ]
    }
  ]
}