{
  "cells": [
    {
      "cell_type": "markdown",
      "metadata": {
        "id": "view-in-github",
        "colab_type": "text"
      },
      "source": [
        "<a href=\"https://colab.research.google.com/github/SarathSabu/Python-Notebooks/blob/main/Scheduling_Sports_Equipment_Production.ipynb\" target=\"_parent\"><img src=\"https://colab.research.google.com/assets/colab-badge.svg\" alt=\"Open In Colab\"/></a>"
      ]
    },
    {
      "cell_type": "markdown",
      "source": [
        "\n",
        "## Scheduling Sports Equipment Production\n"
      ],
      "metadata": {
        "id": "StdjZOILroyz"
      }
    },
    {
      "cell_type": "markdown",
      "metadata": {
        "id": "7o0PxXyYKwc5"
      },
      "source": [
        "Install amplpy, pandas and other packages."
      ]
    },
    {
      "cell_type": "code",
      "execution_count": null,
      "metadata": {
        "id": "G004pZj1XA_0"
      },
      "outputs": [],
      "source": [
        "!pip install -q amplpy ampltools"
      ]
    },
    {
      "cell_type": "markdown",
      "source": [
        "Setup AMPL and select solvers."
      ],
      "metadata": {
        "id": "G42yc42srDoN"
      }
    },
    {
      "cell_type": "code",
      "execution_count": null,
      "metadata": {
        "id": "bY6nMq3DXIQ9",
        "colab": {
          "base_uri": "https://localhost:8080/"
        },
        "outputId": "8a82a57a-9959-48a8-aa79-30df1d1784a3"
      },
      "outputs": [
        {
          "output_type": "stream",
          "name": "stdout",
          "text": [
            "Licensed to Bundle #6741.7193 expiring 20241231: INFO 645 Prescriptive Analytics, Prof. Paul Brooks, Virginia Commonwealth University.\n"
          ]
        }
      ],
      "source": [
        "# Google Colab & AMPL integration\n",
        "MODULES, LICENSE_UUID = [\"coin\", 'gurobi', \"cplex\", \"highs\", \"gokestrel\"], \"42fc7eb6-69aa-445d-b655-3ad24d836541\"\n",
        "from amplpy import tools\n",
        "from ampltools import cloud_platform_name, ampl_notebook, register_magics\n",
        "\n",
        "# instantiate AMPL object and register magics\n",
        "if cloud_platform_name() is None:\n",
        "    ampl = AMPL() # Use local installation of AMPL\n",
        "else:\n",
        "    ampl = tools.ampl_notebook(modules=MODULES, license_uuid=LICENSE_UUID, g=globals())\n",
        "\n",
        "register_magics(ampl_object=ampl)"
      ]
    },
    {
      "cell_type": "markdown",
      "source": [
        "Mount Google Drive"
      ],
      "metadata": {
        "id": "Cz7x5HAtdnxN"
      }
    },
    {
      "cell_type": "code",
      "source": [
        "from google.colab import drive\n",
        "drive.mount('/content/drive')"
      ],
      "metadata": {
        "id": "gOWGyl1YxX9F",
        "colab": {
          "base_uri": "https://localhost:8080/"
        },
        "outputId": "79d6111e-5b73-4d17-8283-674905e44eee"
      },
      "execution_count": null,
      "outputs": [
        {
          "output_type": "stream",
          "name": "stdout",
          "text": [
            "Drive already mounted at /content/drive; to attempt to forcibly remount, call drive.mount(\"/content/drive\", force_remount=True).\n"
          ]
        }
      ]
    },
    {
      "cell_type": "markdown",
      "source": [
        "Read data"
      ],
      "metadata": {
        "id": "_CNPjPv4wPfI"
      }
    },
    {
      "cell_type": "code",
      "source": [
        "import pandas as pd\n",
        "\n",
        "# Load the Demand Data\n",
        "demand_data = pd.read_excel('/content/drive/MyDrive/Colab Notebooks/Brendamore_separated_sheets.xlsx',\n",
        "                            sheet_name=\"Demand\", index_col=0)\n",
        "\n",
        "# Load the Production Costs Data\n",
        "production_costs_data = pd.read_excel('/content/drive/MyDrive/Colab Notebooks/Brendamore_separated_sheets.xlsx',\n",
        "                                      sheet_name=\"Production Costs\", index_col=0)\n",
        "\n",
        "# Load the Holding Costs Data\n",
        "holding_costs_data = pd.read_excel('/content/drive/MyDrive/Colab Notebooks/Brendamore_separated_sheets.xlsx',\n",
        "                                   sheet_name=\"Holding Costs\", index_col=0)\n",
        "\n",
        "# Define sets\n",
        "M = list(demand_data.index)\n",
        "B = list(production_costs_data.columns) # Get the column names from the production_costs_data DataFrame\n",
        "\n",
        "# Convert demand, production cost, and holding cost data into dictionaries for easy access\n",
        "demand_ampl = {(i, j): demand_data.loc[j, i] for i in B for j in M}\n",
        "production_cost_ampl = {(i, j): production_costs_data.loc[j, i] for i in B for j in M}\n",
        "holding_cost_ampl = {(i, j): holding_costs_data.loc[j, i] for i in B for j in M}\n",
        "\n",
        "# Define initial inventory, final inventory, production capacity, and inventory capacity\n",
        "initial_inventory = {B[0]: 7000, B[1]: 5000} # Use B[0] and B[1] to access the correct keys\n",
        "final_inventory = {B[0]: 3000, B[1]: 3000}   # Use B[0] and B[1] to access the correct keys\n",
        "production_capacity = 32000\n",
        "inventory_capacity = 20000\n",
        "\n",
        "# Print the loaded data to verify\n",
        "print(\"Months:\", M)\n",
        "print(\"Demand (AMPL format):\", demand_ampl)\n",
        "print(\"Production Cost (AMPL format):\", production_cost_ampl)\n",
        "print(\"Holding Cost (AMPL format):\", holding_cost_ampl)\n",
        "print(\"Initial Inventory:\", initial_inventory)\n",
        "print(\"Final Inventory:\", final_inventory)"
      ],
      "metadata": {
        "id": "WrlhbsuRwRAb",
        "colab": {
          "base_uri": "https://localhost:8080/"
        },
        "outputId": "5b68b445-d5ed-472e-fca3-45d7f7015315"
      },
      "execution_count": null,
      "outputs": [
        {
          "output_type": "stream",
          "name": "stdout",
          "text": [
            "Months: [1, 2, 3, 4, 5, 6]\n",
            "Demand (AMPL format): {('footballs', 1): 15000, ('footballs', 2): 25000, ('footballs', 3): 20000, ('footballs', 4): 5000, ('footballs', 5): 2500, ('footballs', 6): 5000, ('soccer balls', 1): 10000, ('soccer balls', 2): 15000, ('soccer balls', 3): 10000, ('soccer balls', 4): 5000, ('soccer balls', 5): 5000, ('soccer balls', 6): 7500}\n",
            "Production Cost (AMPL format): {('footballs', 1): 13.8, ('footballs', 2): 13.9, ('footballs', 3): 12.95, ('footballs', 4): 12.6, ('footballs', 5): 12.55, ('footballs', 6): 12.7, ('soccer balls', 1): 10.85, ('soccer balls', 2): 10.55, ('soccer balls', 3): 10.5, ('soccer balls', 4): 10.5, ('soccer balls', 5): 10.55, ('soccer balls', 6): 10.0}\n",
            "Holding Cost (AMPL format): {('footballs', 1): 0.6900000000000001, ('footballs', 2): 0.6950000000000001, ('footballs', 3): 0.6475, ('footballs', 4): 0.63, ('footballs', 5): 0.6275000000000001, ('footballs', 6): 0.635, ('soccer balls', 1): 0.5425, ('soccer balls', 2): 0.5275000000000001, ('soccer balls', 3): 0.525, ('soccer balls', 4): 0.525, ('soccer balls', 5): 0.5275000000000001, ('soccer balls', 6): 0.5}\n",
            "Initial Inventory: {'footballs': 7000, 'soccer balls': 5000}\n",
            "Final Inventory: {'footballs': 3000, 'soccer balls': 3000}\n"
          ]
        }
      ]
    },
    {
      "cell_type": "markdown",
      "metadata": {
        "id": "X3bxNt92KSGe"
      },
      "source": [
        "\n",
        "Define model."
      ]
    },
    {
      "cell_type": "code",
      "execution_count": null,
      "metadata": {
        "id": "J7BsV3J5YUid"
      },
      "outputs": [],
      "source": [
        "ampl.eval('''\n",
        "\n",
        "reset;\n",
        "\n",
        "# Define sets for months and products\n",
        "set M;          # Months {1, 2, 3, 4, 5, 6}\n",
        "set B;          # Products {footballs, soccer balls}\n",
        "set Mplus0;  # Add month 0 to handle initial inventory\n",
        "\n",
        "# Parameters\n",
        "param Demand {i in B, j in M};           # Demand for product i in month j\n",
        "param Production_cost {i in B, j in M};  # Production cost of product i in month j\n",
        "param Holding_cost {i in B, j in M};     # Holding cost of product i in month j\n",
        "param initial_inventory {i in B};   # Initial inventory for product i\n",
        "param final_inventory {i in B};     # Final required inventory for product i at the end of month 6\n",
        "param production_capacity;     # Maximum total production in a month (32,000)\n",
        "param inventory_capacity;      # Maximum total inventory at the end of the month (20,000)\n",
        "\n",
        "# Decision Variables\n",
        "var x {i in B, j in M} >= 0;             # Number of product i to produce in month j\n",
        "var z {i in B, j in Mplus0} >= 0;        # Inventory of product i at the end of month j\n",
        "\n",
        "# Objective: Minimize total cost (production cost + holding cost)\n",
        "minimize Total_Cost:\n",
        "    sum {i in B, j in M}\n",
        "        (Production_cost[i,j] * x[i,j] + Holding_cost[i,j] * z[i,j]);\n",
        "\n",
        "# Constraints\n",
        "\n",
        "# Inventory balance: Inventory at the end of the previous month + production must meet demand\n",
        "subject to Inventory_Balance {i in B, j in M}:\n",
        "    z[i,j-1] + x[i,j] - Demand[i,j] = z[i,j];\n",
        "\n",
        "# Production capacity: At most 32,000 units (footballs + soccer balls) can be produced in a month\n",
        "subject to Production_Capacity {j in M}:\n",
        "    sum {i in B} x[i,j] <= production_capacity;\n",
        "\n",
        "# Inventory capacity: At most 20,000 units can be stored at the end of any month\n",
        "subject to Inventory_Capacity {j in M}:\n",
        "    sum {i in B} z[i,j] <= inventory_capacity;\n",
        "\n",
        "# Initial inventory constraints\n",
        "subject to Initial_Inventory {i in B}:\n",
        "    z[i,0] = initial_inventory[i];\n",
        "\n",
        "# Final inventory constraints (end of month 6)\n",
        "subject to Final_Inventory {i in B}:\n",
        "    z[i,6] = final_inventory[i];\n",
        "\n",
        "''')\n"
      ]
    },
    {
      "cell_type": "markdown",
      "source": [
        "Provide data to the model."
      ],
      "metadata": {
        "id": "RqFoAqQ7joRa"
      }
    },
    {
      "cell_type": "code",
      "source": [
        "# Assign sets to AMPL\n",
        "ampl.set['M'] = M\n",
        "ampl.set['B'] = B\n",
        "Mplus0 = [0] + M  # Define Mplus0 by adding 0 to M\n",
        "ampl.set['Mplus0'] = Mplus0\n",
        "\n",
        "# Assign parameters to AMPL\n",
        "ampl.param['Demand'] = demand_ampl\n",
        "ampl.param['Production_cost'] = production_cost_ampl\n",
        "ampl.param['Holding_cost'] = holding_cost_ampl\n",
        "ampl.param['initial_inventory'] = initial_inventory\n",
        "ampl.param['final_inventory'] = final_inventory\n",
        "ampl.param['production_capacity'] = production_capacity\n",
        "ampl.param['inventory_capacity'] = inventory_capacity\n"
      ],
      "metadata": {
        "id": "JIQOq8TzCeZD"
      },
      "execution_count": null,
      "outputs": []
    },
    {
      "cell_type": "markdown",
      "source": [
        "Display problem formulation."
      ],
      "metadata": {
        "id": "V_j5u7b8BkNk"
      }
    },
    {
      "cell_type": "code",
      "source": [
        "ampl.eval('''expand;''')\n",
        "# ampl.eval('''expand x;''')\n",
        "# ampl.eval('''expand z;''')"
      ],
      "metadata": {
        "id": "2PJurB0O7K5l",
        "colab": {
          "base_uri": "https://localhost:8080/"
        },
        "outputId": "d10919ac-36df-4496-b9f3-eeb9063bdcaa"
      },
      "execution_count": null,
      "outputs": [
        {
          "output_type": "stream",
          "name": "stdout",
          "text": [
            "minimize Total_Cost:\n",
            "\t13.8*x['footballs',1] + 13.9*x['footballs',2] + 12.95*x['footballs',3]\n",
            "\t + 12.6*x['footballs',4] + 12.55*x['footballs',5] + \n",
            "\t12.7*x['footballs',6] + 10.85*x['soccer balls',1] + \n",
            "\t10.55*x['soccer balls',2] + 10.5*x['soccer balls',3] + \n",
            "\t10.5*x['soccer balls',4] + 10.55*x['soccer balls',5] + \n",
            "\t10*x['soccer balls',6] + 0.69*z['footballs',1] + 0.695*z['footballs',2]\n",
            "\t + 0.6475*z['footballs',3] + 0.63*z['footballs',4] + \n",
            "\t0.6275*z['footballs',5] + 0.635*z['footballs',6] + \n",
            "\t0.5425*z['soccer balls',1] + 0.5275*z['soccer balls',2] + \n",
            "\t0.525*z['soccer balls',3] + 0.525*z['soccer balls',4] + \n",
            "\t0.5275*z['soccer balls',5] + 0.5*z['soccer balls',6];\n",
            "\n",
            "subject to Inventory_Balance['footballs',1]:\n",
            "\tx['footballs',1] + z['footballs',0] - z['footballs',1] = 15000;\n",
            "\n",
            "subject to Inventory_Balance['footballs',2]:\n",
            "\tx['footballs',2] + z['footballs',1] - z['footballs',2] = 25000;\n",
            "\n",
            "subject to Inventory_Balance['footballs',3]:\n",
            "\tx['footballs',3] + z['footballs',2] - z['footballs',3] = 20000;\n",
            "\n",
            "subject to Inventory_Balance['footballs',4]:\n",
            "\tx['footballs',4] + z['footballs',3] - z['footballs',4] = 5000;\n",
            "\n",
            "subject to Inventory_Balance['footballs',5]:\n",
            "\tx['footballs',5] + z['footballs',4] - z['footballs',5] = 2500;\n",
            "\n",
            "subject to Inventory_Balance['footballs',6]:\n",
            "\tx['footballs',6] + z['footballs',5] - z['footballs',6] = 5000;\n",
            "\n",
            "subject to Inventory_Balance['soccer balls',1]:\n",
            "\tx['soccer balls',1] + z['soccer balls',0] - z['soccer balls',1] = \n",
            "\t10000;\n",
            "\n",
            "subject to Inventory_Balance['soccer balls',2]:\n",
            "\tx['soccer balls',2] + z['soccer balls',1] - z['soccer balls',2] = \n",
            "\t15000;\n",
            "\n",
            "subject to Inventory_Balance['soccer balls',3]:\n",
            "\tx['soccer balls',3] + z['soccer balls',2] - z['soccer balls',3] = \n",
            "\t10000;\n",
            "\n",
            "subject to Inventory_Balance['soccer balls',4]:\n",
            "\tx['soccer balls',4] + z['soccer balls',3] - z['soccer balls',4] = 5000;\n",
            "\n",
            "subject to Inventory_Balance['soccer balls',5]:\n",
            "\tx['soccer balls',5] + z['soccer balls',4] - z['soccer balls',5] = 5000;\n",
            "\n",
            "subject to Inventory_Balance['soccer balls',6]:\n",
            "\tx['soccer balls',6] + z['soccer balls',5] - z['soccer balls',6] = 7500;\n",
            "\n",
            "subject to Production_Capacity[1]:\n",
            "\tx['footballs',1] + x['soccer balls',1] <= 32000;\n",
            "\n",
            "subject to Production_Capacity[2]:\n",
            "\tx['footballs',2] + x['soccer balls',2] <= 32000;\n",
            "\n",
            "subject to Production_Capacity[3]:\n",
            "\tx['footballs',3] + x['soccer balls',3] <= 32000;\n",
            "\n",
            "subject to Production_Capacity[4]:\n",
            "\tx['footballs',4] + x['soccer balls',4] <= 32000;\n",
            "\n",
            "subject to Production_Capacity[5]:\n",
            "\tx['footballs',5] + x['soccer balls',5] <= 32000;\n",
            "\n",
            "subject to Production_Capacity[6]:\n",
            "\tx['footballs',6] + x['soccer balls',6] <= 32000;\n",
            "\n",
            "subject to Inventory_Capacity[1]:\n",
            "\tz['footballs',1] + z['soccer balls',1] <= 20000;\n",
            "\n",
            "subject to Inventory_Capacity[2]:\n",
            "\tz['footballs',2] + z['soccer balls',2] <= 20000;\n",
            "\n",
            "subject to Inventory_Capacity[3]:\n",
            "\tz['footballs',3] + z['soccer balls',3] <= 20000;\n",
            "\n",
            "subject to Inventory_Capacity[4]:\n",
            "\tz['footballs',4] + z['soccer balls',4] <= 20000;\n",
            "\n",
            "subject to Inventory_Capacity[5]:\n",
            "\tz['footballs',5] + z['soccer balls',5] <= 20000;\n",
            "\n",
            "subject to Inventory_Capacity[6]:\n",
            "\tz['footballs',6] + z['soccer balls',6] <= 20000;\n",
            "\n",
            "subject to Initial_Inventory['footballs']:\n",
            "\tz['footballs',0] = 7000;\n",
            "\n",
            "subject to Initial_Inventory['soccer balls']:\n",
            "\tz['soccer balls',0] = 5000;\n",
            "\n",
            "subject to Final_Inventory['footballs']:\n",
            "\tz['footballs',6] = 3000;\n",
            "\n",
            "subject to Final_Inventory['soccer balls']:\n",
            "\tz['soccer balls',6] = 3000;\n",
            "\n"
          ]
        }
      ]
    },
    {
      "cell_type": "markdown",
      "source": [
        "Set solver and solve."
      ],
      "metadata": {
        "id": "Fx_sqpPYBevu"
      }
    },
    {
      "cell_type": "code",
      "source": [
        "ampl.setOption('solver', 'cplex')\n",
        "ampl.solve()"
      ],
      "metadata": {
        "id": "xlqpM_cq6HT5",
        "colab": {
          "base_uri": "https://localhost:8080/"
        },
        "outputId": "3b984156-8b4f-489b-9033-fe76c4e99ef1"
      },
      "execution_count": null,
      "outputs": [
        {
          "output_type": "stream",
          "name": "stdout",
          "text": [
            "CPLEX 22.1.1:  - Version identifier: 22.1.1.0 | 2022-11-28 | 9160aff4d\n",
            " - CPXPARAM_Simplex_Display                         0\n",
            " - CPXPARAM_MIP_Display                             0\n",
            " - CPXPARAM_Barrier_Display                         0\n",
            "\b\b\b\b\b\b\b\b\b\b\b\b\b\bCPLEX 22.1.1: optimal solution; objective 1448750\n",
            "12 simplex iterations\n"
          ]
        }
      ]
    },
    {
      "cell_type": "markdown",
      "source": [
        "Print solution and results."
      ],
      "metadata": {
        "id": "OMMsJvISBs2g"
      }
    },
    {
      "cell_type": "code",
      "execution_count": null,
      "metadata": {
        "id": "4wnRfyDmKSGi",
        "colab": {
          "base_uri": "https://localhost:8080/"
        },
        "outputId": "392b70b5-9467-4873-c0d8-f22fef5c015a"
      },
      "outputs": [
        {
          "output_type": "stream",
          "name": "stdout",
          "text": [
            "\n",
            "\n",
            "Total cost is:  1448750.0 \n",
            "\n",
            "Units Produced:\n",
            "x :=\n",
            "footballs      1   16000\n",
            "footballs      2   17000\n",
            "footballs      3   20000\n",
            "footballs      4    5000\n",
            "footballs      5    2500\n",
            "footballs      6    8000\n",
            "'soccer balls' 1    5000\n",
            "'soccer balls' 2   15000\n",
            "'soccer balls' 3   10000\n",
            "'soccer balls' 4    5000\n",
            "'soccer balls' 5    5000\n",
            "'soccer balls' 6   10500\n",
            ";\n",
            "\n",
            "\n",
            "Inventory Levels at the end of each month:\n",
            "z :=\n",
            "footballs      0   7000\n",
            "footballs      1   8000\n",
            "footballs      2      0\n",
            "footballs      3      0\n",
            "footballs      4      0\n",
            "footballs      5      0\n",
            "footballs      6   3000\n",
            "'soccer balls' 0   5000\n",
            "'soccer balls' 1      0\n",
            "'soccer balls' 2      0\n",
            "'soccer balls' 3      0\n",
            "'soccer balls' 4      0\n",
            "'soccer balls' 5      0\n",
            "'soccer balls' 6   3000\n",
            ";\n",
            "\n"
          ]
        }
      ],
      "source": [
        "# Print the total minimized cost\n",
        "obj = ampl.getObjective('Total_Cost')\n",
        "print(\"\\n\")\n",
        "print(\"Total cost is: \", obj.get().value(), \"\\n\")\n",
        "\n",
        "# Print the units produced for each product in each month\n",
        "print(\"Units Produced:\")\n",
        "ampl.display('x')\n",
        "\n",
        "# Print the inventory levels for each product at the end of each month\n",
        "print(\"\\nInventory Levels at the end of each month:\")\n",
        "ampl.display('z')\n"
      ]
    },
    {
      "cell_type": "markdown",
      "metadata": {
        "id": "ajPh-mPVKSGj"
      },
      "source": [
        "The optimal solution is to minimize the total cost to 1,448,750(in dollars) over the six month planning period. Total production capacity is 1,440,825(in dollars) and a holding cost of 8,940(in dollars). The total production of each type of ball is as given above. The company managed to meet its monthly demand adhering to its production capacity and maintaining inventory levels."
      ]
    },
    {
      "cell_type": "code",
      "source": [],
      "metadata": {
        "id": "R8WL1IxVCyVx"
      },
      "execution_count": null,
      "outputs": []
    }
  ],
  "metadata": {
    "colab": {
      "provenance": [],
      "include_colab_link": true
    },
    "kernelspec": {
      "display_name": "Python 3 (ipykernel)",
      "language": "python",
      "name": "python3"
    },
    "language_info": {
      "codemirror_mode": {
        "name": "ipython",
        "version": 3
      },
      "file_extension": ".py",
      "mimetype": "text/x-python",
      "name": "python",
      "nbconvert_exporter": "python",
      "pygments_lexer": "ipython3",
      "version": "3.9.13"
    }
  },
  "nbformat": 4,
  "nbformat_minor": 0
}