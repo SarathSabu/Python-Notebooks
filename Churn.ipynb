{
  "nbformat": 4,
  "nbformat_minor": 0,
  "metadata": {
    "colab": {
      "provenance": [],
      "private_outputs": true,
      "include_colab_link": true
    },
    "kernelspec": {
      "name": "python3",
      "display_name": "Python 3"
    },
    "language_info": {
      "name": "python"
    }
  },
  "cells": [
    {
      "cell_type": "markdown",
      "metadata": {
        "id": "view-in-github",
        "colab_type": "text"
      },
      "source": [
        "<a href=\"https://colab.research.google.com/github/SarathSabu/Python-Notebooks/blob/main/Churn.ipynb\" target=\"_parent\"><img src=\"https://colab.research.google.com/assets/colab-badge.svg\" alt=\"Open In Colab\"/></a>"
      ]
    },
    {
      "cell_type": "code",
      "execution_count": null,
      "metadata": {
        "id": "3mB_FhspVcmc"
      },
      "outputs": [],
      "source": [
        "import pandas as pd\n",
        "import numpy as np\n",
        "from numpy import array\n",
        "from numpy.linalg import norm\n",
        "import os"
      ]
    },
    {
      "cell_type": "code",
      "source": [
        "from google.colab import drive\n",
        "drive.mount('/content/drive')\n"
      ],
      "metadata": {
        "id": "lhUx4AjfHCVI"
      },
      "execution_count": null,
      "outputs": []
    },
    {
      "cell_type": "code",
      "source": [
        "!ls /content/drive/MyDrive/"
      ],
      "metadata": {
        "id": "2RO-3rIUMyRu"
      },
      "execution_count": null,
      "outputs": []
    },
    {
      "cell_type": "code",
      "source": [
        "!ls /content/drive/MyDrive/Infor648"
      ],
      "metadata": {
        "id": "_a61QUXGvTGG"
      },
      "execution_count": null,
      "outputs": []
    },
    {
      "cell_type": "code",
      "source": [
        "folder_path = '/content/drive/MyDrive/Infor648/Data'\n",
        "\n",
        "files = os.listdir(folder_path)\n",
        "print(files)\n"
      ],
      "metadata": {
        "id": "yvXHjhtcMAl2"
      },
      "execution_count": null,
      "outputs": []
    },
    {
      "cell_type": "code",
      "execution_count": null,
      "metadata": {
        "id": "S9jlQ-Nz93Mx"
      },
      "outputs": [],
      "source": [
        "file_path = '/content/drive/MyDrive/Infor648/Data/churn.csv'\n",
        "\n",
        "df = pd.read_csv(file_path)\n",
        "\n",
        "df.head(10)\n"
      ]
    },
    {
      "cell_type": "code",
      "source": [
        "df.describe()"
      ],
      "metadata": {
        "id": "ZNa-2DjlBjfO"
      },
      "execution_count": null,
      "outputs": []
    },
    {
      "cell_type": "code",
      "source": [
        "df.loc[df['Customer ID']=='0015-UOCOJ']"
      ],
      "metadata": {
        "id": "l7xtMufQOr5F"
      },
      "execution_count": null,
      "outputs": []
    },
    {
      "cell_type": "code",
      "source": [
        "df.loc[df['Customer ID']=='0013-SMEOE']"
      ],
      "metadata": {
        "id": "H51eGzqVN60Y"
      },
      "execution_count": null,
      "outputs": []
    },
    {
      "cell_type": "code",
      "source": [
        "df[['Total Charges', 'Total Refunds', 'Total Revenue']].loc[df['Customer ID'].isin(['0015-UOCOJ', '0013-SMEOE'])]"
      ],
      "metadata": {
        "id": "coQW2SJGPMPk"
      },
      "execution_count": null,
      "outputs": []
    },
    {
      "cell_type": "markdown",
      "source": [
        "#Euclidean Distance\n",
        "$$\n",
        "d(\\mathbf{x}, \\mathbf{y}) = \\sqrt{\\sum_{k=1}^{n} (x_k - y_k)^2}\n",
        "$$\n"
      ],
      "metadata": {
        "id": "TQ7nrc1KR7OA"
      }
    },
    {
      "cell_type": "code",
      "source": [
        "# Euclidean distance\n",
        "x = df[['Total Charges', 'Total Refunds', 'Total Revenue' ] ].loc[df['Customer ID']=='0015-UOCOJ']\n",
        "y = df[['Total Charges', 'Total Refunds', 'Total Revenue' ] ].loc[df['Customer ID']=='0013-SMEOE']\n",
        "\n",
        "x = np.squeeze(np.asarray(x))\n",
        "y = np.squeeze(np.asarray(y))\n",
        "\n",
        "display(x)\n",
        "display(y)\n",
        "\n",
        "\n",
        "distance = norm(x-y)\n",
        "print(\"Euclidean distance:\", distance)"
      ],
      "metadata": {
        "id": "NqH4gMvAQeW2"
      },
      "execution_count": null,
      "outputs": []
    },
    {
      "cell_type": "markdown",
      "source": [
        "#Cosine Similarity\n",
        "$$\\cos(d_1, d_2) = \\frac{\\langle \\mathbf{d}_1, \\mathbf{d}_2 \\rangle}{\\|\\mathbf{d}_1\\| \\times \\|\\mathbf{d}_2\\|}$$\n"
      ],
      "metadata": {
        "id": "ruypvt0fXRVe"
      }
    },
    {
      "cell_type": "code",
      "source": [
        "# Cosine similarity\n",
        "from numpy import dot\n",
        "\n",
        "cos_sim = dot(x,y)/(norm(x)*norm(y))\n",
        "\n",
        "print(\"Cosine similarity:\", cos_sim)"
      ],
      "metadata": {
        "id": "I8ZNt_LWEXaO"
      },
      "execution_count": null,
      "outputs": []
    },
    {
      "cell_type": "markdown",
      "source": [
        "#Correlation"
      ],
      "metadata": {
        "id": "PmEy23AJXih-"
      }
    },
    {
      "cell_type": "code",
      "source": [
        "correlation = df['Total Charges'].corr(df['Total Revenue'])\n",
        "\n",
        "print(\"Correlation between totalReviews and rating:\", correlation)"
      ],
      "metadata": {
        "id": "uQCin2HyPHVn"
      },
      "execution_count": null,
      "outputs": []
    },
    {
      "cell_type": "code",
      "source": [
        "correlation = df['Total Refunds'].corr(df['Total Revenue'])\n",
        "\n",
        "print(\"Correlation between totalReviews and rating:\", correlation)"
      ],
      "metadata": {
        "id": "ngy0fuvsO-7a"
      },
      "execution_count": null,
      "outputs": []
    }
  ]
}