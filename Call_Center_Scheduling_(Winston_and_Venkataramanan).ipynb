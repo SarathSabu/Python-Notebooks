{
  "cells": [
    {
      "cell_type": "markdown",
      "source": [
        "\n",
        "## Call Center Scheduling\n"
      ],
      "metadata": {
        "id": "StdjZOILroyz"
      }
    },
    {
      "cell_type": "markdown",
      "metadata": {
        "id": "7o0PxXyYKwc5"
      },
      "source": [
        "Install amplpy, pandas and other packages"
      ]
    },
    {
      "cell_type": "code",
      "execution_count": null,
      "metadata": {
        "id": "G004pZj1XA_0",
        "colab": {
          "base_uri": "https://localhost:8080/"
        },
        "outputId": "b6c5d1db-4e01-4c56-ac13-d007927f5ef4"
      },
      "outputs": [
        {
          "output_type": "stream",
          "name": "stdout",
          "text": [
            "\u001b[2K   \u001b[90m━━━━━━━━━━━━━━━━━━━━━━━━━━━━━━━━━━━━━━━━\u001b[0m \u001b[32m5.6/5.6 MB\u001b[0m \u001b[31m30.7 MB/s\u001b[0m eta \u001b[36m0:00:00\u001b[0m\n",
            "\u001b[?25h"
          ]
        }
      ],
      "source": [
        "!pip install -q amplpy ampltools pandas"
      ]
    },
    {
      "cell_type": "markdown",
      "source": [
        "Setup AMPL and select solver model(s)"
      ],
      "metadata": {
        "id": "G42yc42srDoN"
      }
    },
    {
      "cell_type": "code",
      "execution_count": null,
      "metadata": {
        "id": "bY6nMq3DXIQ9",
        "colab": {
          "base_uri": "https://localhost:8080/"
        },
        "outputId": "6580d496-d560-43aa-f01b-2c48160a7873"
      },
      "outputs": [
        {
          "output_type": "stream",
          "name": "stdout",
          "text": [
            "Licensed to Bundle #6741.7193 expiring 20241231: INFO 645 Prescriptive Analytics, Prof. Paul Brooks, Virginia Commonwealth University.\n"
          ]
        }
      ],
      "source": [
        "# Google Colab & AMPL integration\n",
        "MODULES, LICENSE_UUID = [\"coin\", 'gurobi', \"cplex\", \"highs\", \"gokestrel\"], \"42fc7eb6-69aa-445d-b655-3ad24d836541\"\n",
        "from amplpy import tools\n",
        "from ampltools import cloud_platform_name, ampl_notebook, register_magics\n",
        "\n",
        "# instantiate AMPL object and register magics\n",
        "if cloud_platform_name() is None:\n",
        "    ampl = AMPL() # Use local installation of AMPL\n",
        "else:\n",
        "    ampl = tools.ampl_notebook(modules=MODULES, license_uuid=LICENSE_UUID, g=globals())\n",
        "\n",
        "register_magics(ampl_object=ampl)"
      ]
    },
    {
      "cell_type": "markdown",
      "metadata": {
        "id": "aXpG6dCWK6gr"
      },
      "source": [
        "Setup Google Drive. Data files can then be accessed from MyDrive on Google Drive."
      ]
    },
    {
      "cell_type": "code",
      "execution_count": null,
      "metadata": {
        "id": "TMx5bBtoK-g0",
        "colab": {
          "base_uri": "https://localhost:8080/"
        },
        "outputId": "de070128-514f-495b-83e6-ed13bbe6d623"
      },
      "outputs": [
        {
          "output_type": "stream",
          "name": "stdout",
          "text": [
            "Mounted at /content/drive\n"
          ]
        }
      ],
      "source": [
        "from google.colab import drive\n",
        "drive.mount('/content/drive')"
      ]
    },
    {
      "cell_type": "markdown",
      "source": [
        "Import pandas and use it to read data from file.\n",
        "Define data."
      ],
      "metadata": {
        "id": "Cz7x5HAtdnxN"
      }
    },
    {
      "cell_type": "code",
      "source": [
        "import pandas as pd\n",
        "\n",
        "shift_data = pd.read_excel(\"/content/drive/MyDrive/INFO645/worker_input.xlsx\",\n",
        "                       sheet_name=\"Days Off\",\n",
        "                       index_col=0)\n",
        "\n",
        "S = list(shift_data.index)\n",
        "\n",
        "O = shift_data.transpose().to_dict('list')\n",
        "\n",
        "demand_data = pd.read_excel(\"/content/drive/MyDrive/INFO645/worker_input.xlsx\",\n",
        "                       sheet_name=\"Demand\",\n",
        "                       index_col=0)\n",
        "\n",
        "D = list(demand_data.index)\n",
        "demand = dict(zip(D, demand_data.Demand))\n",
        "\n",
        "print(S)\n",
        "print(O)\n",
        "print(D)\n",
        "print(demand)"
      ],
      "metadata": {
        "id": "gOWGyl1YxX9F",
        "colab": {
          "base_uri": "https://localhost:8080/"
        },
        "outputId": "c01e6d61-b681-4e4d-8eb8-61cdec217c59"
      },
      "execution_count": null,
      "outputs": [
        {
          "output_type": "stream",
          "name": "stdout",
          "text": [
            "['Monday', 'Tuesday', 'Wednesday', 'Thursday', 'Friday', 'Saturday', 'Sunday']\n",
            "{'Monday': ['Saturday', 'Sunday'], 'Tuesday': ['Sunday', 'Monday'], 'Wednesday': ['Monday', 'Tuesday'], 'Thursday': ['Tuesday', 'Wednesday'], 'Friday': ['Wednesday', 'Thursday'], 'Saturday': ['Thursday', 'Friday'], 'Sunday': ['Friday', 'Saturday']}\n",
            "['Monday', 'Tuesday', 'Wednesday', 'Thursday', 'Friday', 'Saturday', 'Sunday']\n",
            "{'Monday': 17, 'Tuesday': 13, 'Wednesday': 15, 'Thursday': 19, 'Friday': 14, 'Saturday': 16, 'Sunday': 11}\n"
          ]
        }
      ]
    },
    {
      "cell_type": "markdown",
      "metadata": {
        "id": "X3bxNt92KSGe"
      },
      "source": [
        "\n",
        "Define model."
      ]
    },
    {
      "cell_type": "code",
      "execution_count": null,
      "metadata": {
        "id": "J7BsV3J5YUid"
      },
      "outputs": [],
      "source": [
        "ampl.eval ('''\n",
        "\n",
        "reset;\n",
        "\n",
        "set S;\n",
        "set O{j in S};\n",
        "set D;\n",
        "param demand {i in D} ;\n",
        "\n",
        "var x {j in S} >= 0 integer;\n",
        "\n",
        "minimize workers_objective : sum {j in S} x[j] ;\n",
        "\n",
        "subject to day_constraint {i in D}:\n",
        "   sum {j in S: i not in O[j]} x[j] >= demand[i];\n",
        "\n",
        "''')"
      ]
    },
    {
      "cell_type": "markdown",
      "source": [
        "Provide data to the model."
      ],
      "metadata": {
        "id": "RqFoAqQ7joRa"
      }
    },
    {
      "cell_type": "code",
      "source": [
        "ampl.set['D'] = D\n",
        "ampl.set['S'] = S\n",
        "for j in S:\n",
        "    ampl.set['O'][j] = O[j]\n",
        "\n",
        "ampl.param['demand'] = demand"
      ],
      "metadata": {
        "id": "JIQOq8TzCeZD"
      },
      "execution_count": null,
      "outputs": []
    },
    {
      "cell_type": "markdown",
      "source": [
        "Display problem formulation."
      ],
      "metadata": {
        "id": "V_j5u7b8BkNk"
      }
    },
    {
      "cell_type": "code",
      "source": [
        "ampl.eval('''expand;''')"
      ],
      "metadata": {
        "id": "2PJurB0O7K5l",
        "colab": {
          "base_uri": "https://localhost:8080/"
        },
        "outputId": "11d86c00-f822-4879-fd11-24e2d20886a6"
      },
      "execution_count": null,
      "outputs": [
        {
          "output_type": "stream",
          "name": "stdout",
          "text": [
            "minimize workers_objective:\n",
            "\tx['Monday'] + x['Tuesday'] + x['Wednesday'] + x['Thursday'] + \n",
            "\tx['Friday'] + x['Saturday'] + x['Sunday'];\n",
            "\n",
            "subject to day_constraint['Monday']:\n",
            "\tx['Monday'] + x['Thursday'] + x['Friday'] + x['Saturday'] + x['Sunday']\n",
            "\t >= 17;\n",
            "\n",
            "subject to day_constraint['Tuesday']:\n",
            "\tx['Monday'] + x['Tuesday'] + x['Friday'] + x['Saturday'] + x['Sunday']\n",
            "\t >= 13;\n",
            "\n",
            "subject to day_constraint['Wednesday']:\n",
            "\tx['Monday'] + x['Tuesday'] + x['Wednesday'] + x['Saturday'] + \n",
            "\tx['Sunday'] >= 15;\n",
            "\n",
            "subject to day_constraint['Thursday']:\n",
            "\tx['Monday'] + x['Tuesday'] + x['Wednesday'] + x['Thursday'] + \n",
            "\tx['Sunday'] >= 19;\n",
            "\n",
            "subject to day_constraint['Friday']:\n",
            "\tx['Monday'] + x['Tuesday'] + x['Wednesday'] + x['Thursday'] + \n",
            "\tx['Friday'] >= 14;\n",
            "\n",
            "subject to day_constraint['Saturday']:\n",
            "\tx['Tuesday'] + x['Wednesday'] + x['Thursday'] + x['Friday'] + \n",
            "\tx['Saturday'] >= 16;\n",
            "\n",
            "subject to day_constraint['Sunday']:\n",
            "\tx['Wednesday'] + x['Thursday'] + x['Friday'] + x['Saturday'] + \n",
            "\tx['Sunday'] >= 11;\n",
            "\n"
          ]
        }
      ]
    },
    {
      "cell_type": "markdown",
      "source": [
        "Set solver and solve."
      ],
      "metadata": {
        "id": "Fx_sqpPYBevu"
      }
    },
    {
      "cell_type": "code",
      "source": [
        "ampl.setOption('solver', 'cplex')\n",
        "ampl.solve()"
      ],
      "metadata": {
        "id": "xlqpM_cq6HT5",
        "colab": {
          "base_uri": "https://localhost:8080/"
        },
        "outputId": "08363762-f037-4056-dc72-6a2bc64ef0ba"
      },
      "execution_count": null,
      "outputs": [
        {
          "output_type": "stream",
          "name": "stdout",
          "text": [
            "CPLEX 22.1.1:  - Version identifier: 22.1.1.0 | 2022-11-28 | 9160aff4d\n",
            " - CPXPARAM_Simplex_Display                         0\n",
            " - CPXPARAM_MIP_Display                             0\n",
            " - CPXPARAM_Barrier_Display                         0\n",
            "\b\b\b\b\b\b\b\b\b\b\b\b\b\bCPLEX 22.1.1: optimal solution; objective 23\n",
            "5 simplex iterations\n"
          ]
        }
      ]
    },
    {
      "cell_type": "markdown",
      "source": [
        "Print solution and results."
      ],
      "metadata": {
        "id": "OMMsJvISBs2g"
      }
    },
    {
      "cell_type": "code",
      "execution_count": null,
      "metadata": {
        "id": "4wnRfyDmKSGi",
        "colab": {
          "base_uri": "https://localhost:8080/"
        },
        "outputId": "0c2d2c33-594f-4ccd-fdb0-67930b93f7cb"
      },
      "outputs": [
        {
          "output_type": "stream",
          "name": "stdout",
          "text": [
            "\n",
            "\n",
            "Total profit is:  23.0 \n",
            "\n",
            "x [*] :=\n",
            "   Friday  0\n",
            "   Monday  6\n",
            " Saturday  4\n",
            "   Sunday  0\n",
            " Thursday  8\n",
            "  Tuesday  4\n",
            "Wednesday  1\n",
            ";\n",
            "\n"
          ]
        }
      ],
      "source": [
        "# Print results\n",
        "obj = ampl.getObjective('workers_objective')\n",
        "print(\"\\n\")\n",
        "#ampl.setOption('display_round', 0);\n",
        "print(\"Total profit is: \", obj.get().value(), \"\\n\")\n",
        "ampl.display('x');"
      ]
    },
    {
      "cell_type": "markdown",
      "source": [
        "An optimal solution is to have 2 workers start on Monday, 6 on Tuesday, 7 on Thursday, 3 on Saturday, and 5 on Sunday for a total of 23 workers."
      ],
      "metadata": {
        "id": "jwnmLHjacRGJ"
      }
    },
    {
      "cell_type": "code",
      "source": [],
      "metadata": {
        "id": "4L22xZ0NOGEa"
      },
      "execution_count": null,
      "outputs": []
    }
  ],
  "metadata": {
    "colab": {
      "provenance": []
    },
    "kernelspec": {
      "display_name": "Python 3 (ipykernel)",
      "language": "python",
      "name": "python3"
    },
    "language_info": {
      "codemirror_mode": {
        "name": "ipython",
        "version": 3
      },
      "file_extension": ".py",
      "mimetype": "text/x-python",
      "name": "python",
      "nbconvert_exporter": "python",
      "pygments_lexer": "ipython3",
      "version": "3.9.13"
    }
  },
  "nbformat": 4,
  "nbformat_minor": 0
}