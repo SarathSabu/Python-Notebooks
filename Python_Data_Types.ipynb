{
  "cells": [
    {
      "cell_type": "markdown",
      "metadata": {
        "id": "view-in-github",
        "colab_type": "text"
      },
      "source": [
        "<a href=\"https://colab.research.google.com/github/SarathSabu/Python-Notebooks/blob/main/Python_Data_Types.ipynb\" target=\"_parent\"><img src=\"https://colab.research.google.com/assets/colab-badge.svg\" alt=\"Open In Colab\"/></a>"
      ]
    },
    {
      "cell_type": "markdown",
      "metadata": {
        "id": "fFi_Guc3DZDX"
      },
      "source": [
        "Credit to ASTG Python Courses"
      ]
    },
    {
      "cell_type": "markdown",
      "metadata": {
        "id": "etP_rNizJg3o"
      },
      "source": [
        "# <font color=\"red\">Objectives</font>\n",
        "In this presentation we want to introduce the four basic built-in data structures in Python:\n",
        "* Lists\n",
        "* Dictionary\n",
        "* Tuple\n",
        "* Set"
      ]
    },
    {
      "cell_type": "markdown",
      "metadata": {
        "id": "YxPbzlnWDZDb"
      },
      "source": [
        "## <font color=\"red\">Lists</font>"
      ]
    },
    {
      "cell_type": "markdown",
      "metadata": {
        "id": "9reCLtl1DZDd"
      },
      "source": [
        "* A list is data structure that holds ordered collections of data in the square brackets `[]` separated by a comma.\n",
        "   - Can contain unlimited data depending upon the limitation of your computer's memory.\n",
        "* Elements can be accessed by index.\n",
        "* Grow and shrink as needed.\n",
        "* <font color='blue'> Can contain a mix of types </font>\n",
        "* <font color='blue'>Are mutable</font>: you can change their content without changing their identity."
      ]
    },
    {
      "cell_type": "markdown",
      "metadata": {
        "id": "bONKmp4rDZDf"
      },
      "source": [
        "**Initialization**\n",
        "\n",
        "An empty list:"
      ]
    },
    {
      "cell_type": "code",
      "execution_count": null,
      "metadata": {
        "id": "WURerza5DZDh",
        "tags": []
      },
      "outputs": [],
      "source": [
        "empty_list = []"
      ]
    },
    {
      "cell_type": "code",
      "execution_count": null,
      "metadata": {
        "id": "V4wAj5laJg3r",
        "colab": {
          "base_uri": "https://localhost:8080/"
        },
        "outputId": "f60bac00-cf67-4a37-b0dd-1fae5d0e05ef"
      },
      "outputs": [
        {
          "output_type": "execute_result",
          "data": {
            "text/plain": [
              "list"
            ]
          },
          "metadata": {},
          "execution_count": 4
        }
      ],
      "source": [
        "type(empty_list)"
      ]
    },
    {
      "cell_type": "markdown",
      "metadata": {
        "id": "KnZVrbQOJg3t"
      },
      "source": [
        "Create a list that is not empty:"
      ]
    },
    {
      "cell_type": "code",
      "execution_count": null,
      "metadata": {
        "id": "8K7MfhHZDZDm",
        "scrolled": true,
        "tags": []
      },
      "outputs": [],
      "source": [
        "some_primes = [2, 3, 5, 7, 11, 13, 17, 19]\n",
        "fruits = ['apple', 'mango', 'orange', 'kiwi', 'blueberry']"
      ]
    },
    {
      "cell_type": "code",
      "execution_count": null,
      "metadata": {
        "id": "bAxTrFvxJg3u",
        "outputId": "3d0bb99d-4452-4529-9675-fb0cb8ae2ba6",
        "colab": {
          "base_uri": "https://localhost:8080/"
        }
      },
      "outputs": [
        {
          "output_type": "execute_result",
          "data": {
            "text/plain": [
              "list"
            ]
          },
          "metadata": {},
          "execution_count": 6
        }
      ],
      "source": [
        "type(fruits)"
      ]
    },
    {
      "cell_type": "markdown",
      "metadata": {
        "id": "Z4-nAtBADZDs"
      },
      "source": [
        "**Access elements**"
      ]
    },
    {
      "cell_type": "code",
      "execution_count": null,
      "metadata": {
        "colab": {
          "base_uri": "https://localhost:8080/"
        },
        "id": "6Ze0I4lqDZDu",
        "scrolled": true,
        "tags": [],
        "outputId": "5df9fbc9-8347-4024-a4a7-2d7c873dcfd7"
      },
      "outputs": [
        {
          "output_type": "stream",
          "name": "stdout",
          "text": [
            "mango\n"
          ]
        }
      ],
      "source": [
        "print(fruits[1])"
      ]
    },
    {
      "cell_type": "code",
      "execution_count": null,
      "metadata": {
        "colab": {
          "base_uri": "https://localhost:8080/"
        },
        "scrolled": true,
        "tags": [],
        "id": "hgsta8G0Jg3v",
        "outputId": "8ae38219-1a74-4f6f-c92b-bee28f8b5763"
      },
      "outputs": [
        {
          "output_type": "stream",
          "name": "stdout",
          "text": [
            "kiwi\n"
          ]
        }
      ],
      "source": [
        "print(fruits[-2])"
      ]
    },
    {
      "cell_type": "code",
      "execution_count": null,
      "metadata": {
        "colab": {
          "base_uri": "https://localhost:8080/"
        },
        "scrolled": true,
        "tags": [],
        "id": "CcpDFawtJg3v",
        "outputId": "7cee2f62-2e14-4c3c-e2f3-bfc9532b2460"
      },
      "outputs": [
        {
          "output_type": "stream",
          "name": "stdout",
          "text": [
            "['orange', 'kiwi']\n"
          ]
        }
      ],
      "source": [
        "print(fruits[2:4])  # last index is excluded"
      ]
    },
    {
      "cell_type": "code",
      "execution_count": null,
      "metadata": {
        "colab": {
          "base_uri": "https://localhost:8080/"
        },
        "scrolled": true,
        "tags": [],
        "id": "zyguFg9aJg3w",
        "outputId": "a1b4105c-b28e-4a87-a45b-3d6940b38317"
      },
      "outputs": [
        {
          "output_type": "stream",
          "name": "stdout",
          "text": [
            "[2, 5, 11, 17]\n"
          ]
        }
      ],
      "source": [
        "print(some_primes[0::2])   # [start,end,step]"
      ]
    },
    {
      "cell_type": "markdown",
      "metadata": {
        "id": "HTeGZcbrJg3w"
      },
      "source": [
        "**Iterate over a List**\n",
        "\n",
        "This is how one iterates over a list:"
      ]
    },
    {
      "cell_type": "code",
      "execution_count": null,
      "metadata": {
        "tags": [],
        "id": "rFcOMH5iJg3w",
        "colab": {
          "base_uri": "https://localhost:8080/"
        },
        "outputId": "141003d1-7d87-4e74-e6e4-20cdaf8fc234"
      },
      "outputs": [
        {
          "output_type": "stream",
          "name": "stdout",
          "text": [
            "apple\n",
            "mango\n",
            "orange\n",
            "kiwi\n",
            "blueberry\n"
          ]
        }
      ],
      "source": [
        "for i in fruits:\n",
        "    print(i)"
      ]
    },
    {
      "cell_type": "markdown",
      "source": [
        "What does the following iteration return?"
      ],
      "metadata": {
        "id": "d5tLmwD4PEWk"
      }
    },
    {
      "cell_type": "code",
      "source": [
        "for i in fruits[::2]:\n",
        "    print(i)"
      ],
      "metadata": {
        "colab": {
          "base_uri": "https://localhost:8080/"
        },
        "id": "EEtZ10JmPYv9",
        "outputId": "37cca999-56e0-4d76-9b32-7cd6de8b5a4f"
      },
      "execution_count": null,
      "outputs": [
        {
          "output_type": "stream",
          "name": "stdout",
          "text": [
            "apple\n",
            "orange\n",
            "blueberry\n"
          ]
        }
      ]
    },
    {
      "cell_type": "markdown",
      "metadata": {
        "id": "eNzwkI2mJg3w"
      },
      "source": [
        "Print the items on the list in reversed order:"
      ]
    },
    {
      "cell_type": "code",
      "execution_count": null,
      "metadata": {
        "tags": [],
        "id": "lxdFgb-FJg3w"
      },
      "outputs": [],
      "source": [
        "for item in (range(len(fruits)-1, -1)):\n",
        "    print(fruits[item])"
      ]
    },
    {
      "cell_type": "markdown",
      "source": [
        "**len(fruits)**: This gets the length (number of items) in the fruits list.\n",
        "\n",
        "**len(fruits) - 1**:  Since list indices start at 0 in Python, the last item in the list has an index of len(fruits) - 1. This is the starting point for our reverse iteration.\n",
        "\n",
        "**range(len(fruits)-1, -1, -1)**: This creates a range object that generates a sequence of numbers:\n",
        "\n",
        "len(fruits)-1: The starting number (index of the last item).\n",
        "-1: The stopping number (exclusive). This means the loop will iterate until it reaches index 0.\n",
        "-1: The step size. This indicates that the loop will decrement the index by 1 in each iteration, effectively going in reverse.\n",
        "for item in ...: This is a for loop that iterates through each number generated by the range object. In each iteration, the item variable will hold the current index."
      ],
      "metadata": {
        "id": "sKw9s8iSP088"
      }
    },
    {
      "cell_type": "markdown",
      "metadata": {
        "id": "t5gnXpa8Jg3x"
      },
      "source": [
        "Same as above:"
      ]
    },
    {
      "cell_type": "code",
      "execution_count": null,
      "metadata": {
        "tags": [],
        "id": "F3msos2UJg3x",
        "colab": {
          "base_uri": "https://localhost:8080/"
        },
        "outputId": "70e978cb-3612-43cf-882c-5005d4f603aa"
      },
      "outputs": [
        {
          "output_type": "stream",
          "name": "stdout",
          "text": [
            "blueberry\n",
            "kiwi\n",
            "orange\n",
            "mango\n",
            "apple\n"
          ]
        }
      ],
      "source": [
        "for item in reversed(fruits):\n",
        "    print(item)"
      ]
    },
    {
      "cell_type": "markdown",
      "metadata": {
        "id": "ssnSg9qvJg3x"
      },
      "source": [
        "Sometimes we need to loop over a list and retrieve the element and its correponding index."
      ]
    },
    {
      "cell_type": "code",
      "execution_count": null,
      "metadata": {
        "tags": [],
        "id": "7ukOeZ74Jg3x",
        "colab": {
          "base_uri": "https://localhost:8080/"
        },
        "outputId": "2188f694-1e88-4729-b61f-9bf1f40962ad"
      },
      "outputs": [
        {
          "output_type": "stream",
          "name": "stdout",
          "text": [
            "0 --> apple\n",
            "1 --> mango\n",
            "2 --> orange\n",
            "3 --> kiwi\n",
            "4 --> blueberry\n"
          ]
        }
      ],
      "source": [
        "for i in range(len(fruits)):\n",
        "    print (f\"{i} --> {fruits[i]}\")"
      ]
    },
    {
      "cell_type": "markdown",
      "source": [
        "`f\"{i} --> {fruits[i]}\"`: This is an `f-string` (formatted string literal) that creates a string with the following format: \"index --> fruit\". The values of i and fruits[i] are inserted into the string."
      ],
      "metadata": {
        "id": "zgVxVfjPQfk_"
      }
    },
    {
      "cell_type": "markdown",
      "metadata": {
        "id": "FxVxP4itJg3x"
      },
      "source": [
        "The `enumerate` function  gives us an iterable where each element is an object (called a tuple) that contains the index of the item and the original item value."
      ]
    },
    {
      "cell_type": "code",
      "execution_count": null,
      "metadata": {
        "tags": [],
        "id": "1yNvyHIuJg3y",
        "colab": {
          "base_uri": "https://localhost:8080/"
        },
        "outputId": "5e141e65-45ea-4031-cc4b-4143ee0efaa6"
      },
      "outputs": [
        {
          "output_type": "stream",
          "name": "stdout",
          "text": [
            "0: apple\n",
            "1: mango\n",
            "2: orange\n",
            "3: kiwi\n",
            "4: blueberry\n"
          ]
        }
      ],
      "source": [
        "for i, name in enumerate(fruits, start=0): # optional start=1 argument\n",
        "    print (f\"{i}: {name}\")"
      ]
    },
    {
      "cell_type": "markdown",
      "metadata": {
        "id": "w0aEduSyJg3y"
      },
      "source": [
        "Looping over two lists."
      ]
    },
    {
      "cell_type": "code",
      "execution_count": null,
      "metadata": {
        "tags": [],
        "id": "7oQm8MHaJg3y",
        "outputId": "1613477d-4715-45fc-b6b1-65fd312fe0d7",
        "colab": {
          "base_uri": "https://localhost:8080/"
        }
      },
      "outputs": [
        {
          "output_type": "stream",
          "name": "stdout",
          "text": [
            "apple ---> red\n",
            "mango ---> yellow\n",
            "orange ---> orange\n",
            "kiwi ---> green\n",
            "blueberry ---> blue\n"
          ]
        }
      ],
      "source": [
        "colors = ['red', 'yellow','orange', 'green', 'blue']\n",
        "for i in range(len(fruits)):\n",
        "    print(f'{fruits[i]} ---> {colors[i]}')"
      ]
    },
    {
      "cell_type": "markdown",
      "metadata": {
        "id": "d_1wImezJg3y"
      },
      "source": [
        "Use the `zip()` function"
      ]
    },
    {
      "cell_type": "code",
      "execution_count": null,
      "metadata": {
        "tags": [],
        "id": "BPArBCNvJg3y",
        "outputId": "22ba56b6-c001-4264-baa4-35a460a6e8f6",
        "colab": {
          "base_uri": "https://localhost:8080/"
        }
      },
      "outputs": [
        {
          "output_type": "stream",
          "name": "stdout",
          "text": [
            "apple ---> red\n",
            "mango ---> yellow\n",
            "orange ---> orange\n",
            "kiwi ---> green\n",
            "blueberry ---> blue\n"
          ]
        }
      ],
      "source": [
        "for item, color in zip(fruits, colors):\n",
        "    print(f'{item} ---> {color}')"
      ]
    },
    {
      "cell_type": "markdown",
      "metadata": {
        "id": "NCVWY7OzJg3y"
      },
      "source": [
        "Finding the index of an item:"
      ]
    },
    {
      "cell_type": "code",
      "execution_count": null,
      "metadata": {
        "tags": [],
        "id": "qfslomNFJg3z",
        "colab": {
          "base_uri": "https://localhost:8080/"
        },
        "outputId": "29b2905b-333e-4016-afb4-4fd09d5d1978"
      },
      "outputs": [
        {
          "output_type": "stream",
          "name": "stdout",
          "text": [
            "0\n"
          ]
        }
      ],
      "source": [
        "print(fruits.index('apple'))"
      ]
    },
    {
      "cell_type": "code",
      "execution_count": null,
      "metadata": {
        "tags": [],
        "id": "inQPAXpIJg3z",
        "colab": {
          "base_uri": "https://localhost:8080/"
        },
        "outputId": "71d15630-4b11-470e-f5b1-ee686b6b76bc"
      },
      "outputs": [
        {
          "output_type": "stream",
          "name": "stdout",
          "text": [
            "0 ---> apple\n",
            "1 ---> mango\n",
            "2 ---> orange\n",
            "3 ---> kiwi\n",
            "4 ---> blueberry\n"
          ]
        }
      ],
      "source": [
        "for item in fruits:\n",
        "    print(f'{fruits.index(item)} ---> {item}')"
      ]
    },
    {
      "cell_type": "markdown",
      "metadata": {
        "id": "DUGWtxWEJg3z"
      },
      "source": [
        "### <font color=\"purple\"> Going Deeper: Lists are Mutable</font>\n",
        "\n",
        "- We use the `id` function that returns a unique id for the specified object.\n",
        "- Each Python object has its own unique id.\n",
        "- The id is assigned to the object when it is created.\n",
        "- The id is the object's memory address, and will be different for each time you run the program.\n",
        "- When you modify the list, its ID remains the same because it's still the same object in memory."
      ]
    },
    {
      "cell_type": "code",
      "execution_count": null,
      "metadata": {
        "tags": [],
        "id": "H_qUaIunJg3z",
        "colab": {
          "base_uri": "https://localhost:8080/"
        },
        "outputId": "661fcbe5-429b-43ac-b516-dedd35117e64"
      },
      "outputs": [
        {
          "output_type": "stream",
          "name": "stdout",
          "text": [
            "I have 5 fruits\n",
            "    --> The list ID is 133231092155456\n"
          ]
        }
      ],
      "source": [
        "print(f'I have {len(fruits)} fruits')\n",
        "print(f'    --> The list ID is {id(fruits)}')"
      ]
    },
    {
      "cell_type": "code",
      "execution_count": null,
      "metadata": {
        "tags": [],
        "id": "-R7mHU2yJg3z",
        "colab": {
          "base_uri": "https://localhost:8080/"
        },
        "outputId": "753594aa-3c8e-4318-f27a-8b4bc9a1f4b4"
      },
      "outputs": [
        {
          "output_type": "stream",
          "name": "stdout",
          "text": [
            "I also have to buy a banana.\n",
            "My list of fruits is now: ['apple', 'mango', 'orange', 'kiwi', 'blueberry', 'banana']\n",
            "       --> The list ID is: 133231092155456\n"
          ]
        }
      ],
      "source": [
        "print ('I also have to buy a banana.')\n",
        "fruits.append('banana')\n",
        "print(f'My list of fruits is now: {fruits}')\n",
        "print(f'       --> The list ID is: {id(fruits)}')"
      ]
    },
    {
      "cell_type": "code",
      "execution_count": null,
      "metadata": {
        "tags": [],
        "id": "d-h5kSteJg30",
        "colab": {
          "base_uri": "https://localhost:8080/"
        },
        "outputId": "fcc7ffe1-757d-4fb6-fa62-63b97ac9b63b"
      },
      "outputs": [
        {
          "output_type": "stream",
          "name": "stdout",
          "text": [
            "I will sort my list now\n",
            "Sorted list of fruits is: ['apple', 'banana', 'blueberry', 'kiwi', 'mango', 'orange']\n",
            "      --> The list ID is: 133231092155456\n"
          ]
        }
      ],
      "source": [
        "print ('I will sort my list now')\n",
        "fruits.sort()\n",
        "# Note that the sort is done ON the list, i.e. it is mutated\n",
        "print(f'Sorted list of fruits is: {fruits}')\n",
        "print(f'      --> The list ID is: {id(fruits)}')"
      ]
    },
    {
      "cell_type": "markdown",
      "metadata": {
        "id": "-2Q-wjIDJg30"
      },
      "source": [
        "**Editing Lists**"
      ]
    },
    {
      "cell_type": "markdown",
      "metadata": {
        "id": "z8TFYtM2Jg30"
      },
      "source": [
        "Adding an item: `append()`"
      ]
    },
    {
      "cell_type": "code",
      "execution_count": null,
      "metadata": {
        "tags": [],
        "id": "MTO_B2tKJg35",
        "outputId": "2b22c9c8-251b-4ec9-9249-d364af398dec",
        "colab": {
          "base_uri": "https://localhost:8080/"
        }
      },
      "outputs": [
        {
          "output_type": "stream",
          "name": "stdout",
          "text": [
            "['apple', 'banana', 'blueberry', 'kiwi', 'mango', 'orange', 'apple']\n"
          ]
        }
      ],
      "source": [
        "fruits.append('apple')\n",
        "print(fruits)"
      ]
    },
    {
      "cell_type": "markdown",
      "metadata": {
        "id": "xJXgtyxOJg35"
      },
      "source": [
        "Extending (like +) a list: `extend()`"
      ]
    },
    {
      "cell_type": "code",
      "execution_count": null,
      "metadata": {
        "tags": [],
        "id": "x-WgMb-cJg35",
        "outputId": "8746a025-9169-46d0-d13c-a7d64ccc902d",
        "colab": {
          "base_uri": "https://localhost:8080/"
        }
      },
      "outputs": [
        {
          "output_type": "stream",
          "name": "stdout",
          "text": [
            "['apple', 'banana', 'blueberry', 'kiwi', 'mango', 'orange', 'apple', 'guava', 'peach']\n"
          ]
        }
      ],
      "source": [
        "morefruits = ['guava', 'peach']\n",
        "fruits.extend(morefruits)\n",
        "print (fruits)"
      ]
    },
    {
      "cell_type": "markdown",
      "metadata": {
        "id": "6LE-SS8nJg35"
      },
      "source": [
        "Inserting an item in a list: `insert(index, item)`"
      ]
    },
    {
      "cell_type": "code",
      "execution_count": null,
      "metadata": {
        "tags": [],
        "id": "5I-jPsb0Jg35",
        "outputId": "bb2e6e76-ae8d-4726-9096-fd5ff20fbaf0",
        "colab": {
          "base_uri": "https://localhost:8080/"
        }
      },
      "outputs": [
        {
          "output_type": "stream",
          "name": "stdout",
          "text": [
            "['apple', 'banana', 'pineapple', 'blueberry', 'kiwi', 'mango', 'orange', 'apple', 'guava', 'peach']\n"
          ]
        }
      ],
      "source": [
        "fruits.insert(2, 'pineapple')\n",
        "print(fruits)"
      ]
    },
    {
      "cell_type": "markdown",
      "metadata": {
        "id": "QY6nXsuxJg35"
      },
      "source": [
        "Deleting the an entry: `pop()`"
      ]
    },
    {
      "cell_type": "code",
      "execution_count": null,
      "metadata": {
        "tags": [],
        "id": "sjMTuCAoJg35",
        "outputId": "18f12ccf-e5e2-440e-b48a-6aff325c1e0c",
        "colab": {
          "base_uri": "https://localhost:8080/"
        }
      },
      "outputs": [
        {
          "output_type": "stream",
          "name": "stdout",
          "text": [
            "['apple', 'banana', 'pineapple', 'blueberry', 'kiwi', 'mango', 'orange', 'apple', 'guava']\n"
          ]
        }
      ],
      "source": [
        "# Last entry\n",
        "fruits.pop()\n",
        "print(fruits)"
      ]
    },
    {
      "cell_type": "code",
      "execution_count": null,
      "metadata": {
        "tags": [],
        "id": "A61X3E83Jg35",
        "outputId": "52937a4b-8492-4239-e97b-23fcf8cba8d1",
        "colab": {
          "base_uri": "https://localhost:8080/"
        }
      },
      "outputs": [
        {
          "output_type": "stream",
          "name": "stdout",
          "text": [
            "['apple', 'banana', 'blueberry', 'kiwi', 'mango', 'orange', 'apple', 'guava']\n"
          ]
        }
      ],
      "source": [
        "# Specific entry\n",
        "fruits.pop(2)\n",
        "print(fruits)"
      ]
    },
    {
      "cell_type": "markdown",
      "metadata": {
        "id": "3K-gG9_DJg35"
      },
      "source": [
        "Deleting the entire list and create an empty list: `clear()`"
      ]
    },
    {
      "cell_type": "code",
      "execution_count": null,
      "metadata": {
        "tags": [],
        "id": "W8190ApNJg35",
        "outputId": "7bb4b3d7-37ff-4f14-ddd2-b4daeb005a1f",
        "colab": {
          "base_uri": "https://localhost:8080/"
        }
      },
      "outputs": [
        {
          "output_type": "stream",
          "name": "stdout",
          "text": [
            "[]\n"
          ]
        }
      ],
      "source": [
        "fruits.clear()\n",
        "print(fruits)"
      ]
    },
    {
      "cell_type": "markdown",
      "metadata": {
        "id": "36MJosTUJg35"
      },
      "source": [
        "### <font color=\"purple\"> Going Deeper: Lists are flexible containers</font>"
      ]
    },
    {
      "cell_type": "code",
      "execution_count": null,
      "metadata": {
        "colab": {
          "base_uri": "https://localhost:8080/"
        },
        "id": "8kX79KMFDZE5",
        "tags": [],
        "outputId": "e81ad7e0-ea24-4d18-fac6-e2033dc9490b"
      },
      "outputs": [
        {
          "output_type": "stream",
          "name": "stdout",
          "text": [
            "['Wednesday', 'April', 5, 2017]\n",
            "('a', 'b', 'c')\n"
          ]
        }
      ],
      "source": [
        "# Mixed types\n",
        "P = ['Wednesday', 'April', 5, 2017, ('a','b','c')]\n",
        "print (P[0:4])\n",
        "print (P[4])"
      ]
    },
    {
      "cell_type": "code",
      "execution_count": null,
      "metadata": {
        "colab": {
          "base_uri": "https://localhost:8080/"
        },
        "id": "Km5Al1QcDZE8",
        "tags": [],
        "outputId": "bdef6aeb-18ae-41e1-f450-75ea690832ab"
      },
      "outputs": [
        {
          "output_type": "stream",
          "name": "stdout",
          "text": [
            "[1, 3]\n",
            "1\n"
          ]
        }
      ],
      "source": [
        "# Multi-dimensional list\n",
        "A = [[1, 3], [2, 4], [1, 9], [4, 16]]\n",
        "print (A[0])\n",
        "print (A[2][0])"
      ]
    },
    {
      "cell_type": "markdown",
      "metadata": {
        "id": "so1t4feCJg35"
      },
      "source": [
        "**Basic List Operations**"
      ]
    },
    {
      "cell_type": "markdown",
      "metadata": {
        "id": "Q1-WkkBVJg36"
      },
      "source": [
        "| **Python Expression** | **Results** | **Description** |\n",
        "| --- | --- | --- |\n",
        "| len([1, 2, 3]) | 3 | Length |\n",
        "| [1, 2, 3] + [4, 5, 6] | [1, 2, 3, 4, 5, 6] | Concatenation|\n",
        "| ['Hi!'] * 4 | ['Hi!', 'Hi!', 'Hi!', 'Hi!'] | Repetition |\n",
        "| 3 in [1, 2, 3] | True | Membership |\n",
        "| for x in [1, 2, 3]: print(x)  | 1 2 3 | Iteration |"
      ]
    },
    {
      "cell_type": "markdown",
      "metadata": {
        "id": "o-WtpbhiJg37"
      },
      "source": [
        "---"
      ]
    },
    {
      "cell_type": "markdown",
      "metadata": {
        "id": "toX1BnJnDZFK"
      },
      "source": [
        "## <font color=\"red\">Tuple</font>"
      ]
    },
    {
      "cell_type": "markdown",
      "metadata": {
        "id": "hHL8niI2DZFK"
      },
      "source": [
        "* A tuple is an ordered sequence of elements.\n",
        "* Defined by enclosing the elements in parentheses `( )`, separated by a comma.\n",
        "* Used for fixed data\n",
        "  * <font color='blue'>Is immutable</font>: once defined you cannot delete, add or edit any values inside it.\n",
        "* A tuple is used in scenarios where it is certain that the (set of) values belonging to some statement or a user-defined function will not change.\n",
        "* Accessing elements of a tuple is faster than that of a list."
      ]
    },
    {
      "cell_type": "markdown",
      "metadata": {
        "id": "aPIgP362DZFL"
      },
      "source": [
        "#### Initialization"
      ]
    },
    {
      "cell_type": "code",
      "execution_count": null,
      "metadata": {
        "id": "in4zniehDZFN",
        "tags": [],
        "colab": {
          "base_uri": "https://localhost:8080/"
        },
        "outputId": "05e2536d-b01e-4400-e5c4-2c9fec314e1b"
      },
      "outputs": [
        {
          "output_type": "execute_result",
          "data": {
            "text/plain": [
              "tuple"
            ]
          },
          "metadata": {},
          "execution_count": 32
        }
      ],
      "source": [
        "empty_tuple = tuple()\n",
        "type(empty_tuple)"
      ]
    },
    {
      "cell_type": "code",
      "execution_count": null,
      "metadata": {
        "id": "6JKkHBF2DZFQ",
        "tags": [],
        "colab": {
          "base_uri": "https://localhost:8080/"
        },
        "outputId": "a1bb15b6-b169-42b8-945d-d91902a5fe50"
      },
      "outputs": [
        {
          "output_type": "stream",
          "name": "stdout",
          "text": [
            "<class 'tuple'>\n"
          ]
        }
      ],
      "source": [
        "primes = (2, 3, 5, 7, 11, 13)\n",
        "print(type(primes))"
      ]
    },
    {
      "cell_type": "code",
      "execution_count": null,
      "metadata": {
        "tags": [],
        "id": "_kP9vRUWJg37",
        "colab": {
          "base_uri": "https://localhost:8080/"
        },
        "outputId": "508fa334-5d6b-4009-b6e9-5f16ddcf6f0a"
      },
      "outputs": [
        {
          "output_type": "stream",
          "name": "stdout",
          "text": [
            "<class 'tuple'>\n"
          ]
        }
      ],
      "source": [
        "planets = ('mercury', 'venus', 'earth', 'mars', 'jupiter',\n",
        "           'saturn', 'uranus', 'neptune')\n",
        "print(type(planets))"
      ]
    },
    {
      "cell_type": "code",
      "execution_count": null,
      "metadata": {
        "id": "UggZHNI2DZFS",
        "tags": [],
        "colab": {
          "base_uri": "https://localhost:8080/"
        },
        "outputId": "4b73c5a3-5ec9-4993-d9cf-072002fecd05"
      },
      "outputs": [
        {
          "output_type": "stream",
          "name": "stdout",
          "text": [
            "Number of planets in our solar system is: 8\n"
          ]
        }
      ],
      "source": [
        "print (f'Number of planets in our solar system is: {len(planets)}')"
      ]
    },
    {
      "cell_type": "markdown",
      "metadata": {
        "id": "jE47mIXFDZFV"
      },
      "source": [
        "Tuples are simple objects. Two methods only:"
      ]
    },
    {
      "cell_type": "markdown",
      "metadata": {
        "id": "99fuJMxGJg38"
      },
      "source": [
        "Count the number of occurence of a value:"
      ]
    },
    {
      "cell_type": "code",
      "execution_count": null,
      "metadata": {
        "id": "-Ki26c9ZDZFV",
        "tags": [],
        "colab": {
          "base_uri": "https://localhost:8080/"
        },
        "outputId": "08f5f3b7-6981-43b1-f3fd-8266e6369ac0"
      },
      "outputs": [
        {
          "output_type": "stream",
          "name": "stdout",
          "text": [
            "1\n"
          ]
        }
      ],
      "source": [
        "print(planets.count('earth'))"
      ]
    },
    {
      "cell_type": "markdown",
      "metadata": {
        "id": "6aP-928QJg38"
      },
      "source": [
        "Find occurence of a value:"
      ]
    },
    {
      "cell_type": "code",
      "execution_count": null,
      "metadata": {
        "tags": [],
        "id": "-nFO71rYJg38",
        "colab": {
          "base_uri": "https://localhost:8080/"
        },
        "outputId": "b8d58187-d2c6-4322-e818-47a80041eb4d"
      },
      "outputs": [
        {
          "output_type": "stream",
          "name": "stdout",
          "text": [
            "3\n"
          ]
        }
      ],
      "source": [
        "print(planets.index('mars'))"
      ]
    },
    {
      "cell_type": "markdown",
      "metadata": {
        "id": "j_dxICxlDZFY"
      },
      "source": [
        "### Some Interests in Tuples\n",
        "- Protect the data, which is immutable (*)\n",
        "- Tuples make the code safe from any accidental modification.\n",
        "- Assigning multiple values"
      ]
    },
    {
      "cell_type": "markdown",
      "metadata": {
        "id": "Dbme-Y_xJg38"
      },
      "source": [
        "### <font color=\"purple\">Going Deeper: Memory Access in Tuples</font>\n",
        "\n",
        "Consisder the tuple `a_mutable_tuple` that has as entry the list `solar_system_list`."
      ]
    },
    {
      "cell_type": "code",
      "execution_count": null,
      "metadata": {
        "tags": [],
        "id": "2FlTtXh3Jg38"
      },
      "outputs": [],
      "source": [
        "solar_system_list = ['mercury', 'venus', 'earth', 'mars',\n",
        "                     'jupiter', 'saturn', 'uranus', 'neptune']\n",
        "\n",
        "a_mutable_tuple = (solar_system_list, 'pluto')"
      ]
    },
    {
      "cell_type": "code",
      "execution_count": null,
      "metadata": {
        "id": "v17UjKpLJg38",
        "colab": {
          "base_uri": "https://localhost:8080/"
        },
        "outputId": "383d5ddc-2b7f-44ce-827c-b3047e9146f7"
      },
      "outputs": [
        {
          "output_type": "execute_result",
          "data": {
            "text/plain": [
              "(['mercury',\n",
              "  'venus',\n",
              "  'earth',\n",
              "  'mars',\n",
              "  'jupiter',\n",
              "  'saturn',\n",
              "  'uranus',\n",
              "  'neptune'],\n",
              " 'pluto')"
            ]
          },
          "metadata": {},
          "execution_count": 39
        }
      ],
      "source": [
        "a_mutable_tuple"
      ]
    },
    {
      "cell_type": "markdown",
      "metadata": {
        "id": "4ddBDnn-Jg38"
      },
      "source": [
        "- A tuple is an immutable object (cannot be changed).\n",
        "- However in our example, the tuple `a_mutable_tuple` contains a mutable object (a list).\n",
        "- Could we modify the list and still keep the same tuple?"
      ]
    },
    {
      "cell_type": "code",
      "execution_count": null,
      "metadata": {
        "tags": [],
        "id": "RvKAEoHXJg39",
        "colab": {
          "base_uri": "https://localhost:8080/"
        },
        "outputId": "7643da88-a0b3-4714-e00b-6afb4332ce79"
      },
      "outputs": [
        {
          "output_type": "stream",
          "name": "stdout",
          "text": [
            "Original tuple: (['mercury', 'venus', 'earth', 'mars', 'jupiter', 'saturn', 'uranus', 'neptune'], 'pluto')\n",
            "ID of tuple:    133231366808448\n"
          ]
        }
      ],
      "source": [
        "print(f\"Original tuple: {a_mutable_tuple}\")\n",
        "print(f\"ID of tuple:    {id(a_mutable_tuple)}\")"
      ]
    },
    {
      "cell_type": "code",
      "execution_count": null,
      "metadata": {
        "tags": [],
        "id": "xugkLsf-Jg39"
      },
      "outputs": [],
      "source": [
        "a_mutable_tuple[0][2] = 'EARTH'"
      ]
    },
    {
      "cell_type": "code",
      "execution_count": null,
      "metadata": {
        "tags": [],
        "id": "JNPFBzvBJg39",
        "colab": {
          "base_uri": "https://localhost:8080/"
        },
        "outputId": "a455d71c-53d9-4ab3-ccdf-9badd8c1189d"
      },
      "outputs": [
        {
          "output_type": "stream",
          "name": "stdout",
          "text": [
            "Modified tuple: (['mercury', 'venus', 'EARTH', 'mars', 'jupiter', 'saturn', 'uranus', 'neptune'], 'pluto')\n",
            "ID of tuple:    133231366808448\n"
          ]
        }
      ],
      "source": [
        "print(f\"Modified tuple: {a_mutable_tuple}\")\n",
        "print(f\"ID of tuple:    {id(a_mutable_tuple)}\")"
      ]
    },
    {
      "cell_type": "markdown",
      "metadata": {
        "id": "9bFJW8bvJg39"
      },
      "source": [
        "### Other Operations"
      ]
    },
    {
      "cell_type": "markdown",
      "metadata": {
        "id": "TW_04EiiJg39"
      },
      "source": [
        "Assigning multiple values:"
      ]
    },
    {
      "cell_type": "code",
      "execution_count": null,
      "metadata": {
        "id": "8ia5t4XXDZFb",
        "tags": [],
        "colab": {
          "base_uri": "https://localhost:8080/"
        },
        "outputId": "87db3b75-bcd1-4a4d-cb00-540a948de2c7"
      },
      "outputs": [
        {
          "output_type": "execute_result",
          "data": {
            "text/plain": [
              "('a', 'b', 'c')"
            ]
          },
          "metadata": {},
          "execution_count": 43
        }
      ],
      "source": [
        "(x, y, z) = ['a','b','c']\n",
        "x, y, z"
      ]
    },
    {
      "cell_type": "markdown",
      "metadata": {
        "id": "U_tEoHevDZFj"
      },
      "source": [
        "## <font color=\"red\">Dictionary</font>"
      ]
    },
    {
      "cell_type": "markdown",
      "metadata": {
        "id": "Z5cHqhWqDZFk"
      },
      "source": [
        "* A dictionary is an associative data structure of variable length.\n",
        "* A dictionary consists of an ordered collection of `key:value` pairs separated by commas inside curly brackets `{}`.\n",
        "* Each key-value pair maps the key to its associated value.\n",
        "* A key should be unique and an immutable object.\n",
        "* <font color='blue'>A dictionary is mutable</font>."
      ]
    },
    {
      "cell_type": "markdown",
      "metadata": {
        "id": "GGnc7OMMDZFm"
      },
      "source": [
        "#### Initialization\n",
        "\n",
        "Empty dictionary:"
      ]
    },
    {
      "cell_type": "code",
      "execution_count": null,
      "metadata": {
        "id": "GRmoGy23DZFn",
        "tags": []
      },
      "outputs": [],
      "source": [
        "empty_dict = dict()"
      ]
    },
    {
      "cell_type": "code",
      "execution_count": null,
      "metadata": {
        "id": "5LfGoGXRJg3_",
        "colab": {
          "base_uri": "https://localhost:8080/"
        },
        "outputId": "60295355-2b6f-4bba-ff8c-1ed6575a260a"
      },
      "outputs": [
        {
          "output_type": "execute_result",
          "data": {
            "text/plain": [
              "dict"
            ]
          },
          "metadata": {},
          "execution_count": 45
        }
      ],
      "source": [
        "type(empty_dict)"
      ]
    },
    {
      "cell_type": "markdown",
      "metadata": {
        "id": "vHLBO4TYJg4A"
      },
      "source": [
        "Ways for creating dictionaries:"
      ]
    },
    {
      "cell_type": "code",
      "execution_count": null,
      "metadata": {
        "tags": [],
        "id": "unu_G8VmJg4A"
      },
      "outputs": [],
      "source": [
        "daily_temps = dict()\n",
        "daily_temps['mon'] = 70.2\n",
        "daily_temps['tue'] = 67.2\n",
        "daily_temps['wed'] = 71.8\n",
        "daily_temps['thu'] = 73.2\n",
        "daily_temps['fri'] = 75.6"
      ]
    },
    {
      "cell_type": "code",
      "execution_count": null,
      "metadata": {
        "tags": [],
        "id": "ZH2WrYEeJg4A"
      },
      "outputs": [],
      "source": [
        "daily_temps1 = {'mon': 70.2, 'tue': 67.2, 'wed': 71.8, 'thu': 73.2, 'fri': 75.6}"
      ]
    },
    {
      "cell_type": "code",
      "execution_count": null,
      "metadata": {
        "tags": [],
        "id": "nH_LhK5FJg4A"
      },
      "outputs": [],
      "source": [
        "daily_temps2 = dict([('mon', 70.2), ('tue', 67.2),\n",
        "                     ('wed', 71.8), ('thu', 73.2),\n",
        "                     ('fri', 75.6)])"
      ]
    },
    {
      "cell_type": "code",
      "execution_count": null,
      "metadata": {
        "tags": [],
        "id": "aH4OLq01Jg4A"
      },
      "outputs": [],
      "source": [
        "daily_temps3 = dict(mon=70.2, tue=67.2, wed=71.8, thu=73.2, fri=75.6)"
      ]
    },
    {
      "cell_type": "code",
      "execution_count": null,
      "metadata": {
        "id": "0uW-4VH-DZFn",
        "tags": []
      },
      "outputs": [],
      "source": [
        "days = ['mon', 'tue', 'wed','thu','fri']\n",
        "temps = [70.2, 67.2, 71.8, 73.2, 75.6]\n",
        "daily_temps4 = dict(zip(days, temps))"
      ]
    },
    {
      "cell_type": "markdown",
      "metadata": {
        "id": "hm_79RuMDZFr"
      },
      "source": [
        "**Note that you can use only immutable objects for the keys of a dictionary but you can use either immutable or mutable objects for the values of the dictionary.**\n",
        "\n",
        "**`Keys`**: The keys in a dictionary must be immutable. This means they cannot be changed after they are created. Examples of immutable objects in Python include:\n",
        "\n",
        "`Integers (int)`\n",
        "\n",
        "`Floating-point numbers (float)`\n",
        "\n",
        "`Strings (str)`\n",
        "\n",
        "`Tuples (tuple)`\n",
        "\n",
        "**`Values`**: The values in a dictionary can be either immutable or mutable. Mutable objects can be changed after they are created. Examples of mutable objects include:\n",
        "\n",
        "`Lists (list)`\n",
        "\n",
        "`Dictionaries (dict)`\n",
        "\n",
        "`Sets (set)`"
      ]
    },
    {
      "cell_type": "markdown",
      "metadata": {
        "id": "gm-mQRbvDZFs"
      },
      "source": [
        "#### Access elements\n",
        "- Dictionary elements are accessed via keys.\n",
        "- A value is retrieved from a dictionary by specifying its corresponding key in square brackets (`[` `]`)"
      ]
    },
    {
      "cell_type": "markdown",
      "metadata": {
        "id": "AJ6jNqIWJg4B"
      },
      "source": [
        "Square brackets are used for accessing elements:"
      ]
    },
    {
      "cell_type": "code",
      "execution_count": null,
      "metadata": {
        "id": "uzyGg-H1DZFs",
        "tags": [],
        "colab": {
          "base_uri": "https://localhost:8080/"
        },
        "outputId": "6f6c32cf-81bf-4c6f-a745-befe85d32e72"
      },
      "outputs": [
        {
          "output_type": "execute_result",
          "data": {
            "text/plain": [
              "71.8"
            ]
          },
          "metadata": {},
          "execution_count": 51
        }
      ],
      "source": [
        "daily_temps['wed']"
      ]
    },
    {
      "cell_type": "markdown",
      "metadata": {
        "id": "CipRqb6fJg4C"
      },
      "source": [
        "List all the keys in a dictionary: `keys()` function"
      ]
    },
    {
      "cell_type": "code",
      "execution_count": null,
      "metadata": {
        "id": "GckRkKrUDZFv",
        "tags": [],
        "colab": {
          "base_uri": "https://localhost:8080/"
        },
        "outputId": "b5f5473f-dc77-4926-bbea-999c0d9adcbd"
      },
      "outputs": [
        {
          "output_type": "execute_result",
          "data": {
            "text/plain": [
              "dict_keys(['mon', 'tue', 'wed', 'thu', 'fri'])"
            ]
          },
          "metadata": {},
          "execution_count": 52
        }
      ],
      "source": [
        "daily_temps.keys()"
      ]
    },
    {
      "cell_type": "markdown",
      "metadata": {
        "id": "hz2JyDb5Jg4C"
      },
      "source": [
        "List all the values in a dictionary: `value()` function"
      ]
    },
    {
      "cell_type": "code",
      "execution_count": null,
      "metadata": {
        "id": "wGwl5dmWDZFx",
        "tags": [],
        "colab": {
          "base_uri": "https://localhost:8080/"
        },
        "outputId": "dc8edf9b-ef98-4157-9ecd-3ed576c03e80"
      },
      "outputs": [
        {
          "output_type": "execute_result",
          "data": {
            "text/plain": [
              "dict_values([70.2, 67.2, 71.8, 73.2, 75.6])"
            ]
          },
          "metadata": {},
          "execution_count": 53
        }
      ],
      "source": [
        "daily_temps.values()"
      ]
    },
    {
      "cell_type": "markdown",
      "metadata": {
        "id": "WGW4opeUJg4D"
      },
      "source": [
        "List all the pairs of keys and values in a dictionary: `items()` function"
      ]
    },
    {
      "cell_type": "code",
      "execution_count": null,
      "metadata": {
        "id": "xqjPW2rBDZF1",
        "tags": [],
        "colab": {
          "base_uri": "https://localhost:8080/"
        },
        "outputId": "94cb22a6-39b5-46bf-c1e1-06162ef91f4d"
      },
      "outputs": [
        {
          "output_type": "execute_result",
          "data": {
            "text/plain": [
              "dict_items([('mon', 70.2), ('tue', 67.2), ('wed', 71.8), ('thu', 73.2), ('fri', 75.6)])"
            ]
          },
          "metadata": {},
          "execution_count": 54
        }
      ],
      "source": [
        "daily_temps.items()"
      ]
    },
    {
      "cell_type": "markdown",
      "metadata": {
        "id": "Cslfg-adJg4D"
      },
      "source": [
        "Check if a given key belongs to a dictionary:"
      ]
    },
    {
      "cell_type": "code",
      "execution_count": null,
      "metadata": {
        "tags": [],
        "id": "cC-qChqlJg4D",
        "colab": {
          "base_uri": "https://localhost:8080/"
        },
        "outputId": "a48aa7d4-7e2f-471d-e15e-dcff75875b7b"
      },
      "outputs": [
        {
          "output_type": "execute_result",
          "data": {
            "text/plain": [
              "True"
            ]
          },
          "metadata": {},
          "execution_count": 55
        }
      ],
      "source": [
        "'fri' in daily_temps"
      ]
    },
    {
      "cell_type": "markdown",
      "metadata": {
        "id": "caGURxqCDZF4"
      },
      "source": [
        "**Keys must be immutable.**\n",
        "\n",
        "Keys in a dictionary can be tuples (immutable objects):"
      ]
    },
    {
      "cell_type": "code",
      "execution_count": null,
      "metadata": {
        "tags": [],
        "id": "JELiu13cJg4D",
        "colab": {
          "base_uri": "https://localhost:8080/"
        },
        "outputId": "b269a085-e95f-4bb4-a175-80e2efc3d0cc"
      },
      "outputs": [
        {
          "output_type": "execute_result",
          "data": {
            "text/plain": [
              "88.9"
            ]
          },
          "metadata": {},
          "execution_count": 56
        }
      ],
      "source": [
        "temps = {('June',10,2019): 75.2, 'June-11-2019': 77.2, 3:88.9}\n",
        "\n",
        "# Access with a tuple\n",
        "temps[3]"
      ]
    },
    {
      "cell_type": "markdown",
      "metadata": {
        "id": "02TrdqsJJg4D"
      },
      "source": [
        "### Looping over a Dictionary"
      ]
    },
    {
      "cell_type": "markdown",
      "metadata": {
        "id": "VeAi5Q-GJg4D"
      },
      "source": [
        "**Loop over keys**"
      ]
    },
    {
      "cell_type": "code",
      "execution_count": null,
      "metadata": {
        "tags": [],
        "id": "elCld-9ZJg4D",
        "colab": {
          "base_uri": "https://localhost:8080/"
        },
        "outputId": "30d92fff-6785-4a55-adf6-e6dfbce652e0"
      },
      "outputs": [
        {
          "output_type": "stream",
          "name": "stdout",
          "text": [
            "mon\n",
            "tue\n",
            "wed\n",
            "thu\n",
            "fri\n"
          ]
        }
      ],
      "source": [
        "for day in daily_temps:\n",
        "    print(day)"
      ]
    },
    {
      "cell_type": "code",
      "execution_count": null,
      "metadata": {
        "tags": [],
        "id": "KZihzAkfJg4D",
        "colab": {
          "base_uri": "https://localhost:8080/"
        },
        "outputId": "09358365-be68-489d-b1da-697baa7b3118"
      },
      "outputs": [
        {
          "output_type": "stream",
          "name": "stdout",
          "text": [
            "Key: mon and Value: 70.2\n",
            "Key: tue and Value: 67.2\n",
            "Key: wed and Value: 71.8\n",
            "Key: thu and Value: 73.2\n",
            "Key: fri and Value: 75.6\n"
          ]
        }
      ],
      "source": [
        "for day in daily_temps:\n",
        "    print(f\"Key: {day} and Value: {daily_temps[day]}\")"
      ]
    },
    {
      "cell_type": "markdown",
      "metadata": {
        "id": "6K02gAplJg4D"
      },
      "source": [
        "**Loop over keys and values**"
      ]
    },
    {
      "cell_type": "code",
      "execution_count": null,
      "metadata": {
        "tags": [],
        "id": "DjvvIK6FJg4D",
        "colab": {
          "base_uri": "https://localhost:8080/"
        },
        "outputId": "e826866e-3ba9-446d-fc96-424e432f2ea3"
      },
      "outputs": [
        {
          "output_type": "stream",
          "name": "stdout",
          "text": [
            "mon 70.2\n",
            "tue 67.2\n",
            "wed 71.8\n",
            "thu 73.2\n",
            "fri 75.6\n"
          ]
        }
      ],
      "source": [
        "for day, temp in daily_temps.items():\n",
        "    print(day, temp)"
      ]
    },
    {
      "cell_type": "markdown",
      "metadata": {
        "id": "MJDBIfJkJg4D"
      },
      "source": [
        "**Example**"
      ]
    },
    {
      "cell_type": "code",
      "execution_count": null,
      "metadata": {
        "tags": [],
        "id": "chhA3QWKJg4D"
      },
      "outputs": [],
      "source": [
        "colors = ['red','orange','yellow','green','blue','indigo','violet']\n",
        "d = dict()"
      ]
    },
    {
      "cell_type": "code",
      "execution_count": null,
      "metadata": {
        "id": "wPFlWjTwJg4D",
        "colab": {
          "base_uri": "https://localhost:8080/"
        },
        "outputId": "0ab5e0e1-331c-4b36-dd78-da805af91139"
      },
      "outputs": [
        {
          "output_type": "stream",
          "name": "stdout",
          "text": [
            "d: {3: ['red'], 6: ['orange', 'yellow', 'indigo', 'violet'], 5: ['green'], 4: ['blue']}\n"
          ]
        }
      ],
      "source": [
        "for color in colors:\n",
        "    key = len(color)\n",
        "    if key not in d:\n",
        "        d[key] = []\n",
        "    d[key].append(color)\n",
        "print(f\"d: {d}\")"
      ]
    },
    {
      "cell_type": "markdown",
      "metadata": {
        "id": "gdixvjBbJg4D"
      },
      "source": [
        "### <font color=\"purple\">Edit a Dictionary (add, delete items)</font>"
      ]
    },
    {
      "cell_type": "code",
      "execution_count": null,
      "metadata": {
        "tags": [],
        "id": "U0dlrdgWJg4D",
        "colab": {
          "base_uri": "https://localhost:8080/"
        },
        "outputId": "b69caa07-c7b1-4254-ae65-936f91e589c8"
      },
      "outputs": [
        {
          "output_type": "stream",
          "name": "stdout",
          "text": [
            "{'mon': 70.2, 'tue': 67.2, 'wed': 71.8, 'thu': 73.2, 'fri': 75.6}\n"
          ]
        }
      ],
      "source": [
        "print(daily_temps2)"
      ]
    },
    {
      "cell_type": "markdown",
      "metadata": {
        "id": "XaezsaPQJg4D"
      },
      "source": [
        "Adding a new entry:"
      ]
    },
    {
      "cell_type": "code",
      "execution_count": null,
      "metadata": {
        "tags": [],
        "id": "eBHaFKAIJg4D",
        "colab": {
          "base_uri": "https://localhost:8080/"
        },
        "outputId": "42345529-425e-4f95-9a09-b1e93f9d5595"
      },
      "outputs": [
        {
          "output_type": "stream",
          "name": "stdout",
          "text": [
            "{'mon': 70.2, 'tue': 67.2, 'wed': 71.8, 'thu': 73.2, 'fri': 75.6, 'sat': 32.3, 'sun': 76.8}\n"
          ]
        }
      ],
      "source": [
        "daily_temps2.update({'sat': 32.3, 'sun': 76.8})\n",
        "print(daily_temps2)"
      ]
    },
    {
      "cell_type": "markdown",
      "metadata": {
        "id": "mafVj62bJg4D"
      },
      "source": [
        "Deleting an item:"
      ]
    },
    {
      "cell_type": "code",
      "execution_count": null,
      "metadata": {
        "tags": [],
        "id": "LrMgMopyJg4E",
        "colab": {
          "base_uri": "https://localhost:8080/"
        },
        "outputId": "f5bc4123-6849-4a76-cc9e-ecccf5a0aac0"
      },
      "outputs": [
        {
          "output_type": "stream",
          "name": "stdout",
          "text": [
            "{'mon': 70.2, 'tue': 67.2, 'thu': 73.2, 'fri': 75.6, 'sat': 32.3, 'sun': 76.8}\n"
          ]
        }
      ],
      "source": [
        "del daily_temps2[\"wed\"]\n",
        "print(daily_temps2)"
      ]
    },
    {
      "cell_type": "code",
      "execution_count": null,
      "metadata": {
        "tags": [],
        "id": "5vVWvhZ1Jg4E",
        "colab": {
          "base_uri": "https://localhost:8080/"
        },
        "outputId": "52d7dca1-37f2-4561-8b4f-d65ca975bab5"
      },
      "outputs": [
        {
          "output_type": "stream",
          "name": "stdout",
          "text": [
            "Removed value:      75.6\n",
            "Updated dictionary: {'mon': 70.2, 'tue': 67.2, 'thu': 73.2, 'sat': 32.3, 'sun': 76.8}\n"
          ]
        }
      ],
      "source": [
        "removed_value = daily_temps2.pop('fri')\n",
        "print(\"Removed value:      {}\".format(removed_value))\n",
        "print(\"Updated dictionary: {}\".format(daily_temps2))"
      ]
    },
    {
      "cell_type": "markdown",
      "metadata": {
        "id": "HKUxsR49Jg4E"
      },
      "source": [
        "### Useful Function Assiociated with Dictionaries\n",
        "\n",
        "Assume that `d` is a dictionary.\n",
        "\n",
        "| Function | Description |\n",
        "| --- | --- |\n",
        "| `d.get(<key>[, <default>])` | Returns the value for a key if it exists in the dictionary. |\n",
        "| `d.items()` | Returns a list of key-value pairs in a dictionary. |\n",
        "| `d.keys()` | Returns a list of keys in a dictionary. |\n",
        "| `d.values()` | Returns a list of values in a dictionary. |\n",
        "| `d.pop(<key>[, <default>])` | Removes a key from a dictionary, if it is present, and returns its value. |\n",
        "| `d.popitem()` | Removes the last key-value pair added from d and returns it as a tuple. |\n",
        "| `d.update()` | Merges a dictionary with another dictionary or with an iterable of key-value pairs. |\n",
        "| `d.clear()` | Empties a dictionary of all key-value pairs. |"
      ]
    },
    {
      "cell_type": "markdown",
      "metadata": {
        "id": "1RsDkgorDZGO"
      },
      "source": [
        "## <font color=\"red\">Set</font>"
      ]
    },
    {
      "cell_type": "markdown",
      "metadata": {
        "id": "w4dRmmwaDZGR"
      },
      "source": [
        "* A sequence used to store non-duplicate data.\n",
        "* Data is unordered.\n",
        "* <font color='blue'>mutable</font>."
      ]
    },
    {
      "cell_type": "markdown",
      "metadata": {
        "id": "7JapEKgXDZGS"
      },
      "source": [
        "#### Initialization"
      ]
    },
    {
      "cell_type": "code",
      "execution_count": null,
      "metadata": {
        "id": "KeGqUkk_DZGT",
        "tags": [],
        "colab": {
          "base_uri": "https://localhost:8080/"
        },
        "outputId": "a79e4c4b-8c4d-4768-e9dd-5675af420f51"
      },
      "outputs": [
        {
          "output_type": "execute_result",
          "data": {
            "text/plain": [
              "set"
            ]
          },
          "metadata": {},
          "execution_count": 66
        }
      ],
      "source": [
        "empty_set = set()\n",
        "type(empty_set)"
      ]
    },
    {
      "cell_type": "code",
      "execution_count": null,
      "metadata": {
        "tags": [],
        "id": "a0_EV014Jg4E",
        "colab": {
          "base_uri": "https://localhost:8080/"
        },
        "outputId": "ef0310d6-077c-4dbb-8730-e22eb8522e8b"
      },
      "outputs": [
        {
          "output_type": "stream",
          "name": "stdout",
          "text": [
            "<class 'set'>\n",
            "Set fibo: {1, 2, 3, 5}\n"
          ]
        }
      ],
      "source": [
        "fibo = {1, 1, 2, 3, 5}\n",
        "print(type(fibo))\n",
        "print(\"Set fibo:\", fibo)"
      ]
    },
    {
      "cell_type": "code",
      "execution_count": null,
      "metadata": {
        "id": "9NMHLbk5Jg4E",
        "colab": {
          "base_uri": "https://localhost:8080/",
          "height": 139
        },
        "outputId": "5d6709a9-728e-48f8-fda7-8e8de9bf5941"
      },
      "outputs": [
        {
          "output_type": "error",
          "ename": "TypeError",
          "evalue": "'set' object is not subscriptable",
          "traceback": [
            "\u001b[0;31m---------------------------------------------------------------------------\u001b[0m",
            "\u001b[0;31mTypeError\u001b[0m                                 Traceback (most recent call last)",
            "\u001b[0;32m<ipython-input-68-50912566d4dd>\u001b[0m in \u001b[0;36m<cell line: 1>\u001b[0;34m()\u001b[0m\n\u001b[0;32m----> 1\u001b[0;31m \u001b[0mfibo\u001b[0m\u001b[0;34m[\u001b[0m\u001b[0;36m0\u001b[0m\u001b[0;34m]\u001b[0m   \u001b[0;31m# not possible - data is unordered!\u001b[0m\u001b[0;34m\u001b[0m\u001b[0;34m\u001b[0m\u001b[0m\n\u001b[0m",
            "\u001b[0;31mTypeError\u001b[0m: 'set' object is not subscriptable"
          ]
        }
      ],
      "source": [
        "fibo[0]   # not possible - data is unordered!"
      ]
    },
    {
      "cell_type": "code",
      "execution_count": null,
      "metadata": {
        "tags": [],
        "id": "PaQLZZV3Jg4F",
        "colab": {
          "base_uri": "https://localhost:8080/"
        },
        "outputId": "f8b7bb45-d4b8-40ad-a9a5-9533098ae540"
      },
      "outputs": [
        {
          "output_type": "stream",
          "name": "stdout",
          "text": [
            "Set primes: {1, 2, 3, 5}\n"
          ]
        }
      ],
      "source": [
        "some_primes = [1, 1, 2, 2, 3, 3, 5, 5]\n",
        "primes = set(some_primes)\n",
        "print(\"Set primes:\", primes)"
      ]
    },
    {
      "cell_type": "markdown",
      "metadata": {
        "id": "-2nZCNceDZGX"
      },
      "source": [
        "#### Mathematical set operations"
      ]
    },
    {
      "cell_type": "code",
      "execution_count": null,
      "metadata": {
        "id": "RPdBaRcuDZGY",
        "tags": []
      },
      "outputs": [],
      "source": [
        "a = set([1, 2, 3, 4])\n",
        "b = set([3, 4, 5, 6])"
      ]
    },
    {
      "cell_type": "markdown",
      "metadata": {
        "id": "mLtpTWQ3Jg4F"
      },
      "source": [
        "Union or `a.union(b)`:"
      ]
    },
    {
      "cell_type": "code",
      "execution_count": null,
      "metadata": {
        "id": "lLN006ziDZGa",
        "tags": [],
        "colab": {
          "base_uri": "https://localhost:8080/"
        },
        "outputId": "bfd15516-2248-446a-d932-502e9b7b3525"
      },
      "outputs": [
        {
          "output_type": "execute_result",
          "data": {
            "text/plain": [
              "{1, 2, 3, 4, 5, 6}"
            ]
          },
          "metadata": {},
          "execution_count": 71
        }
      ],
      "source": [
        "a | b"
      ]
    },
    {
      "cell_type": "markdown",
      "metadata": {
        "id": "yNpJXpqHJg4F"
      },
      "source": [
        "Intersection  or `a.intersection(b)`:"
      ]
    },
    {
      "cell_type": "code",
      "execution_count": null,
      "metadata": {
        "id": "sFU9Asw-DZGc",
        "tags": []
      },
      "outputs": [],
      "source": [
        "a & b"
      ]
    },
    {
      "cell_type": "markdown",
      "metadata": {
        "id": "AP2p3zCQJg4F"
      },
      "source": [
        "Subset or `a.issubset(b)`:"
      ]
    },
    {
      "cell_type": "code",
      "execution_count": null,
      "metadata": {
        "id": "3EMFeAllDZGe",
        "tags": []
      },
      "outputs": [],
      "source": [
        "a.issubset(b)"
      ]
    },
    {
      "cell_type": "markdown",
      "metadata": {
        "id": "8k_jAIBoJg4F"
      },
      "source": [
        "Difference or `a.difference(b)`:"
      ]
    },
    {
      "cell_type": "code",
      "execution_count": null,
      "metadata": {
        "id": "rC1jbVPbDZGg",
        "tags": []
      },
      "outputs": [],
      "source": [
        "a - b"
      ]
    },
    {
      "cell_type": "markdown",
      "metadata": {
        "id": "pgugRr9JJg4F"
      },
      "source": [
        "---"
      ]
    },
    {
      "cell_type": "markdown",
      "metadata": {
        "id": "RjatwtaGDZHM",
        "tags": []
      },
      "source": [
        "## Quiz\n",
        "\n",
        "- What are the differences between a list and a tuple?\n",
        "- Name two ways to build a list containing five integer zeros.\n",
        "- Name four operations that change a list object in place.\n",
        "- How can you determine how large a tuple is?\n",
        "- Write an expression that changes the first item in a tuple. For example (4, 5, 6) should become (1, 5, 6) in the process.\n",
        "- Name two ways to build a dictionary with two keys, ’a’ and ’b’, each having an associated value of 0.\n",
        "- Name four operations that change a dictionary object in place\n",
        "- The union() method returns a new set with all items from both sets by removing duplicates. True or False?\n",
        "- What is the correct way to remove an element form a set?"
      ]
    },
    {
      "cell_type": "markdown",
      "metadata": {
        "id": "-bwxmAtkJg4G"
      },
      "source": [
        "---"
      ]
    },
    {
      "cell_type": "code",
      "metadata": {
        "id": "RrjbwfECDZFA"
      },
      "source": [
        "## <font color=\"red\">Going Deeper: Copying Objects in Python</font>\n",
        "\n",
        "- Assignment statements in Python do not create copies of objects, they only bind names to an object.\n",
        "- For immutable objects, that usually doesn’t make a difference.\n",
        "- But for working with mutable objects or collections of mutable objects, you might be looking for a way to create “real copies” or “clones” of these objects.\n",
        "- Python creates real copies only if it has to, i.e. if the user, the programmer, explicitly demands it.\n"
      ],
      "execution_count": null,
      "outputs": []
    },
    {
      "cell_type": "markdown",
      "metadata": {
        "id": "bAEy40kEJg4G"
      },
      "source": [
        "**<font color=\"blue\">Shallow Copies in Python</font>**\n",
        "\n",
        "- A shallow copy also makes a separate new object object, but instead of copying the child elements to the new object, it simply copies the references to their memory addresses.\n",
        "- If you make a change in the original object, it would reflect in the copied object, and vice versa.\n",
        "- Both the copies are dependent on each other."
      ]
    },
    {
      "cell_type": "markdown",
      "metadata": {
        "id": "Olfp9ozfJg4G"
      },
      "source": [
        "**Example 1**"
      ]
    },
    {
      "cell_type": "code",
      "execution_count": null,
      "metadata": {
        "id": "4rrO27SeJg4G"
      },
      "outputs": [],
      "source": [
        "a = [[90, 85, 82], [72, 88, 90]]\n",
        "print(id(a))"
      ]
    },
    {
      "cell_type": "code",
      "execution_count": null,
      "metadata": {
        "id": "aDj2htI3Jg4G"
      },
      "outputs": [],
      "source": [
        "b = a\n",
        "print(id(b))"
      ]
    },
    {
      "cell_type": "code",
      "execution_count": null,
      "metadata": {
        "id": "eDQsxmc7Jg4G"
      },
      "outputs": [],
      "source": [
        "b.append(23)\n",
        "print(\"a: \", a)\n",
        "print(\"b: \", b)"
      ]
    },
    {
      "cell_type": "code",
      "execution_count": null,
      "metadata": {
        "id": "QSjxldiQJg4G"
      },
      "outputs": [],
      "source": [
        "print('EQUAL?:', (a == b))\n",
        "print('SAME ?:', (a is b))"
      ]
    },
    {
      "cell_type": "markdown",
      "metadata": {
        "id": "o_DzwI_9Jg4G"
      },
      "source": [
        "Changing `b` also changes `a` because they both refer to the same `list` object."
      ]
    },
    {
      "cell_type": "markdown",
      "metadata": {
        "id": "XWn7W3WyJg4G"
      },
      "source": [
        "**Example 2: Copying by Slicing**\n",
        "\n",
        "- Slicing creates a new object."
      ]
    },
    {
      "cell_type": "code",
      "execution_count": null,
      "metadata": {
        "id": "_CBCV5QSJg4G"
      },
      "outputs": [],
      "source": [
        "a = [[90, 85, 82], [72, 88, 90]]\n",
        "print(id(a))\n",
        "b = a[0:]\n",
        "print(\"b: \", b)\n",
        "print(id(b))"
      ]
    },
    {
      "cell_type": "code",
      "execution_count": null,
      "metadata": {
        "id": "e9ljj0GaJg4G"
      },
      "outputs": [],
      "source": [
        "print('EQUAL?:', (a == b))\n",
        "print('SAME ?:', (a is b))"
      ]
    },
    {
      "cell_type": "markdown",
      "metadata": {
        "id": "tuu05I_cJg4G"
      },
      "source": [
        "- The items of list `b` are the same as those of list `a`.\n",
        "- `a` and `b` are different objects, **BUT**"
      ]
    },
    {
      "cell_type": "code",
      "execution_count": null,
      "metadata": {
        "id": "_mhjFGtWJg4G"
      },
      "outputs": [],
      "source": [
        "b[0][0] = 30\n",
        "print(\"b: \", b)\n",
        "print(\"a: \", a)"
      ]
    },
    {
      "cell_type": "code",
      "execution_count": null,
      "metadata": {
        "id": "PNp3Hqt3Jg4H"
      },
      "outputs": [],
      "source": [
        "print('EQUAL?:', (a == b))\n",
        "print('SAME ?:', (a is b))"
      ]
    },
    {
      "cell_type": "markdown",
      "metadata": {
        "id": "UgwzJlC8Jg4H"
      },
      "source": [
        "**Example 3: Copying Using the `list()` Function**\n",
        "\n",
        "- The `list()` function is used to create a list object from any iterable."
      ]
    },
    {
      "cell_type": "code",
      "execution_count": null,
      "metadata": {
        "id": "aL6kMz6VJg4H"
      },
      "outputs": [],
      "source": [
        "a = [[90, 85, 82], [72, 88, 90]]\n",
        "print(id(a))\n",
        "b = list(a)\n",
        "print(\"b: \", b)\n",
        "print(id(b))"
      ]
    },
    {
      "cell_type": "code",
      "execution_count": null,
      "metadata": {
        "id": "mBWPZ-ugJg4H"
      },
      "outputs": [],
      "source": [
        "b[0][0] = 30\n",
        "print(\"b: \", b)\n",
        "print(\"a: \", a)"
      ]
    },
    {
      "cell_type": "code",
      "execution_count": null,
      "metadata": {
        "id": "YxGXNT06Jg4H"
      },
      "outputs": [],
      "source": [
        "print('EQUAL?:', (a == b))\n",
        "print('SAME ?:', (a is b))"
      ]
    },
    {
      "cell_type": "markdown",
      "metadata": {
        "id": "5QRxI_DqJg4H"
      },
      "source": [
        "**Example 4: Copying using the `copy()` Function**"
      ]
    },
    {
      "cell_type": "code",
      "execution_count": null,
      "metadata": {
        "id": "vSUsipqMJg4I"
      },
      "outputs": [],
      "source": [
        "import copy\n",
        "\n",
        "a = [[90, 85, 82], [72, 88, 90]]\n",
        "print(id(a))\n",
        "print(a)\n",
        "b = copy.copy(a)\n",
        "print(id(b))\n",
        "\n",
        "# Change first year and first subject's marks to 30\n",
        "b[0][0] = 30\n",
        "\n",
        "print(\"Original List: \", a)\n",
        "print(\"Shallow Copy:  \", b)"
      ]
    },
    {
      "cell_type": "code",
      "execution_count": null,
      "metadata": {
        "id": "UUM1Ukv0Jg4I"
      },
      "outputs": [],
      "source": [
        "print('EQUAL?:', (a == b))\n",
        "print('SAME ?:', (a is b))"
      ]
    },
    {
      "cell_type": "markdown",
      "metadata": {
        "id": "awV69ntWJg4I"
      },
      "source": [
        "**<font color=\"blue\">Deep Copies in Python</font>**\n",
        "\n",
        "- A deep copy makes a new and separate copy of an entire object with its own unique memory address.\n",
        "- Any changes you make in the new copy of the object will not reflect in the original one.\n",
        "- This process happens by first creating a new object, followed by recursively copying the elements from the original one to the new one.\n",
        "- Both of the objects are completely independent of each other."
      ]
    },
    {
      "cell_type": "code",
      "execution_count": null,
      "metadata": {
        "id": "G-CFefDKJg4I"
      },
      "outputs": [],
      "source": [
        "import copy\n",
        "\n",
        "a = [[90, 85, 82], [72, 88, 90]]\n",
        "b = copy.deepcopy(a)\n",
        "\n",
        "# Change first year and first subject's marks to 30\n",
        "b[0][0] = 30\n",
        "\n",
        "print(\"Original List: \", a)\n",
        "print(\"Deep Copy:     \", b)"
      ]
    },
    {
      "cell_type": "code",
      "execution_count": null,
      "metadata": {
        "id": "uqzhJJzGJg4I"
      },
      "outputs": [],
      "source": [
        "print('EQUAL?:', (a == b))\n",
        "print('SAME ?:', (a is b))"
      ]
    },
    {
      "cell_type": "code",
      "execution_count": null,
      "metadata": {
        "id": "aZP_moccJg4I"
      },
      "outputs": [],
      "source": []
    }
  ],
  "metadata": {
    "colab": {
      "provenance": [],
      "include_colab_link": true
    },
    "kernelspec": {
      "display_name": "Python 3 (ipykernel)",
      "language": "python",
      "name": "python3"
    },
    "language_info": {
      "codemirror_mode": {
        "name": "ipython",
        "version": 3
      },
      "file_extension": ".py",
      "mimetype": "text/x-python",
      "name": "python",
      "nbconvert_exporter": "python",
      "pygments_lexer": "ipython3",
      "version": "3.10.10"
    }
  },
  "nbformat": 4,
  "nbformat_minor": 0
}